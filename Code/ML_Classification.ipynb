{
 "cells": [
  {
   "cell_type": "code",
   "execution_count": 1,
   "id": "794ad0f4",
   "metadata": {},
   "outputs": [],
   "source": [
    "import pandas as pd \n",
    "import numpy as np\n",
    "\n",
    "import sklearn\n",
    "import matplotlib.pyplot as plt\n",
    "\n",
    "from scipy.stats import norm\n",
    "import statistics\n",
    "import seaborn as sns\n",
    "from scipy.stats import f_oneway\n",
    "import scikit_posthocs as sp\n",
    "from scipy.stats import kruskal\n",
    "import statsmodels.stats.multicomp as mc\n",
    "\n",
    "from sklearn.model_selection import KFold\n",
    "from sklearn.model_selection import cross_val_score\n",
    "from sklearn.model_selection import train_test_split\n",
    "from sklearn.preprocessing import StandardScaler\n",
    "from sklearn.naive_bayes import GaussianNB\n",
    "from sklearn.naive_bayes import MultinomialNB\n",
    "from sklearn.metrics import accuracy_score\n",
    "from sklearn.metrics import accuracy_score, confusion_matrix\n",
    "from sklearn.metrics import confusion_matrix\n",
    "from sklearn.metrics import classification_report\n",
    "from mlxtend.plotting import plot_confusion_matrix\n",
    "from sklearn.ensemble import RandomForestClassifier\n",
    "from imblearn.over_sampling import SMOTE\n",
    "from sklearn.utils.class_weight import compute_sample_weight\n",
    "from imblearn.over_sampling import RandomOverSampler\n",
    "from sklearn.metrics import make_scorer\n",
    "from sklearn.metrics import f1_score\n",
    "\n"
   ]
  },
  {
   "cell_type": "markdown",
   "id": "6c718ab8",
   "metadata": {},
   "source": [
    "# Classification\n",
    "- This notebook will classify the different claims with the help of the significant features.\n",
    "- We import the computed Liar data frame and conduct several classification algorithms"
   ]
  },
  {
   "cell_type": "code",
   "execution_count": 16,
   "id": "4c67ed81",
   "metadata": {},
   "outputs": [],
   "source": [
    "df_classification = pd.read_csv('/Users/sandrobarreshamers/Thesis_IS_fake_news/ThesisData/Liar_computed_final_version.csv')\n"
   ]
  },
  {
   "cell_type": "code",
   "execution_count": 17,
   "id": "a234c594",
   "metadata": {},
   "outputs": [
    {
     "data": {
      "text/html": [
       "<div>\n",
       "<style scoped>\n",
       "    .dataframe tbody tr th:only-of-type {\n",
       "        vertical-align: middle;\n",
       "    }\n",
       "\n",
       "    .dataframe tbody tr th {\n",
       "        vertical-align: top;\n",
       "    }\n",
       "\n",
       "    .dataframe thead th {\n",
       "        text-align: right;\n",
       "    }\n",
       "</style>\n",
       "<table border=\"1\" class=\"dataframe\">\n",
       "  <thead>\n",
       "    <tr style=\"text-align: right;\">\n",
       "      <th></th>\n",
       "      <th>Unnamed: 0</th>\n",
       "      <th>json_id</th>\n",
       "      <th>claim</th>\n",
       "      <th>object</th>\n",
       "      <th>binary label</th>\n",
       "      <th>readability</th>\n",
       "      <th>compressed_size</th>\n",
       "      <th>vader_neg</th>\n",
       "      <th>vader_neu</th>\n",
       "      <th>vader_pos</th>\n",
       "      <th>...</th>\n",
       "      <th>pos_NOUN</th>\n",
       "      <th>pos_NUM</th>\n",
       "      <th>pos_PART</th>\n",
       "      <th>pos_PRON</th>\n",
       "      <th>pos_PROPN</th>\n",
       "      <th>pos_PUNCT</th>\n",
       "      <th>pos_SCONJ</th>\n",
       "      <th>pos_SYM</th>\n",
       "      <th>pos_VERB</th>\n",
       "      <th>pos_X</th>\n",
       "    </tr>\n",
       "  </thead>\n",
       "  <tbody>\n",
       "    <tr>\n",
       "      <th>0</th>\n",
       "      <td>0</td>\n",
       "      <td>10540.json</td>\n",
       "      <td>half-true</td>\n",
       "      <td>When did the decline of coal start? It started...</td>\n",
       "      <td>2</td>\n",
       "      <td>71.815000</td>\n",
       "      <td>11444</td>\n",
       "      <td>0.000</td>\n",
       "      <td>0.902</td>\n",
       "      <td>0.098</td>\n",
       "      <td>...</td>\n",
       "      <td>5.0</td>\n",
       "      <td>0.0</td>\n",
       "      <td>1.0</td>\n",
       "      <td>1.0</td>\n",
       "      <td>4.0</td>\n",
       "      <td>4.0</td>\n",
       "      <td>0.0</td>\n",
       "      <td>0.0</td>\n",
       "      <td>4.0</td>\n",
       "      <td>0.0</td>\n",
       "    </tr>\n",
       "    <tr>\n",
       "      <th>1</th>\n",
       "      <td>1</td>\n",
       "      <td>324.json</td>\n",
       "      <td>mostly-true</td>\n",
       "      <td>Hillary Clinton agrees with John McCain \"by vo...</td>\n",
       "      <td>2</td>\n",
       "      <td>71.781579</td>\n",
       "      <td>9089</td>\n",
       "      <td>0.107</td>\n",
       "      <td>0.687</td>\n",
       "      <td>0.206</td>\n",
       "      <td>...</td>\n",
       "      <td>2.0</td>\n",
       "      <td>0.0</td>\n",
       "      <td>1.0</td>\n",
       "      <td>0.0</td>\n",
       "      <td>7.0</td>\n",
       "      <td>3.0</td>\n",
       "      <td>0.0</td>\n",
       "      <td>0.0</td>\n",
       "      <td>3.0</td>\n",
       "      <td>0.0</td>\n",
       "    </tr>\n",
       "    <tr>\n",
       "      <th>2</th>\n",
       "      <td>2</td>\n",
       "      <td>1123.json</td>\n",
       "      <td>false</td>\n",
       "      <td>Health care reform legislation is likely to ma...</td>\n",
       "      <td>1</td>\n",
       "      <td>53.655000</td>\n",
       "      <td>5511</td>\n",
       "      <td>0.000</td>\n",
       "      <td>0.606</td>\n",
       "      <td>0.394</td>\n",
       "      <td>...</td>\n",
       "      <td>7.0</td>\n",
       "      <td>0.0</td>\n",
       "      <td>1.0</td>\n",
       "      <td>0.0</td>\n",
       "      <td>0.0</td>\n",
       "      <td>1.0</td>\n",
       "      <td>0.0</td>\n",
       "      <td>0.0</td>\n",
       "      <td>1.0</td>\n",
       "      <td>0.0</td>\n",
       "    </tr>\n",
       "    <tr>\n",
       "      <th>3</th>\n",
       "      <td>3</td>\n",
       "      <td>9028.json</td>\n",
       "      <td>half-true</td>\n",
       "      <td>The economic turnaround started at the end of ...</td>\n",
       "      <td>2</td>\n",
       "      <td>61.325000</td>\n",
       "      <td>4710</td>\n",
       "      <td>0.000</td>\n",
       "      <td>1.000</td>\n",
       "      <td>0.000</td>\n",
       "      <td>...</td>\n",
       "      <td>3.0</td>\n",
       "      <td>0.0</td>\n",
       "      <td>0.0</td>\n",
       "      <td>0.0</td>\n",
       "      <td>0.0</td>\n",
       "      <td>1.0</td>\n",
       "      <td>0.0</td>\n",
       "      <td>0.0</td>\n",
       "      <td>1.0</td>\n",
       "      <td>0.0</td>\n",
       "    </tr>\n",
       "    <tr>\n",
       "      <th>4</th>\n",
       "      <td>4</td>\n",
       "      <td>12465.json</td>\n",
       "      <td>true</td>\n",
       "      <td>The Chicago Bears have had more starting quart...</td>\n",
       "      <td>0</td>\n",
       "      <td>54.096667</td>\n",
       "      <td>12203</td>\n",
       "      <td>0.119</td>\n",
       "      <td>0.828</td>\n",
       "      <td>0.053</td>\n",
       "      <td>...</td>\n",
       "      <td>5.0</td>\n",
       "      <td>2.0</td>\n",
       "      <td>0.0</td>\n",
       "      <td>0.0</td>\n",
       "      <td>4.0</td>\n",
       "      <td>3.0</td>\n",
       "      <td>1.0</td>\n",
       "      <td>0.0</td>\n",
       "      <td>3.0</td>\n",
       "      <td>0.0</td>\n",
       "    </tr>\n",
       "  </tbody>\n",
       "</table>\n",
       "<p>5 rows × 51 columns</p>\n",
       "</div>"
      ],
      "text/plain": [
       "   Unnamed: 0     json_id        claim  \\\n",
       "0           0  10540.json    half-true   \n",
       "1           1    324.json  mostly-true   \n",
       "2           2   1123.json        false   \n",
       "3           3   9028.json    half-true   \n",
       "4           4  12465.json         true   \n",
       "\n",
       "                                              object  binary label  \\\n",
       "0  When did the decline of coal start? It started...             2   \n",
       "1  Hillary Clinton agrees with John McCain \"by vo...             2   \n",
       "2  Health care reform legislation is likely to ma...             1   \n",
       "3  The economic turnaround started at the end of ...             2   \n",
       "4  The Chicago Bears have had more starting quart...             0   \n",
       "\n",
       "   readability  compressed_size  vader_neg  vader_neu  vader_pos  ...  \\\n",
       "0    71.815000            11444      0.000      0.902      0.098  ...   \n",
       "1    71.781579             9089      0.107      0.687      0.206  ...   \n",
       "2    53.655000             5511      0.000      0.606      0.394  ...   \n",
       "3    61.325000             4710      0.000      1.000      0.000  ...   \n",
       "4    54.096667            12203      0.119      0.828      0.053  ...   \n",
       "\n",
       "   pos_NOUN  pos_NUM pos_PART pos_PRON  pos_PROPN  pos_PUNCT  pos_SCONJ  \\\n",
       "0       5.0      0.0      1.0      1.0        4.0        4.0        0.0   \n",
       "1       2.0      0.0      1.0      0.0        7.0        3.0        0.0   \n",
       "2       7.0      0.0      1.0      0.0        0.0        1.0        0.0   \n",
       "3       3.0      0.0      0.0      0.0        0.0        1.0        0.0   \n",
       "4       5.0      2.0      0.0      0.0        4.0        3.0        1.0   \n",
       "\n",
       "   pos_SYM  pos_VERB  pos_X  \n",
       "0      0.0       4.0    0.0  \n",
       "1      0.0       3.0    0.0  \n",
       "2      0.0       1.0    0.0  \n",
       "3      0.0       1.0    0.0  \n",
       "4      0.0       3.0    0.0  \n",
       "\n",
       "[5 rows x 51 columns]"
      ]
     },
     "execution_count": 17,
     "metadata": {},
     "output_type": "execute_result"
    }
   ],
   "source": [
    "df_classification.head()"
   ]
  },
  {
   "cell_type": "markdown",
   "id": "c72a8824",
   "metadata": {},
   "source": [
    "### Binary classification\n",
    "We exclude the 'In Between' labels from the data frame since we will conduct a binary classification."
   ]
  },
  {
   "cell_type": "code",
   "execution_count": 18,
   "id": "2dede82e",
   "metadata": {},
   "outputs": [],
   "source": [
    "Liar_computed = df_classification"
   ]
  },
  {
   "cell_type": "code",
   "execution_count": 26,
   "id": "7e2be52f",
   "metadata": {},
   "outputs": [
    {
     "name": "stdout",
     "output_type": "stream",
     "text": [
      "1676\n",
      "2833\n",
      "5730\n"
     ]
    }
   ],
   "source": [
    "from faKy import values_by_label, dunn_table\n",
    "labels = [0, 1, 2]\n",
    "df_label = 'binary label'\n",
    "\n",
    "df_Liar_true = Liar_computed[(Liar_computed['binary label'] == 0)]\n",
    "df_Liar_false = Liar_computed[(Liar_computed['binary label'] == 1)]\n",
    "df_Liar_between = Liar_computed[(Liar_computed['binary label'] == 2)]\n",
    "\n",
    "print(len(df_Liar_true))\n",
    "print(len(df_Liar_false))\n",
    "print(len(df_Liar_between))\n",
    "filtered_df = Liar_computed[(Liar_computed['binary label'].isin([0, 1, 2]))]"
   ]
  },
  {
   "cell_type": "markdown",
   "id": "c89d18e8",
   "metadata": {},
   "source": [
    "## Classification pre-face\n",
    "- in this code blocks, we prepare the data and set up the experiment to later classify the False and True label\n",
    "- Based on the previously conducted KST and Dunn tests, we now train the different models on the significant features\n",
    "- We divide the data in train and test data\n",
    "- we instantiate the K-fold cross validation for both the train and test data with k=5"
   ]
  },
  {
   "cell_type": "code",
   "execution_count": 27,
   "id": "3e3c3733",
   "metadata": {},
   "outputs": [],
   "source": [
    "significant_features = ['readability', 'compressed_size', 'tot_ner_count','NER_PERSON','NER_DATE','NER_CARDINAL','pos_NOUN', 'pos_ADJ',\n",
    "       'pos_VERB', 'pos_ADV', 'pos_ADP',\n",
    "       'pos_DET', 'pos_NUM', 'pos_PART', 'pos_PROPN',\n",
    "       'pos_PUNCT', 'pos_SCONJ']"
   ]
  },
  {
   "cell_type": "markdown",
   "id": "19dd32e9",
   "metadata": {},
   "source": [
    "### Train and Test data\n",
    "- In this code, we divide the code into test and train data. \n",
    "- Furthermore, this code snippet performs random oversampling on the training data to address the class imbalance.\n",
    "- It resamples the training data to increase the number of instances in the minority class by randomly replicating samples. \n",
    "- The resampled data is stored in X_train_resampled and y_train_resampled, which can be used for training a machine-learning model"
   ]
  },
  {
   "cell_type": "code",
   "execution_count": 28,
   "id": "deb18154",
   "metadata": {},
   "outputs": [],
   "source": [
    "from imblearn.over_sampling import RandomOverSampler\n",
    "X = filtered_df[significant_features]\n",
    "\n",
    "y = filtered_df['binary label']\n",
    "\n",
    "X_train, X_test, y_train, y_test = train_test_split(X, y, test_size=0.2, random_state=42)\n",
    "\n",
    "ros = RandomOverSampler(random_state=42)\n",
    "X_train_resampled, y_train_resampled = ros.fit_resample(X_train, y_train)\n"
   ]
  },
  {
   "cell_type": "code",
   "execution_count": 29,
   "id": "61076ee8",
   "metadata": {},
   "outputs": [
    {
     "name": "stdout",
     "output_type": "stream",
     "text": [
      "Initial number of train instances: \n",
      "Label : 0(True), counts:1676\n",
      "Label: 1(False), counts:2833\n",
      "Label: 2(IB), counts:5730\n",
      "\n",
      "Number of train instances after oversampling: \n",
      "Label : 0(True), counts:4565\n",
      "Label: 1(False), counts:4565\n",
      "Label: 2(IB), counts:4565\n",
      "\n"
     ]
    }
   ],
   "source": [
    "class_counts_init = filtered_df['binary label'].value_counts()\n",
    "print(f'Initial number of train instances: \\nLabel : 0(True), counts:{class_counts_init[0]}\\nLabel: 1(False), counts:{class_counts_init[1]}\\nLabel: 2(IB), counts:{class_counts_init[2]}\\n')\n",
    "\n",
    "class_counts_over = pd.Series(y_train_resampled).value_counts()\n",
    "print(f'Number of train instances after oversampling: \\nLabel : 0(True), counts:{class_counts_over[0]}\\nLabel: 1(False), counts:{class_counts_over[1]}\\nLabel: 2(IB), counts:{class_counts_over[2]}\\n')\n"
   ]
  },
  {
   "cell_type": "code",
   "execution_count": 71,
   "id": "1c06a89d",
   "metadata": {},
   "outputs": [
    {
     "name": "stdout",
     "output_type": "stream",
     "text": [
      "\\begin{tabular}{rlrr}\n",
      "\\toprule\n",
      " Label & Class &  Counts (initial) &  Counts (after oversampling) \\\\\n",
      "\\midrule\n",
      "     0 &  True &              1676 &                         4565 \\\\\n",
      "     1 & False &              2833 &                         4565 \\\\\n",
      "     2 &    IB &              5730 &                         4565 \\\\\n",
      "\\bottomrule\n",
      "\\end{tabular}\n",
      "\n"
     ]
    },
    {
     "name": "stderr",
     "output_type": "stream",
     "text": [
      "/var/folders/0q/8tgppr255xx8v40x26xhhmhr0000gn/T/ipykernel_900/1861720574.py:10: FutureWarning: In future versions `DataFrame.to_latex` is expected to utilise the base implementation of `Styler.to_latex` for formatting and rendering. The arguments signature may therefore change. It is recommended instead to use `DataFrame.style.to_latex` which also contains additional functionality.\n",
      "  latex_table = df.to_latex(index=False)\n"
     ]
    }
   ],
   "source": [
    "data = {\n",
    "    'Label': [0, 1, 2],\n",
    "    'Class': ['True', 'False', 'IB'],\n",
    "    'Counts (initial)': [class_counts_init[0], class_counts_init[1], class_counts_init[2]],\n",
    "    'Counts (after oversampling)': [class_counts_over[0], class_counts_over[1], class_counts_over[2]],\n",
    "}\n",
    "df = pd.DataFrame(data)\n",
    "\n",
    "latex_table = df.to_latex(index=False)\n",
    "\n",
    "print(latex_table)\n"
   ]
  },
  {
   "cell_type": "code",
   "execution_count": null,
   "id": "fdb20166",
   "metadata": {},
   "outputs": [],
   "source": []
  },
  {
   "cell_type": "code",
   "execution_count": 30,
   "id": "9ea32839",
   "metadata": {},
   "outputs": [],
   "source": [
    "import sklearn.metrics as metrics\n",
    "kfold_train = KFold(n_splits=5, shuffle=True, random_state=42)\n",
    "kfold_test = KFold(n_splits=5, shuffle=True, random_state=42)\n",
    "scorer = make_scorer(f1_score, average='macro')"
   ]
  },
  {
   "cell_type": "markdown",
   "id": "35d84a41",
   "metadata": {},
   "source": [
    "## Classification Algorithms\n",
    "- In the following code blocks, we perform the three ML classification algorithms discussed in the research paper; the three models are:\n",
    "  - Naive Bias\n",
    "  - Random Forest\n",
    "  - Gradient Booster \n",
    "  - Dummy classifier"
   ]
  },
  {
   "cell_type": "markdown",
   "id": "1941ac57",
   "metadata": {},
   "source": [
    "### Naive Bayes "
   ]
  },
  {
   "cell_type": "code",
   "execution_count": 95,
   "id": "d51d5670",
   "metadata": {},
   "outputs": [
    {
     "data": {
      "image/png": "[encoded data removed]",
      "text/plain": [
       "<Figure size 640x480 with 2 Axes>"
      ]
     },
     "metadata": {},
     "output_type": "display_data"
    }
   ],
   "source": [
    "from sklearn.naive_bayes import GaussianNB\n",
    "nb_model = GaussianNB()\n",
    "nb_model.fit(X_train_resampled, y_train_resampled)\n",
    "y_pred = nb_model.predict(X_test)\n",
    "accuracy = accuracy_score(y_test, y_pred)\n",
    "cm_NB =confusion_matrix(y_test, y_pred)\n",
    "fig, ax = plot_confusion_matrix(conf_mat=cm_NB,\n",
    "                                show_absolute=True,\n",
    "                                show_normed=True,\n",
    "                                colorbar=True)"
   ]
  },
  {
   "cell_type": "code",
   "execution_count": 32,
   "id": "4e7de477",
   "metadata": {},
   "outputs": [
    {
     "name": "stdout",
     "output_type": "stream",
     "text": [
      "f1 score k fold crss training data: 0.37, cv:(+/- 0.03)\n",
      "f1 score k fold cross for the test data: 0.33, cv:(+/- 0.05)\n"
     ]
    }
   ],
   "source": [
    "# Train\n",
    "scores_NB_train = cross_val_score(nb_model, X_train_resampled, y_train_resampled, cv=kfold_train, scoring='f1_macro')\n",
    "print(\"f1 score k fold crss training data: %0.2f, cv:(+/- %0.2f)\" % (scores_NB_train.mean(), \n",
    "                                                            (scores_NB_train.std()/scores_NB_train.mean())))\n",
    "\n",
    "# Test\n",
    "scores_NB_test = cross_val_score(nb_model, X_test, y_test, cv=kfold_test, scoring=scorer)\n",
    "print(\"f1 score k fold cross for the test data: %0.2f, cv:(+/- %0.2f)\" % (scores_NB_test.mean(), \n",
    "                                                            (scores_NB_test.std()/scores_NB_test.mean())))"
   ]
  },
  {
   "cell_type": "markdown",
   "id": "25d3d59d",
   "metadata": {},
   "source": [
    "### Random forrest"
   ]
  },
  {
   "cell_type": "code",
   "execution_count": 97,
   "id": "e7b87671",
   "metadata": {},
   "outputs": [
    {
     "name": "stdout",
     "output_type": "stream",
     "text": [
      "[[ 29  40 257]\n",
      " [ 30 128 399]\n",
      " [ 61 174 930]]\n"
     ]
    },
    {
     "data": {
      "image/png": "[encoded data removed]",
      "text/plain": [
       "<Figure size 640x480 with 2 Axes>"
      ]
     },
     "metadata": {},
     "output_type": "display_data"
    }
   ],
   "source": [
    "clf = RandomForestClassifier(n_estimators=100, random_state=42)\n",
    "clf.fit(X_train_resampled, y_train_resampled)\n",
    "y_pred = clf.predict(X_test)\n",
    "\n",
    "\n",
    "cm_RF =confusion_matrix(y_test, y_pred)\n",
    "fig, ax = plot_confusion_matrix(conf_mat=cm_RF,\n",
    "                                show_absolute=True,\n",
    "                                show_normed=True,\n",
    "                                colorbar=True)\n",
    "\n",
    "# improved from 51% to 55%\n",
    "print(cm_RF)"
   ]
  },
  {
   "cell_type": "code",
   "execution_count": 98,
   "id": "407c561d",
   "metadata": {},
   "outputs": [
    {
     "data": {
      "text/plain": [
       "<Figure size 640x480 with 0 Axes>"
      ]
     },
     "metadata": {},
     "output_type": "display_data"
    }
   ],
   "source": [
    "plt.savefig('RF_confusion_matrix.svg', format='svg')"
   ]
  },
  {
   "cell_type": "code",
   "execution_count": 99,
   "id": "6c0f52ef",
   "metadata": {},
   "outputs": [
    {
     "name": "stdout",
     "output_type": "stream",
     "text": [
      "f1 score k fold cross training data: 0.82 (+/- 0.01)\n",
      "f1 score k fold cross for the test data: 0.30 (+/- 0.07)\n"
     ]
    }
   ],
   "source": [
    "# Train\n",
    "scores_RF_train = cross_val_score(clf, X_train_resampled, y_train_resampled, cv=kfold_train, scoring='f1_macro')\n",
    "print(\"f1 score k fold cross training data: %0.2f (+/- %0.2f)\" % (scores_RF_train.mean(), \n",
    "                                                            (scores_RF_train.std()/scores_RF_train.mean())))\n",
    "\n",
    "#Test\n",
    "scores_RF_test = cross_val_score(clf, X_test, y_test, cv=kfold_test, scoring=scorer)\n",
    "print(\"f1 score k fold cross for the test data: %0.2f (+/- %0.2f)\" % (scores_RF_test.mean(), \n",
    "                                                            (scores_RF_test.std()/scores_RF_test.mean())))"
   ]
  },
  {
   "cell_type": "markdown",
   "id": "29af9d59",
   "metadata": {},
   "source": [
    "### Gradient Booster"
   ]
  },
  {
   "cell_type": "code",
   "execution_count": 100,
   "id": "0eefc78b",
   "metadata": {},
   "outputs": [],
   "source": [
    "from sklearn.ensemble import GradientBoostingClassifier\n",
    "from sklearn.metrics import classification_report"
   ]
  },
  {
   "cell_type": "code",
   "execution_count": 101,
   "id": "413fe9bb",
   "metadata": {},
   "outputs": [
    {
     "name": "stdout",
     "output_type": "stream",
     "text": [
      "              precision    recall  f1-score   support\n",
      "\n",
      "           0       0.20      0.46      0.28       326\n",
      "           1       0.35      0.43      0.39       557\n",
      "           2       0.60      0.31      0.41      1165\n",
      "\n",
      "    accuracy                           0.37      2048\n",
      "   macro avg       0.38      0.40      0.36      2048\n",
      "weighted avg       0.47      0.37      0.38      2048\n",
      "\n"
     ]
    },
    {
     "data": {
      "image/png": "[encoded data removed]",
      "text/plain": [
       "<Figure size 640x480 with 2 Axes>"
      ]
     },
     "metadata": {},
     "output_type": "display_data"
    }
   ],
   "source": [
    "gb_clf = GradientBoostingClassifier(n_estimators=100, learning_rate=0.08, max_depth=2, subsample=0.5, random_state=42)\n",
    "gb_clf.fit(X_train_resampled, y_train_resampled)\n",
    "y_pred = gb_clf.predict(X_test)\n",
    "print(classification_report(y_test, y_pred))\n",
    "cm_GB = confusion_matrix(y_test, y_pred)\n",
    "fig, ax = plot_confusion_matrix(conf_mat=cm_GB,\n",
    "                                show_absolute=True,\n",
    "                                show_normed=True,\n",
    "                                colorbar=True)\n",
    "\n"
   ]
  },
  {
   "cell_type": "code",
   "execution_count": 79,
   "id": "6ce9686a",
   "metadata": {},
   "outputs": [
    {
     "name": "stdout",
     "output_type": "stream",
     "text": [
      "f1 score k fold corss train:0.44 cf:(+/- 0.03)\n",
      "f1 score k fold cross for the test data: 0.28 cf:(+/- 0.05)\n"
     ]
    }
   ],
   "source": [
    "#Train\n",
    "scores_GB_train = cross_val_score(gb_clf, X_train_resampled, y_train_resampled, cv=kfold_train, scoring='f1_macro')\n",
    "print(\"f1 score k fold corss train:%0.2f cf:(+/- %0.2f)\" % (scores_GB_train.mean(), \n",
    "                                                            (scores_GB_train.std()/scores_GB_train.mean())))\n",
    "\n",
    "#Test\n",
    "scores_GB_test = cross_val_score(gb_clf, X_test, y_test, cv=kfold_test, scoring=scorer)\n",
    "print(\"f1 score k fold cross for the test data: %0.2f cf:(+/- %0.2f)\" % (scores_GB_test.mean(), \n",
    "                                                            (scores_GB_test.std()/scores_GB_test.mean())))"
   ]
  },
  {
   "cell_type": "markdown",
   "id": "67bbc800",
   "metadata": {},
   "source": [
    "### Baseline"
   ]
  },
  {
   "cell_type": "code",
   "execution_count": 103,
   "id": "f4d5fabb",
   "metadata": {},
   "outputs": [],
   "source": [
    "from sklearn.dummy import DummyClassifier\n",
    "\n",
    "dummy_clf = DummyClassifier(strategy=\"uniform\")\n",
    "dummy_clf.fit(X_train, y_train)\n",
    "y_pred_stratified = dummy_clf.predict(X_test)\n",
    "accuracy_stratified = accuracy_score(y_test, y_pred_stratified)\n"
   ]
  },
  {
   "cell_type": "code",
   "execution_count": 104,
   "id": "c6c3e247",
   "metadata": {},
   "outputs": [
    {
     "data": {
      "image/png": "[encoded data removed]",
      "text/plain": [
       "<Figure size 640x480 with 2 Axes>"
      ]
     },
     "metadata": {},
     "output_type": "display_data"
    }
   ],
   "source": [
    "cm_dummy =confusion_matrix(y_test, y_pred_majority)\n",
    "fig, ax = plot_confusion_matrix(conf_mat=cm_dummy,\n",
    "                                show_absolute=True,\n",
    "                                show_normed=True,\n",
    "                                colorbar=True)\n",
    "\n"
   ]
  },
  {
   "cell_type": "code",
   "execution_count": 91,
   "id": "335d0dc2",
   "metadata": {},
   "outputs": [
    {
     "name": "stdout",
     "output_type": "stream",
     "text": [
      "f1 score k fold cross training data:0.33 (+/- 0.00)\n",
      "f1 score k fold cross for the test data: 0.32 (+/- 0.02)\n"
     ]
    }
   ],
   "source": [
    "# Train\n",
    "scores_Dummy_train = cross_val_score(dummy_clf, X_train_resampled, y_train_resampled, cv=kfold_train, scoring='f1_macro')\n",
    "print(\"f1 score k fold cross training data:%0.2f (+/- %0.2f)\" % (scores_Dummy_train.mean(), scores_Dummy_train.std()))\n",
    "\n",
    "#Test\n",
    "scores_Dummy_test = cross_val_score(dummy_clf, X_test, y_test, cv=kfold_train, scoring='f1_macro')\n",
    "print(\"f1 score k fold cross for the test data: %0.2f (+/- %0.2f)\" % (scores_Dummy_test.mean(), scores_Dummy_test.std()))"
   ]
  },
  {
   "cell_type": "markdown",
   "id": "e9e486d8",
   "metadata": {},
   "source": [
    "# Evaluation\n",
    "- In this code block, the different classification ML models are evaluated and compared against each other\n",
    "- Subsequently, the evaluation is displayed in a table and later printed in latex format\n",
    "- this latex format is used in the research paper"
   ]
  },
  {
   "cell_type": "code",
   "execution_count": 93,
   "id": "80c955b1",
   "metadata": {},
   "outputs": [
    {
     "name": "stdout",
     "output_type": "stream",
     "text": [
      "                  F1 Score Test (%) F1 Score Train (%)   TP   FP   FN   TN  \\\n",
      "Model                                                                        \n",
      "Naive Bayes        33.40 (+/- 4.56)   37.24 (+/- 2.98)  150  121  174  303   \n",
      "Random Forest      29.54 (+/- 6.85)   82.38 (+/- 0.57)   29   40   30  128   \n",
      "Gradient Boosting  27.80 (+/- 5.16)   44.07 (+/- 3.02)  151   80  165  242   \n",
      "Dummy              31.75 (+/- 4.91)   33.00 (+/- 0.52)  326    0  557    0   \n",
      "\n",
      "                   Relative Improvement (%)  \n",
      "Model                                        \n",
      "Naive Bayes                            5.19  \n",
      "Random Forest                         -6.95  \n",
      "Gradient Boosting                    -12.45  \n",
      "Dummy                                  0.00  \n"
     ]
    }
   ],
   "source": [
    "import pandas as pd\n",
    "import numpy as np\n",
    "\n",
    "\n",
    "metrics = ['F1 Score Test', 'F1 Score Train', 'TP', 'FP', 'FN', 'TN', 'Relative Improvement']\n",
    "model_names = ['Naive Bayes', 'Random Forest', 'Gradient Boosting','Dummy']\n",
    "\n",
    "Relative_Improvement_NB = (np.mean(scores_NB_test)-np.mean(scores_Dummy_test))/np.mean(scores_Dummy_test) * 100\n",
    "Relative_Improvement_RF = (np.mean(scores_RF_test)-np.mean(scores_Dummy_test))/np.mean(scores_Dummy_test) * 100\n",
    "Relative_Improvement_GB = (np.mean(scores_GB_test)-np.mean(scores_Dummy_test))/np.mean(scores_Dummy_test) * 100\n",
    "Relative_Improvement_DC = (np.mean(scores_Dummy_test)-np.mean(scores_Dummy_test))/np.mean(scores_Dummy_test) * 100\n",
    "\n",
    "\n",
    "scores_NB = [np.mean(scores_NB_test) * 100, np.mean(scores_NB_train) * 100, cm_NB[0,0], cm_NB[0,1], cm_NB[1,0], cm_NB[1,1], Relative_Improvement_NB]\n",
    "scores_RF = [np.mean(scores_RF_test) * 100, np.mean(scores_RF_train) * 100, cm_RF[0,0], cm_RF[0,1], cm_RF[1,0], cm_RF[1,1], Relative_Improvement_RF]\n",
    "scores_GB = [np.mean(scores_GB_test) * 100, np.mean(scores_GB_train) * 100, cm_GB[0,0], cm_GB[0,1], cm_GB[1,0], cm_GB[1,1], Relative_Improvement_GB]\n",
    "scores_DC = [np.mean(scores_Dummy_test) * 100, np.mean(scores_Dummy_train) * 100, cm_dummy[0,0], cm_dummy[0,1], cm_dummy[1,0], cm_dummy[1,1], Relative_Improvement_DC]\n",
    "\n",
    "\n",
    "eval_df = pd.DataFrame({\n",
    "    'Model': model_names,\n",
    "    'F1 Score Test (%)': [f\"{np.mean(scores_NB_test) * 100:.2f} (+/- {(scores_NB_test.std()/scores_NB_test.mean()) * 100:.2f})\",\n",
    "                          f\"{np.mean(scores_RF_test) * 100:.2f} (+/- {(scores_RF_test.std()/scores_RF_test.mean()) * 100:.2f})\",\n",
    "                          f\"{np.mean(scores_GB_test) * 100:.2f} (+/- {(scores_GB_test.std()/scores_GB_test.mean()) * 100:.2f})\",\n",
    "                          f\"{np.mean(scores_Dummy_test) * 100:.2f} (+/- {(scores_Dummy_test.std()/scores_Dummy_test.mean()) * 100:.2f})\"],\n",
    "    'F1 Score Train (%)': [f\"{np.mean(scores_NB_train) * 100:.2f} (+/- {(scores_NB_train.std()/scores_NB_train.mean()) * 100:.2f})\",\n",
    "                           f\"{np.mean(scores_RF_train) * 100:.2f} (+/- {(scores_RF_train.std()/scores_RF_train.mean()) * 100:.2f})\",\n",
    "                           f\"{np.mean(scores_GB_train) * 100:.2f} (+/- {(scores_GB_train.std()/scores_GB_train.mean()) * 100:.2f})\",\n",
    "                           f\"{np.mean(scores_Dummy_train) * 100:.2f} (+/- {(scores_Dummy_train.std()/scores_Dummy_train.mean()) * 100:.2f})\"],\n",
    "    'TP': [scores_NB[2], scores_RF[2], scores_GB[2],scores_DC[2]],\n",
    "    'FP': [scores_NB[3], scores_RF[3], scores_GB[3],scores_DC[3]],\n",
    "    'FN': [scores_NB[4], scores_RF[4], scores_GB[4],scores_DC[4]],\n",
    "    'TN': [scores_NB[5], scores_RF[5], scores_GB[5],scores_DC[5]],\n",
    "    'Relative Improvement (%)': [round(scores_NB[6], 2), round(scores_RF[6], 2), round(scores_GB[6], 2), round(scores_DC[6],2)]\n",
    "})\n",
    "\n",
    "\n",
    "\n",
    "eval_df.set_index('Model', inplace=True)\n",
    "\n",
    "print(eval_df)\n"
   ]
  },
  {
   "cell_type": "code",
   "execution_count": 85,
   "id": "bffe82e6",
   "metadata": {},
   "outputs": [
    {
     "name": "stdout",
     "output_type": "stream",
     "text": [
      "\\begin{tabular}{lllrrrrr}\n",
      "\\toprule\n",
      "{} & F1 Score Test (\\%) & F1 Score Train (\\%) &   TP &   FP &   FN &   TN &  Relative Improvement (\\%) \\\\\n",
      "Model             &                   &                    &      &      &      &      &                           \\\\\n",
      "\\midrule\n",
      "Naive Bayes       &  33.40 (+/- 4.56) &   37.24 (+/- 2.98) &  150 &  121 &  174 &  303 &                      4.42 \\\\\n",
      "Random Forest     &  29.54 (+/- 6.85) &   82.38 (+/- 0.57) &   29 &   40 &   30 &  128 &                     -7.63 \\\\\n",
      "Gradient Boosting &  27.80 (+/- 5.16) &   44.07 (+/- 3.02) &  151 &   80 &  165 &  242 &                    -13.09 \\\\\n",
      "Dummy             &  31.99 (+/- 2.85) &   33.64 (+/- 3.23) &  326 &    0 &  557 &    0 &                      0.00 \\\\\n",
      "\\bottomrule\n",
      "\\end{tabular}\n",
      "\n"
     ]
    },
    {
     "name": "stderr",
     "output_type": "stream",
     "text": [
      "/var/folders/0q/8tgppr255xx8v40x26xhhmhr0000gn/T/ipykernel_900/3099801597.py:1: FutureWarning: In future versions `DataFrame.to_latex` is expected to utilise the base implementation of `Styler.to_latex` for formatting and rendering. The arguments signature may therefore change. It is recommended instead to use `DataFrame.style.to_latex` which also contains additional functionality.\n",
      "  latex_table_ML_eval = eval_df.to_latex(index=True, float_format=lambda x: \"%.2f\" % x)\n"
     ]
    }
   ],
   "source": [
    "latex_table_ML_eval = eval_df.to_latex(index=True, float_format=lambda x: \"%.2f\" % x)\n",
    "print(latex_table_ML_eval)"
   ]
  },
  {
   "cell_type": "markdown",
   "id": "3028afa7",
   "metadata": {},
   "source": [
    "### End of notebook"
   ]
  }
 ],
 "metadata": {
  "kernelspec": {
   "display_name": "Python 3 (ipykernel)",
   "language": "python",
   "name": "python3"
  },
  "language_info": {
   "codemirror_mode": {
    "name": "ipython",
    "version": 3
   },
   "file_extension": ".py",
   "mimetype": "text/x-python",
   "name": "python",
   "nbconvert_exporter": "python",
   "pygments_lexer": "ipython3",
   "version": "3.8.13"
  }
 },
 "nbformat": 4,
 "nbformat_minor": 5
}
