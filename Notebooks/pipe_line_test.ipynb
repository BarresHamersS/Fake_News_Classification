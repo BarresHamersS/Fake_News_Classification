{
 "cells": [
  {
   "cell_type": "code",
   "execution_count": 1,
   "id": "12d768e8",
   "metadata": {},
   "outputs": [],
   "source": [
    "#basic libraries\n",
    "import os\n",
    "import pandas as pd \n",
    "import numpy as np\n",
    "import requests\n",
    "import json\n",
    "import glob\n",
    "import pickle\n",
    "\n",
    "#Visiualization and ML libraries\n",
    "import sklearn\n",
    "import matplotlib.pyplot as plt\n",
    "\n",
    "from scipy.stats import norm\n",
    "import statistics\n",
    "import seaborn as sns\n",
    "\n",
    "from sklearn.model_selection import KFold\n",
    "from sklearn.model_selection import cross_val_score"
   ]
  },
  {
   "cell_type": "code",
   "execution_count": 2,
   "id": "1bcc72bc",
   "metadata": {},
   "outputs": [],
   "source": [
    "df = pd.read_table('https://raw.githubusercontent.com/tfs4/liar_dataset/master/train.tsv')\n",
    "df.columns =['json_id', 'claim', 'object', 'topic', 'speaker', 'job_title (string)','state_info (string)','party_affiliation (string)','barely_true_counts (float32)','false_counts (float32)','half_true_counts (float32)','\tmostly_true_counts (float32)','\tpants_on_fire_counts (float32)','context (string)']\n",
    "df2 = df[['json_id', 'claim','object']].copy()"
   ]
  },
  {
   "cell_type": "code",
   "execution_count": 3,
   "id": "9edc8a49",
   "metadata": {},
   "outputs": [
    {
     "name": "stdout",
     "output_type": "stream",
     "text": [
      "      json_id        claim                                             object\n",
      "0  10540.json    half-true  When did the decline of coal start? It started...\n",
      "1    324.json  mostly-true  Hillary Clinton agrees with John McCain \"by vo...\n",
      "2   1123.json        false  Health care reform legislation is likely to ma...\n",
      "3   9028.json    half-true  The economic turnaround started at the end of ...\n",
      "4  12465.json         true  The Chicago Bears have had more starting quart...\n",
      "5   2342.json  barely-true  Jim Dunnam has not lived in the district he re...\n",
      "6    153.json    half-true  I'm the only person on this stage who has work...\n",
      "7   5602.json    half-true  However, it took $19.5 million in Oregon Lotte...\n",
      "8   9741.json  mostly-true  Says GOP primary opponents Glenn Grothman and ...\n",
      "9   7115.json  mostly-true  For the first time in history, the share of th...\n"
     ]
    }
   ],
   "source": [
    "df_test = df2.head(10)\n",
    "print(df_test)"
   ]
  },
  {
   "cell_type": "code",
   "execution_count": 4,
   "id": "886e8d02",
   "metadata": {},
   "outputs": [
    {
     "name": "stderr",
     "output_type": "stream",
     "text": [
      "[nltk_data] Downloading package vader_lexicon to\n",
      "[nltk_data]     /Users/sandrobarreshamers/nltk_data...\n",
      "[nltk_data]   Package vader_lexicon is already up-to-date!\n",
      "/var/folders/0q/8tgppr255xx8v40x26xhhmhr0000gn/T/ipykernel_3939/3174439415.py:3: SettingWithCopyWarning: \n",
      "A value is trying to be set on a copy of a slice from a DataFrame.\n",
      "Try using .loc[row_indexer,col_indexer] = value instead\n",
      "\n",
      "See the caveats in the documentation: https://pandas.pydata.org/pandas-docs/stable/user_guide/indexing.html#returning-a-view-versus-a-copy\n",
      "  df_test[['flesch_kincaid_reading_ease', 'compressed_size', 'vader_neg', 'vader_neu', 'vader_pos', 'vader_compound']] = df_test['object'].apply(process_text).apply(pd.Series)\n",
      "/var/folders/0q/8tgppr255xx8v40x26xhhmhr0000gn/T/ipykernel_3939/3174439415.py:3: SettingWithCopyWarning: \n",
      "A value is trying to be set on a copy of a slice from a DataFrame.\n",
      "Try using .loc[row_indexer,col_indexer] = value instead\n",
      "\n",
      "See the caveats in the documentation: https://pandas.pydata.org/pandas-docs/stable/user_guide/indexing.html#returning-a-view-versus-a-copy\n",
      "  df_test[['flesch_kincaid_reading_ease', 'compressed_size', 'vader_neg', 'vader_neu', 'vader_pos', 'vader_compound']] = df_test['object'].apply(process_text).apply(pd.Series)\n",
      "/var/folders/0q/8tgppr255xx8v40x26xhhmhr0000gn/T/ipykernel_3939/3174439415.py:3: SettingWithCopyWarning: \n",
      "A value is trying to be set on a copy of a slice from a DataFrame.\n",
      "Try using .loc[row_indexer,col_indexer] = value instead\n",
      "\n",
      "See the caveats in the documentation: https://pandas.pydata.org/pandas-docs/stable/user_guide/indexing.html#returning-a-view-versus-a-copy\n",
      "  df_test[['flesch_kincaid_reading_ease', 'compressed_size', 'vader_neg', 'vader_neu', 'vader_pos', 'vader_compound']] = df_test['object'].apply(process_text).apply(pd.Series)\n",
      "/var/folders/0q/8tgppr255xx8v40x26xhhmhr0000gn/T/ipykernel_3939/3174439415.py:3: SettingWithCopyWarning: \n",
      "A value is trying to be set on a copy of a slice from a DataFrame.\n",
      "Try using .loc[row_indexer,col_indexer] = value instead\n",
      "\n",
      "See the caveats in the documentation: https://pandas.pydata.org/pandas-docs/stable/user_guide/indexing.html#returning-a-view-versus-a-copy\n",
      "  df_test[['flesch_kincaid_reading_ease', 'compressed_size', 'vader_neg', 'vader_neu', 'vader_pos', 'vader_compound']] = df_test['object'].apply(process_text).apply(pd.Series)\n",
      "/var/folders/0q/8tgppr255xx8v40x26xhhmhr0000gn/T/ipykernel_3939/3174439415.py:3: SettingWithCopyWarning: \n",
      "A value is trying to be set on a copy of a slice from a DataFrame.\n",
      "Try using .loc[row_indexer,col_indexer] = value instead\n",
      "\n",
      "See the caveats in the documentation: https://pandas.pydata.org/pandas-docs/stable/user_guide/indexing.html#returning-a-view-versus-a-copy\n",
      "  df_test[['flesch_kincaid_reading_ease', 'compressed_size', 'vader_neg', 'vader_neu', 'vader_pos', 'vader_compound']] = df_test['object'].apply(process_text).apply(pd.Series)\n",
      "/var/folders/0q/8tgppr255xx8v40x26xhhmhr0000gn/T/ipykernel_3939/3174439415.py:3: SettingWithCopyWarning: \n",
      "A value is trying to be set on a copy of a slice from a DataFrame.\n",
      "Try using .loc[row_indexer,col_indexer] = value instead\n",
      "\n",
      "See the caveats in the documentation: https://pandas.pydata.org/pandas-docs/stable/user_guide/indexing.html#returning-a-view-versus-a-copy\n",
      "  df_test[['flesch_kincaid_reading_ease', 'compressed_size', 'vader_neg', 'vader_neu', 'vader_pos', 'vader_compound']] = df_test['object'].apply(process_text).apply(pd.Series)\n"
     ]
    }
   ],
   "source": [
    "from pipe_line import readability_computation, compress_doc,count_named_entities, VADER_score, process_text\n",
    "\n",
    "df_test[['flesch_kincaid_reading_ease', 'compressed_size', 'vader_neg', 'vader_neu', 'vader_pos', 'vader_compound']] = df_test['object'].apply(process_text).apply(pd.Series)\n"
   ]
  },
  {
   "cell_type": "code",
   "execution_count": 5,
   "id": "e4f14b72",
   "metadata": {},
   "outputs": [
    {
     "name": "stderr",
     "output_type": "stream",
     "text": [
      "/var/folders/0q/8tgppr255xx8v40x26xhhmhr0000gn/T/ipykernel_3939/2386422010.py:1: SettingWithCopyWarning: \n",
      "A value is trying to be set on a copy of a slice from a DataFrame.\n",
      "Try using .loc[row_indexer,col_indexer] = value instead\n",
      "\n",
      "See the caveats in the documentation: https://pandas.pydata.org/pandas-docs/stable/user_guide/indexing.html#returning-a-view-versus-a-copy\n",
      "  df_test['num_entities'] = df_test['object'].apply(count_named_entities)\n"
     ]
    }
   ],
   "source": [
    "df_test['num_entities'] = df_test['object'].apply(count_named_entities)"
   ]
  },
  {
   "cell_type": "code",
   "execution_count": 6,
   "id": "8438ddc6",
   "metadata": {},
   "outputs": [
    {
     "data": {
      "text/html": [
       "<div>\n",
       "<style scoped>\n",
       "    .dataframe tbody tr th:only-of-type {\n",
       "        vertical-align: middle;\n",
       "    }\n",
       "\n",
       "    .dataframe tbody tr th {\n",
       "        vertical-align: top;\n",
       "    }\n",
       "\n",
       "    .dataframe thead th {\n",
       "        text-align: right;\n",
       "    }\n",
       "</style>\n",
       "<table border=\"1\" class=\"dataframe\">\n",
       "  <thead>\n",
       "    <tr style=\"text-align: right;\">\n",
       "      <th></th>\n",
       "      <th>json_id</th>\n",
       "      <th>claim</th>\n",
       "      <th>object</th>\n",
       "      <th>flesch_kincaid_reading_ease</th>\n",
       "      <th>compressed_size</th>\n",
       "      <th>vader_neg</th>\n",
       "      <th>vader_neu</th>\n",
       "      <th>vader_pos</th>\n",
       "      <th>vader_compound</th>\n",
       "      <th>num_entities</th>\n",
       "    </tr>\n",
       "  </thead>\n",
       "  <tbody>\n",
       "    <tr>\n",
       "      <th>0</th>\n",
       "      <td>10540.json</td>\n",
       "      <td>half-true</td>\n",
       "      <td>When did the decline of coal start? It started...</td>\n",
       "      <td>71.815000</td>\n",
       "      <td>11447.0</td>\n",
       "      <td>0.000</td>\n",
       "      <td>0.902</td>\n",
       "      <td>0.098</td>\n",
       "      <td>0.3612</td>\n",
       "      <td>2</td>\n",
       "    </tr>\n",
       "    <tr>\n",
       "      <th>1</th>\n",
       "      <td>324.json</td>\n",
       "      <td>mostly-true</td>\n",
       "      <td>Hillary Clinton agrees with John McCain \"by vo...</td>\n",
       "      <td>71.781579</td>\n",
       "      <td>9087.0</td>\n",
       "      <td>0.107</td>\n",
       "      <td>0.687</td>\n",
       "      <td>0.206</td>\n",
       "      <td>0.3182</td>\n",
       "      <td>4</td>\n",
       "    </tr>\n",
       "    <tr>\n",
       "      <th>2</th>\n",
       "      <td>1123.json</td>\n",
       "      <td>false</td>\n",
       "      <td>Health care reform legislation is likely to ma...</td>\n",
       "      <td>53.655000</td>\n",
       "      <td>5510.0</td>\n",
       "      <td>0.000</td>\n",
       "      <td>0.606</td>\n",
       "      <td>0.394</td>\n",
       "      <td>0.7579</td>\n",
       "      <td>0</td>\n",
       "    </tr>\n",
       "    <tr>\n",
       "      <th>3</th>\n",
       "      <td>9028.json</td>\n",
       "      <td>half-true</td>\n",
       "      <td>The economic turnaround started at the end of ...</td>\n",
       "      <td>61.325000</td>\n",
       "      <td>4707.0</td>\n",
       "      <td>0.000</td>\n",
       "      <td>1.000</td>\n",
       "      <td>0.000</td>\n",
       "      <td>0.0000</td>\n",
       "      <td>0</td>\n",
       "    </tr>\n",
       "    <tr>\n",
       "      <th>4</th>\n",
       "      <td>12465.json</td>\n",
       "      <td>true</td>\n",
       "      <td>The Chicago Bears have had more starting quart...</td>\n",
       "      <td>54.096667</td>\n",
       "      <td>12203.0</td>\n",
       "      <td>0.119</td>\n",
       "      <td>0.828</td>\n",
       "      <td>0.053</td>\n",
       "      <td>-0.4601</td>\n",
       "      <td>3</td>\n",
       "    </tr>\n",
       "  </tbody>\n",
       "</table>\n",
       "</div>"
      ],
      "text/plain": [
       "      json_id        claim                                             object  \\\n",
       "0  10540.json    half-true  When did the decline of coal start? It started...   \n",
       "1    324.json  mostly-true  Hillary Clinton agrees with John McCain \"by vo...   \n",
       "2   1123.json        false  Health care reform legislation is likely to ma...   \n",
       "3   9028.json    half-true  The economic turnaround started at the end of ...   \n",
       "4  12465.json         true  The Chicago Bears have had more starting quart...   \n",
       "\n",
       "   flesch_kincaid_reading_ease  compressed_size  vader_neg  vader_neu  \\\n",
       "0                    71.815000          11447.0      0.000      0.902   \n",
       "1                    71.781579           9087.0      0.107      0.687   \n",
       "2                    53.655000           5510.0      0.000      0.606   \n",
       "3                    61.325000           4707.0      0.000      1.000   \n",
       "4                    54.096667          12203.0      0.119      0.828   \n",
       "\n",
       "   vader_pos  vader_compound  num_entities  \n",
       "0      0.098          0.3612             2  \n",
       "1      0.206          0.3182             4  \n",
       "2      0.394          0.7579             0  \n",
       "3      0.000          0.0000             0  \n",
       "4      0.053         -0.4601             3  "
      ]
     },
     "execution_count": 6,
     "metadata": {},
     "output_type": "execute_result"
    }
   ],
   "source": [
    "df_test.head()"
   ]
  },
  {
   "cell_type": "code",
   "execution_count": 7,
   "id": "3c767bb0",
   "metadata": {},
   "outputs": [],
   "source": [
    "from pipe_line import count_pos\n",
    "\n"
   ]
  },
  {
   "cell_type": "code",
   "execution_count": 8,
   "id": "5ff57186",
   "metadata": {},
   "outputs": [
    {
     "data": {
      "text/plain": [
       "{'DET': 3,\n",
       " 'NOUN': 8,\n",
       " 'AUX': 4,\n",
       " 'PROPN': 5,\n",
       " 'CCONJ': 3,\n",
       " 'ADV': 1,\n",
       " 'VERB': 1,\n",
       " 'ADP': 2,\n",
       " 'PUNCT': 4,\n",
       " 'ADJ': 2}"
      ]
     },
     "execution_count": 8,
     "metadata": {},
     "output_type": "execute_result"
    }
   ],
   "source": [
    "fake_string = 'The earth is falt and also made of ailens and reptiles, joe biden is the devil and pizza gate is real wwatch out people, democrats are the new nazis,.'\n",
    "\n",
    "count_pos(fake_string)\n"
   ]
  },
  {
   "cell_type": "code",
   "execution_count": 9,
   "id": "ccda41dd",
   "metadata": {},
   "outputs": [
    {
     "name": "stderr",
     "output_type": "stream",
     "text": [
      "/var/folders/0q/8tgppr255xx8v40x26xhhmhr0000gn/T/ipykernel_3939/2878837005.py:1: SettingWithCopyWarning: \n",
      "A value is trying to be set on a copy of a slice from a DataFrame.\n",
      "Try using .loc[row_indexer,col_indexer] = value instead\n",
      "\n",
      "See the caveats in the documentation: https://pandas.pydata.org/pandas-docs/stable/user_guide/indexing.html#returning-a-view-versus-a-copy\n",
      "  df_test['pos_counts'] = df_test['object'].apply(count_pos)\n"
     ]
    }
   ],
   "source": [
    "df_test['pos_counts'] = df_test['object'].apply(count_pos)\n"
   ]
  },
  {
   "cell_type": "code",
   "execution_count": 10,
   "id": "68ce74d4",
   "metadata": {},
   "outputs": [],
   "source": [
    "from pipe_line import values_by_label"
   ]
  },
  {
   "cell_type": "code",
   "execution_count": null,
   "id": "fd25b56a",
   "metadata": {},
   "outputs": [],
   "source": []
  }
 ],
 "metadata": {
  "kernelspec": {
   "display_name": "Python 3 (ipykernel)",
   "language": "python",
   "name": "python3"
  },
  "language_info": {
   "codemirror_mode": {
    "name": "ipython",
    "version": 3
   },
   "file_extension": ".py",
   "mimetype": "text/x-python",
   "name": "python",
   "nbconvert_exporter": "python",
   "pygments_lexer": "ipython3",
   "version": "3.8.13"
  }
 },
 "nbformat": 4,
 "nbformat_minor": 5
}
