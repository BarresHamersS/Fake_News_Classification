{
 "cells": [
  {
   "cell_type": "code",
   "execution_count": 1,
   "id": "9c1d4f30",
   "metadata": {},
   "outputs": [],
   "source": [
    "#basic libraries\n",
    "import os\n",
    "import pandas as pd \n",
    "import numpy as np\n",
    "import requests\n",
    "import json\n",
    "import glob\n",
    "import pickle\n",
    "\n",
    "#Visiualization and ML libraries\n",
    "import sklearn\n",
    "import matplotlib.pyplot as plt\n",
    "\n",
    "from scipy.stats import norm\n",
    "import statistics\n",
    "import seaborn as sns\n",
    "from scipy.stats import f_oneway\n",
    "import scikit_posthocs as sp\n",
    "from scipy.stats import kruskal\n",
    "import statsmodels.stats.multicomp as mc\n",
    "\n",
    "from sklearn.model_selection import KFold\n",
    "from sklearn.model_selection import cross_val_score\n",
    "from sklearn.model_selection import train_test_split\n",
    "from sklearn.preprocessing import StandardScaler\n",
    "from sklearn.naive_bayes import GaussianNB\n",
    "from sklearn.naive_bayes import MultinomialNB\n",
    "from sklearn.metrics import accuracy_score\n",
    "from sklearn.metrics import accuracy_score, confusion_matrix\n",
    "from sklearn.metrics import confusion_matrix\n",
    "from sklearn.metrics import classification_report\n",
    "from mlxtend.plotting import plot_confusion_matrix\n",
    "from sklearn.ensemble import RandomForestClassifier\n",
    "from imblearn.over_sampling import SMOTE\n",
    "from sklearn.utils.class_weight import compute_sample_weight\n",
    "from imblearn.over_sampling import RandomOverSampler\n"
   ]
  },
  {
   "cell_type": "code",
   "execution_count": 10,
   "id": "cea491ff",
   "metadata": {},
   "outputs": [],
   "source": [
    "Liar_computed = pd.read_csv('/Users/sandrobarreshamers/Thesis_IS_fake_news/ThesisData/Liar_computed_v2.csv')\n"
   ]
  },
  {
   "cell_type": "code",
   "execution_count": 19,
   "id": "2a4ef2ea",
   "metadata": {},
   "outputs": [],
   "source": [
    "from faKy import values_by_label, compute_statistics, dunn_table\n",
    "labels = [0, 1, 2]\n",
    "df_label = 'binary label'"
   ]
  },
  {
   "cell_type": "markdown",
   "id": "9da3d674",
   "metadata": {},
   "source": [
    "### Compressed"
   ]
  },
  {
   "cell_type": "code",
   "execution_count": 20,
   "id": "c3ed3e7e",
   "metadata": {},
   "outputs": [
    {
     "name": "stdout",
     "output_type": "stream",
     "text": [
      "Kruskal results:\n",
      "F-statistic: 79.488\n",
      "p-value: 5.488e-18\n"
     ]
    }
   ],
   "source": [
    "label_com = values_by_label(Liar_computed, 'compressed_size',labels, df_label)\n",
    "stat, p = kruskal(*label_com) # unpack the elements \n",
    "\n",
    "print('Kruskal results:')\n",
    "print(f'F-statistic: {stat:.3f}')\n",
    "print(f'p-value: {p:.3e}')\n"
   ]
  },
  {
   "cell_type": "code",
   "execution_count": 21,
   "id": "55e15ca8",
   "metadata": {},
   "outputs": [
    {
     "name": "stdout",
     "output_type": "stream",
     "text": [
      "Dunn results for the information complexity\n"
     ]
    },
    {
     "data": {
      "text/html": [
       "<div>\n",
       "<style scoped>\n",
       "    .dataframe tbody tr th:only-of-type {\n",
       "        vertical-align: middle;\n",
       "    }\n",
       "\n",
       "    .dataframe tbody tr th {\n",
       "        vertical-align: top;\n",
       "    }\n",
       "\n",
       "    .dataframe thead tr th {\n",
       "        text-align: left;\n",
       "    }\n",
       "</style>\n",
       "<table border=\"1\" class=\"dataframe\">\n",
       "  <thead>\n",
       "    <tr>\n",
       "      <th>group</th>\n",
       "      <th colspan=\"2\" halign=\"left\">1</th>\n",
       "      <th colspan=\"2\" halign=\"left\">2</th>\n",
       "      <th colspan=\"2\" halign=\"left\">3</th>\n",
       "    </tr>\n",
       "    <tr>\n",
       "      <th>metric</th>\n",
       "      <th>value</th>\n",
       "      <th>reject</th>\n",
       "      <th>value</th>\n",
       "      <th>reject</th>\n",
       "      <th>value</th>\n",
       "      <th>reject</th>\n",
       "    </tr>\n",
       "  </thead>\n",
       "  <tbody>\n",
       "    <tr>\n",
       "      <th>1</th>\n",
       "      <td>1.0</td>\n",
       "      <td>False</td>\n",
       "      <td>0.000049</td>\n",
       "      <td>True</td>\n",
       "      <td>0.028887</td>\n",
       "      <td>True</td>\n",
       "    </tr>\n",
       "    <tr>\n",
       "      <th>2</th>\n",
       "      <td>0.000049</td>\n",
       "      <td>True</td>\n",
       "      <td>1.0</td>\n",
       "      <td>False</td>\n",
       "      <td>0.0</td>\n",
       "      <td>True</td>\n",
       "    </tr>\n",
       "    <tr>\n",
       "      <th>3</th>\n",
       "      <td>0.028887</td>\n",
       "      <td>True</td>\n",
       "      <td>0.0</td>\n",
       "      <td>True</td>\n",
       "      <td>1.0</td>\n",
       "      <td>False</td>\n",
       "    </tr>\n",
       "  </tbody>\n",
       "</table>\n",
       "</div>"
      ],
      "text/plain": [
       "group          1                2                3       \n",
       "metric     value reject     value reject     value reject\n",
       "1            1.0  False  0.000049   True  0.028887   True\n",
       "2       0.000049   True       1.0  False       0.0   True\n",
       "3       0.028887   True       0.0   True       1.0  False"
      ]
     },
     "execution_count": 21,
     "metadata": {},
     "output_type": "execute_result"
    }
   ],
   "source": [
    "dunn_results = sp.posthoc_dunn(label_com, p_adjust='bonferroni')\n",
    "\n",
    "print('Dunn results for the information complexity')\n",
    "dunn_table(dunn_results)\n"
   ]
  },
  {
   "cell_type": "markdown",
   "id": "be09e6b8",
   "metadata": {},
   "source": [
    "### Readability"
   ]
  },
  {
   "cell_type": "code",
   "execution_count": 14,
   "id": "000583f0",
   "metadata": {},
   "outputs": [
    {
     "name": "stdout",
     "output_type": "stream",
     "text": [
      "Kruskal results:\n",
      "F-statistic: 49.863\n",
      "p-value: 1.487e-11\n"
     ]
    }
   ],
   "source": [
    "label_fke = values_by_label(Liar_computed, 'readability',labels,df_label)\n",
    "stat, p = kruskal(*label_fke) # unpack the elements \n",
    "\n",
    "print('Kruskal results:')\n",
    "print(f'F-statistic: {stat:.3f}')\n",
    "print(f'p-value: {p:.3e}')\n",
    "\n"
   ]
  },
  {
   "cell_type": "code",
   "execution_count": 22,
   "id": "bd28acaa",
   "metadata": {},
   "outputs": [
    {
     "name": "stdout",
     "output_type": "stream",
     "text": [
      "Dunn results for the FKE-readability\n"
     ]
    },
    {
     "data": {
      "text/html": [
       "<div>\n",
       "<style scoped>\n",
       "    .dataframe tbody tr th:only-of-type {\n",
       "        vertical-align: middle;\n",
       "    }\n",
       "\n",
       "    .dataframe tbody tr th {\n",
       "        vertical-align: top;\n",
       "    }\n",
       "\n",
       "    .dataframe thead tr th {\n",
       "        text-align: left;\n",
       "    }\n",
       "</style>\n",
       "<table border=\"1\" class=\"dataframe\">\n",
       "  <thead>\n",
       "    <tr>\n",
       "      <th>group</th>\n",
       "      <th colspan=\"2\" halign=\"left\">1</th>\n",
       "      <th colspan=\"2\" halign=\"left\">2</th>\n",
       "      <th colspan=\"2\" halign=\"left\">3</th>\n",
       "    </tr>\n",
       "    <tr>\n",
       "      <th>metric</th>\n",
       "      <th>value</th>\n",
       "      <th>reject</th>\n",
       "      <th>value</th>\n",
       "      <th>reject</th>\n",
       "      <th>value</th>\n",
       "      <th>reject</th>\n",
       "    </tr>\n",
       "  </thead>\n",
       "  <tbody>\n",
       "    <tr>\n",
       "      <th>1</th>\n",
       "      <td>1.0</td>\n",
       "      <td>False</td>\n",
       "      <td>0.0</td>\n",
       "      <td>True</td>\n",
       "      <td>0.012227</td>\n",
       "      <td>True</td>\n",
       "    </tr>\n",
       "    <tr>\n",
       "      <th>2</th>\n",
       "      <td>0.0</td>\n",
       "      <td>True</td>\n",
       "      <td>1.0</td>\n",
       "      <td>False</td>\n",
       "      <td>0.0</td>\n",
       "      <td>True</td>\n",
       "    </tr>\n",
       "    <tr>\n",
       "      <th>3</th>\n",
       "      <td>0.012227</td>\n",
       "      <td>True</td>\n",
       "      <td>0.0</td>\n",
       "      <td>True</td>\n",
       "      <td>1.0</td>\n",
       "      <td>False</td>\n",
       "    </tr>\n",
       "  </tbody>\n",
       "</table>\n",
       "</div>"
      ],
      "text/plain": [
       "group          1            2                3       \n",
       "metric     value reject value reject     value reject\n",
       "1            1.0  False   0.0   True  0.012227   True\n",
       "2            0.0   True   1.0  False       0.0   True\n",
       "3       0.012227   True   0.0   True       1.0  False"
      ]
     },
     "execution_count": 22,
     "metadata": {},
     "output_type": "execute_result"
    }
   ],
   "source": [
    "dunn_results = sp.posthoc_dunn(label_fke, p_adjust='bonferroni')\n",
    "\n",
    "\n",
    "print('Dunn results for the FKE-readability')\n",
    "dunn_table(dunn_results)"
   ]
  },
  {
   "cell_type": "markdown",
   "id": "c891b7e8",
   "metadata": {},
   "source": [
    "### VADER labels"
   ]
  },
  {
   "cell_type": "code",
   "execution_count": 29,
   "id": "f46e8e77",
   "metadata": {},
   "outputs": [
    {
     "name": "stdout",
     "output_type": "stream",
     "text": [
      "vader_neg : fstat 10.409693080422452; p 0.005489892854085175\n",
      "vader_neu : fstat 10.17546297354846; p 0.00617200529376983\n",
      "vader_pos : fstat 4.323321766239063; p 0.11513373846730762\n",
      "vader_compound : fstat 1.999867736891534; p 0.36790377041511385\n"
     ]
    }
   ],
   "source": [
    "vader_labels = ['vader_neg', 'vader_neu', 'vader_pos', 'vader_compound']\n",
    "\n",
    "computed_labels = []\n",
    "for vader in vader_labels:\n",
    "    label_vader = values_by_label(Liar_computed, vader,labels,df_label)\n",
    "    stat, p = kruskal(*label_vader) # unpack the elements\n",
    "    computed_labels.append([stat, p])\n",
    "\n",
    "for i, (stat, p), vader in zip(range(len(computed_labels)), computed_labels, vader_labels):\n",
    "    print(f'{vader} : fstat {stat}; p {p}')"
   ]
  },
  {
   "cell_type": "code",
   "execution_count": 30,
   "id": "9913123f",
   "metadata": {},
   "outputs": [
    {
     "name": "stdout",
     "output_type": "stream",
     "text": [
      "Dunn results: vader_neg\n",
      "group          1                2                3       \n",
      "metric     value reject     value reject     value reject\n",
      "1            1.0  False       1.0  False  0.022119   True\n",
      "2            1.0  False       1.0  False  0.041474   True\n",
      "3       0.022119   True  0.041474   True       1.0  False\n",
      "Dunn results: vader_neu\n",
      "group          1                2                3       \n",
      "metric     value reject     value reject     value reject\n",
      "1            1.0  False  0.060342  False  0.004317   True\n",
      "2       0.060342  False       1.0  False       1.0  False\n",
      "3       0.004317   True       1.0  False       1.0  False\n",
      "Dunn results: vader_pos\n",
      "group          1                2                3       \n",
      "metric     value reject     value reject     value reject\n",
      "1            1.0  False  0.144254  False  0.197013  False\n",
      "2       0.144254  False       1.0  False       1.0  False\n",
      "3       0.197013  False       1.0  False       1.0  False\n",
      "Dunn results: vader_compound\n",
      "group      1                2                3       \n",
      "metric value reject     value reject     value reject\n",
      "1        1.0  False       1.0  False       1.0  False\n",
      "2        1.0  False       1.0  False  0.516025  False\n",
      "3        1.0  False  0.516025  False       1.0  False\n"
     ]
    }
   ],
   "source": [
    "for vader in vader_labels:\n",
    "    label_vader = values_by_label(Liar_computed, vader,labels,df_label)\n",
    "    dunn_results = sp.posthoc_dunn(label_vader, p_adjust='bonferroni')\n",
    "    a = dunn_table(dunn_results)\n",
    "    print(f'Dunn results: {vader}')\n",
    "    print(a)\n"
   ]
  },
  {
   "cell_type": "markdown",
   "id": "bd1fa5f7",
   "metadata": {},
   "source": [
    "### NER"
   ]
  },
  {
   "cell_type": "code",
   "execution_count": 16,
   "id": "75dac54a",
   "metadata": {},
   "outputs": [
    {
     "name": "stdout",
     "output_type": "stream",
     "text": [
      "NER_CARDINAL : fstat 49.83110092286668; p 1.5111720797740373e-11\n",
      "NER_DATE : fstat 51.61532051517984; p 6.192636087610597e-12\n",
      "NER_EVENT : fstat 0.17192881583577338; p 0.9176268908905847\n",
      "NER_FAC : fstat 1.62191142550578; p 0.44443311279487685\n",
      "NER_GPE : fstat 4.891785484232781; p 0.08664874537809603\n",
      "NER_LANGUAGE : fstat 0.2765099377408568; p 0.8708766170086077\n",
      "NER_LAW : fstat 5.044810889786552; p 0.08026629818911608\n",
      "NER_LOC : fstat 0.4509002696889834; p 0.7981568596715132\n",
      "NER_MONEY : fstat 35.30762339462919; p 2.1530147012843794e-08\n",
      "NER_NORP : fstat 0.7534040417699982; p 0.6861204930154862\n",
      "NER_ORDINAL : fstat 13.269417872165102; p 0.0013139611361827818\n",
      "NER_ORG : fstat 15.497830751288278; p 0.00043120998788284286\n",
      "NER_PERCENT : fstat 51.19931270863278; p 7.624484865681605e-12\n",
      "NER_PERSON : fstat 82.52962410037611; p 1.1992778976434277e-18\n",
      "NER_PRODUCT : fstat 1.096845519071406; p 0.5778605169801413\n",
      "NER_QUANTITY : fstat 3.320164395658514; p 0.19012335173241685\n",
      "NER_TIME : fstat 3.710352636538486; p 0.15642535959465625\n",
      "NER_WORK_OF_ART : fstat 9.313248559339161; p 0.00949847252951896\n"
     ]
    }
   ],
   "source": [
    "ner_labels = [ 'NER_CARDINAL',\n",
    "       'NER_DATE', 'NER_EVENT', 'NER_FAC', 'NER_GPE', 'NER_LANGUAGE',\n",
    "       'NER_LAW', 'NER_LOC', 'NER_MONEY', 'NER_NORP', 'NER_ORDINAL', 'NER_ORG',\n",
    "       'NER_PERCENT', 'NER_PERSON', 'NER_PRODUCT', 'NER_QUANTITY', 'NER_TIME',\n",
    "       'NER_WORK_OF_ART']\n",
    "computed_ner_labels = []\n",
    "for ner in ner_labels:\n",
    "    label_ner = values_by_label(Liar_computed, ner, labels, df_label)\n",
    "    stat, p = kruskal(*label_ner) # unpack the elements \n",
    "    computed_ner_labels.append([stat, p])\n",
    "\n",
    "for i, (stat, p), pos in zip(range(len(computed_ner_labels)), computed_ner_labels, ner_labels):\n",
    "       print(f'{pos} : fstat {stat}; p {p}')"
   ]
  },
  {
   "cell_type": "code",
   "execution_count": 25,
   "id": "0579e0ce",
   "metadata": {},
   "outputs": [
    {
     "name": "stdout",
     "output_type": "stream",
     "text": [
      "Dunn results: NER_CARDINAL\n",
      "group      1            2            3       \n",
      "metric value reject value reject value reject\n",
      "1        1.0  False   0.0   True   1.0  False\n",
      "2        0.0   True   1.0  False   0.0   True\n",
      "3        1.0  False   0.0   True   1.0  False\n",
      "Dunn results: NER_DATE\n",
      "group          1            2                3       \n",
      "metric     value reject value reject     value reject\n",
      "1            1.0  False   0.0   True  0.020809   True\n",
      "2            0.0   True   1.0  False       0.0   True\n",
      "3       0.020809   True   0.0   True       1.0  False\n",
      "Dunn results: NER_EVENT\n",
      "group      1            2            3       \n",
      "metric value reject value reject value reject\n",
      "1        1.0  False   1.0  False   1.0  False\n",
      "2        1.0  False   1.0  False   1.0  False\n",
      "3        1.0  False   1.0  False   1.0  False\n",
      "Dunn results: NER_FAC\n",
      "group          1                2                3       \n",
      "metric     value reject     value reject     value reject\n",
      "1            1.0  False  0.644083  False  0.852657  False\n",
      "2       0.644083  False       1.0  False       1.0  False\n",
      "3       0.852657  False       1.0  False       1.0  False\n",
      "Dunn results: NER_GPE\n",
      "group          1                2                3       \n",
      "metric     value reject     value reject     value reject\n",
      "1            1.0  False  0.088336  False  0.644748  False\n",
      "2       0.088336  False       1.0  False  0.464986  False\n",
      "3       0.644748  False  0.464986  False       1.0  False\n",
      "Dunn results: NER_LANGUAGE\n",
      "group      1            2            3       \n",
      "metric value reject value reject value reject\n",
      "1        1.0  False   1.0  False   1.0  False\n",
      "2        1.0  False   1.0  False   1.0  False\n",
      "3        1.0  False   1.0  False   1.0  False\n",
      "Dunn results: NER_LAW\n",
      "group          1                2                3       \n",
      "metric     value reject     value reject     value reject\n",
      "1            1.0  False  0.253646  False  0.076469  False\n",
      "2       0.253646  False       1.0  False       1.0  False\n",
      "3       0.076469  False       1.0  False       1.0  False\n",
      "Dunn results: NER_LOC\n",
      "group      1            2            3       \n",
      "metric value reject value reject value reject\n",
      "1        1.0  False   1.0  False   1.0  False\n",
      "2        1.0  False   1.0  False   1.0  False\n",
      "3        1.0  False   1.0  False   1.0  False\n",
      "Dunn results: NER_MONEY\n",
      "group          1            2                3       \n",
      "metric     value reject value reject     value reject\n",
      "1            1.0  False   1.0  False  0.000786   True\n",
      "2            1.0  False   1.0  False       0.0   True\n",
      "3       0.000786   True   0.0   True       1.0  False\n",
      "Dunn results: NER_NORP\n",
      "group      1            2            3       \n",
      "metric value reject value reject value reject\n",
      "1        1.0  False   1.0  False   1.0  False\n",
      "2        1.0  False   1.0  False   1.0  False\n",
      "3        1.0  False   1.0  False   1.0  False\n",
      "Dunn results: NER_ORDINAL\n",
      "group          1                2                3       \n",
      "metric     value reject     value reject     value reject\n",
      "1            1.0  False  0.000855   True  0.064517  False\n",
      "2       0.000855   True       1.0  False    0.1102  False\n",
      "3       0.064517  False    0.1102  False       1.0  False\n",
      "Dunn results: NER_ORG\n",
      "group          1                2                3       \n",
      "metric     value reject     value reject     value reject\n",
      "1            1.0  False  0.003574   True       1.0  False\n",
      "2       0.003574   True       1.0  False  0.001141   True\n",
      "3            1.0  False  0.001141   True       1.0  False\n",
      "Dunn results: NER_PERCENT\n",
      "group          1            2                3       \n",
      "metric     value reject value reject     value reject\n",
      "1            1.0  False   0.0   True  0.674264  False\n",
      "2            0.0   True   1.0  False       0.0   True\n",
      "3       0.674264  False   0.0   True       1.0  False\n",
      "Dunn results: NER_PERSON\n",
      "group      1                2                3       \n",
      "metric value reject     value reject     value reject\n",
      "1        1.0  False       0.0   True       0.0   True\n",
      "2        0.0   True       1.0  False  0.000813   True\n",
      "3        0.0   True  0.000813   True       1.0  False\n",
      "Dunn results: NER_PRODUCT\n",
      "group          1            2                3       \n",
      "metric     value reject value reject     value reject\n",
      "1            1.0  False   1.0  False  0.900096  False\n",
      "2            1.0  False   1.0  False       1.0  False\n",
      "3       0.900096  False   1.0  False       1.0  False\n",
      "Dunn results: NER_QUANTITY\n",
      "group          1                2                3       \n",
      "metric     value reject     value reject     value reject\n",
      "1            1.0  False  0.218648  False  0.923014  False\n",
      "2       0.218648  False       1.0  False  0.722318  False\n",
      "3       0.923014  False  0.722318  False       1.0  False\n",
      "Dunn results: NER_TIME\n",
      "group          1                2                3       \n",
      "metric     value reject     value reject     value reject\n",
      "1            1.0  False  0.457972  False       1.0  False\n",
      "2       0.457972  False       1.0  False  0.201008  False\n",
      "3            1.0  False  0.201008  False       1.0  False\n",
      "Dunn results: NER_WORK_OF_ART\n",
      "group          1                2                3       \n",
      "metric     value reject     value reject     value reject\n",
      "1            1.0  False  0.586245  False  0.842654  False\n",
      "2       0.586245  False       1.0  False  0.007074   True\n",
      "3       0.842654  False  0.007074   True       1.0  False\n"
     ]
    }
   ],
   "source": [
    "for ner in ner_labels:\n",
    "    label_ner = values_by_label(Liar_computed, ner,labels,df_label)\n",
    "    dunn_results = sp.posthoc_dunn(label_ner, p_adjust='bonferroni')\n",
    "    a = dunn_table(dunn_results)\n",
    "    print(f'Dunn results: {ner}')\n",
    "    print(a)"
   ]
  },
  {
   "cell_type": "markdown",
   "id": "8b0e8858",
   "metadata": {},
   "source": [
    "### Pos labels"
   ]
  },
  {
   "cell_type": "code",
   "execution_count": 17,
   "id": "8b079fd1",
   "metadata": {},
   "outputs": [
    {
     "name": "stdout",
     "output_type": "stream",
     "text": [
      "pos_ADJ : fstat 75.63363133229193; p 3.7702107990073795e-17\n",
      "pos_ADP : fstat 52.88463642780589; p 3.2828203050086716e-12\n",
      "pos_ADV : fstat 15.343928130378757; p 0.000465702255291164\n",
      "pos_AUX : fstat 10.672755272313356; p 0.004813274601537372\n",
      "pos_CCONJ : fstat 30.78256967100686; p 2.0684733341776858e-07\n",
      "pos_DET : fstat 17.70000951293461; p 0.0001433810542873743\n",
      "pos_INTJ : fstat 1.6205299951697043; p 0.44474019552820465\n",
      "pos_NOUN : fstat 74.42562883952174; p 6.897314694451533e-17\n",
      "pos_NUM : fstat 157.83110536457033; p 5.33839781071815e-35\n",
      "pos_PART : fstat 15.798490526270482; p 0.0003710234598959158\n",
      "pos_PRON : fstat 6.770194727289172; p 0.03387434405551494\n",
      "pos_PROPN : fstat 49.15895156684152; p 2.1147999875958165e-11\n",
      "pos_PUNCT : fstat 39.48929409787203; p 2.6607786034061635e-09\n",
      "pos_SCONJ : fstat 50.565192976835576; p 1.0469064051354758e-11\n",
      "pos_SYM : fstat 27.912685893597782; p 8.686348924034588e-07\n",
      "pos_VERB : fstat 45.05819719363287; p 1.6433754586485928e-10\n",
      "pos_X : fstat 4.769992151936845; p 0.092089340940054\n"
     ]
    }
   ],
   "source": [
    "pos_labels = [ 'pos_ADJ',\n",
    "       'pos_ADP', 'pos_ADV', 'pos_AUX', 'pos_CCONJ', 'pos_DET', 'pos_INTJ',\n",
    "       'pos_NOUN', 'pos_NUM', 'pos_PART', 'pos_PRON', 'pos_PROPN', 'pos_PUNCT',\n",
    "       'pos_SCONJ', 'pos_SYM', 'pos_VERB', 'pos_X']\n",
    "\n",
    "computed_pos_labels = []\n",
    "for pos in pos_labels:\n",
    "    label_pos = values_by_label(Liar_computed, pos, labels, df_label)\n",
    "    stat, p = kruskal(*label_pos) # unpack the elements\n",
    "    computed_pos_labels.append([stat, p])\n",
    "\n",
    "for i, (stat, p), pos in zip(range(len(computed_pos_labels)), computed_pos_labels, pos_labels):\n",
    "       print(f'{pos} : fstat {stat}; p {p}')\n"
   ]
  },
  {
   "cell_type": "code",
   "execution_count": 28,
   "id": "f7bcddf1",
   "metadata": {},
   "outputs": [
    {
     "name": "stdout",
     "output_type": "stream",
     "text": [
      "Dunn results: pos_ADJ\n",
      "group          1            2                3       \n",
      "metric     value reject value reject     value reject\n",
      "1            1.0  False   0.0   True  0.895962  False\n",
      "2            0.0   True   1.0  False       0.0   True\n",
      "3       0.895962  False   0.0   True       1.0  False\n",
      "Dunn results: pos_ADP\n",
      "group      1            2            3       \n",
      "metric value reject value reject value reject\n",
      "1        1.0  False   0.0   True   1.0  False\n",
      "2        0.0   True   1.0  False   0.0   True\n",
      "3        1.0  False   0.0   True   1.0  False\n",
      "Dunn results: pos_ADV\n",
      "group          1                2                3       \n",
      "metric     value reject     value reject     value reject\n",
      "1            1.0  False  0.003806   True       1.0  False\n",
      "2       0.003806   True       1.0  False  0.001214   True\n",
      "3            1.0  False  0.001214   True       1.0  False\n",
      "Dunn results: pos_AUX\n",
      "group          1                2                3       \n",
      "metric     value reject     value reject     value reject\n",
      "1            1.0  False  0.007976   True  0.007729   True\n",
      "2       0.007976   True       1.0  False       1.0  False\n",
      "3       0.007729   True       1.0  False       1.0  False\n",
      "Dunn results: pos_CCONJ\n",
      "group          1                2                3       \n",
      "metric     value reject     value reject     value reject\n",
      "1            1.0  False  0.049258   True  0.167184  False\n",
      "2       0.049258   True       1.0  False       0.0   True\n",
      "3       0.167184  False       0.0   True       1.0  False\n",
      "Dunn results: pos_DET\n",
      "group          1                2                3       \n",
      "metric     value reject     value reject     value reject\n",
      "1            1.0  False  0.001194   True       1.0  False\n",
      "2       0.001194   True       1.0  False  0.000563   True\n",
      "3            1.0  False  0.000563   True       1.0  False\n",
      "Dunn results: pos_INTJ\n",
      "group      1                2                3       \n",
      "metric value reject     value reject     value reject\n",
      "1        1.0  False       1.0  False       1.0  False\n",
      "2        1.0  False       1.0  False  0.609091  False\n",
      "3        1.0  False  0.609091  False       1.0  False\n",
      "Dunn results: pos_NOUN\n",
      "group          1            2                3       \n",
      "metric     value reject value reject     value reject\n",
      "1            1.0  False   0.0   True  0.677504  False\n",
      "2            0.0   True   1.0  False       0.0   True\n",
      "3       0.677504  False   0.0   True       1.0  False\n",
      "Dunn results: pos_NUM\n",
      "group      1            2            3       \n",
      "metric value reject value reject value reject\n",
      "1        1.0  False   0.0   True   1.0  False\n",
      "2        0.0   True   1.0  False   0.0   True\n",
      "3        1.0  False   0.0   True   1.0  False\n",
      "Dunn results: pos_PART\n",
      "group          1                2                3       \n",
      "metric     value reject     value reject     value reject\n",
      "1            1.0  False  0.000212   True  0.019654   True\n",
      "2       0.000212   True       1.0  False  0.122624  False\n",
      "3       0.019654   True  0.122624  False       1.0  False\n",
      "Dunn results: pos_PRON\n",
      "group          1                2                3       \n",
      "metric     value reject     value reject     value reject\n",
      "1            1.0  False  0.087848  False       1.0  False\n",
      "2       0.087848  False       1.0  False  0.061229  False\n",
      "3            1.0  False  0.061229  False       1.0  False\n",
      "Dunn results: pos_PROPN\n",
      "group          1                2                3       \n",
      "metric     value reject     value reject     value reject\n",
      "1            1.0  False       0.0   True  0.000013   True\n",
      "2            0.0   True       1.0  False  0.000368   True\n",
      "3       0.000013   True  0.000368   True       1.0  False\n",
      "Dunn results: pos_PUNCT\n",
      "group          1               2                3       \n",
      "metric     value reject    value reject     value reject\n",
      "1            1.0  False  0.00103   True  0.683359  False\n",
      "2        0.00103   True      1.0  False       0.0   True\n",
      "3       0.683359  False      0.0   True       1.0  False\n",
      "Dunn results: pos_SCONJ\n",
      "group          1            2                3       \n",
      "metric     value reject value reject     value reject\n",
      "1            1.0  False   0.0   True  0.180944  False\n",
      "2            0.0   True   1.0  False       0.0   True\n",
      "3       0.180944  False   0.0   True       1.0  False\n",
      "Dunn results: pos_SYM\n",
      "group          1                2                3       \n",
      "metric     value reject     value reject     value reject\n",
      "1            1.0  False       1.0  False  0.000556   True\n",
      "2            1.0  False       1.0  False  0.000012   True\n",
      "3       0.000556   True  0.000012   True       1.0  False\n",
      "Dunn results: pos_VERB\n",
      "group          1                2                3       \n",
      "metric     value reject     value reject     value reject\n",
      "1            1.0  False  0.000021   True       0.0   True\n",
      "2       0.000021   True       1.0  False  0.114084  False\n",
      "3            0.0   True  0.114084  False       1.0  False\n",
      "Dunn results: pos_X\n",
      "group          1                2                3       \n",
      "metric     value reject     value reject     value reject\n",
      "1            1.0  False  0.091236  False  0.257834  False\n",
      "2       0.091236  False       1.0  False       1.0  False\n",
      "3       0.257834  False       1.0  False       1.0  False\n"
     ]
    }
   ],
   "source": [
    "for pos in pos_labels:\n",
    "    label_pos = values_by_label(Liar_computed, pos,labels,df_label)\n",
    "    dunn_results = sp.posthoc_dunn(label_pos, p_adjust='bonferroni')\n",
    "    a = dunn_table(dunn_results)\n",
    "    print(f'Dunn results: {pos}')\n",
    "    print(a)"
   ]
  },
  {
   "cell_type": "code",
   "execution_count": null,
   "id": "942565b3",
   "metadata": {},
   "outputs": [],
   "source": []
  }
 ],
 "metadata": {
  "kernelspec": {
   "display_name": "Python 3 (ipykernel)",
   "language": "python",
   "name": "python3"
  },
  "language_info": {
   "codemirror_mode": {
    "name": "ipython",
    "version": 3
   },
   "file_extension": ".py",
   "mimetype": "text/x-python",
   "name": "python",
   "nbconvert_exporter": "python",
   "pygments_lexer": "ipython3",
   "version": "3.8.13"
  }
 },
 "nbformat": 4,
 "nbformat_minor": 5
}
