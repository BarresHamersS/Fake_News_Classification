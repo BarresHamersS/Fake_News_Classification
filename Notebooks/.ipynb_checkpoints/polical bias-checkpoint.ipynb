{
 "cells": [
  {
   "cell_type": "markdown",
   "id": "0a8ad996",
   "metadata": {},
   "source": [
    "https://gitlab.com/checkthat_lab/clef2023-checkthat-lab/-/tree/main/task3"
   ]
  },
  {
   "cell_type": "code",
   "execution_count": null,
   "id": "3ca40c32",
   "metadata": {},
   "outputs": [],
   "source": [
    "# loop through each file in the directory\n",
    "def pipe_line(dir_path):\n",
    "    dirs = os.listdir(dir_path)\n",
    "    df_list = []\n",
    "    \n",
    "    for file in dirs:\n",
    "        # check if the file is a JSON file\n",
    "        if file.endswith('.json'):\n",
    "            # read the JSON file into a DataFrame\n",
    "            df = pd.read_json(os.path.join(dir_path, file), orient='index')\n",
    "            # transpose it, make the rows the columns and vice versa\n",
    "            df = df.transpose()\n",
    "            # name of the columns\n",
    "            df.columns = ['id', 'title', 'content', 'label', 'label_text']\n",
    "            df_list.append(df)\n",
    "\n",
    "    # concatenate all the DataFrames in the list into a single DataFrame\n",
    "    df_task_3a = pd.concat(df_list)\n",
    "    \n",
    "    return df"
   ]
  }
 ],
 "metadata": {
  "kernelspec": {
   "display_name": "Python 3 (ipykernel)",
   "language": "python",
   "name": "python3"
  },
  "language_info": {
   "codemirror_mode": {
    "name": "ipython",
    "version": 3
   },
   "file_extension": ".py",
   "mimetype": "text/x-python",
   "name": "python",
   "nbconvert_exporter": "python",
   "pygments_lexer": "ipython3",
   "version": "3.8.13"
  }
 },
 "nbformat": 4,
 "nbformat_minor": 5
}
