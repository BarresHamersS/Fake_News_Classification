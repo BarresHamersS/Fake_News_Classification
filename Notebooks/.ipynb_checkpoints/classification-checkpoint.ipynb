{
 "cells": [
  {
   "cell_type": "code",
   "execution_count": 2,
   "id": "794ad0f4",
   "metadata": {},
   "outputs": [],
   "source": [
    "#basic libraries\n",
    "import os\n",
    "import pandas as pd \n",
    "import numpy as np\n",
    "import requests\n",
    "import json\n",
    "import glob\n",
    "import pickle\n",
    "\n",
    "#Visiualization and ML libraries\n",
    "import sklearn\n",
    "import matplotlib.pyplot as plt\n",
    "\n",
    "from scipy.stats import norm\n",
    "import statistics\n",
    "import seaborn as sns\n",
    "from scipy.stats import f_oneway\n",
    "import scikit_posthocs as sp\n",
    "from scipy.stats import kruskal\n",
    "import statsmodels.stats.multicomp as mc\n",
    "\n",
    "from sklearn.model_selection import KFold\n",
    "from sklearn.model_selection import cross_val_score\n",
    "from sklearn.model_selection import train_test_split\n",
    "from sklearn.preprocessing import StandardScaler\n",
    "from sklearn.naive_bayes import GaussianNB\n",
    "from sklearn.naive_bayes import MultinomialNB\n",
    "from sklearn.metrics import accuracy_score\n",
    "from sklearn.metrics import accuracy_score, confusion_matrix\n",
    "from sklearn.metrics import confusion_matrix\n",
    "from sklearn.metrics import classification_report\n",
    "from mlxtend.plotting import plot_confusion_matrix\n",
    "from sklearn.ensemble import RandomForestClassifier\n",
    "from imblearn.over_sampling import SMOTE\n",
    "from sklearn.utils.class_weight import compute_sample_weight\n",
    "from imblearn.over_sampling import RandomOverSampler\n"
   ]
  },
  {
   "cell_type": "code",
   "execution_count": 3,
   "id": "4c67ed81",
   "metadata": {},
   "outputs": [],
   "source": [
    "df_classification = pd.read_csv('/Users/sandrobarreshamers/Thesis_IS_fake_news/ThesisData/Data/Liar_computed_v2.csv')\n"
   ]
  },
  {
   "cell_type": "code",
   "execution_count": 4,
   "id": "a234c594",
   "metadata": {},
   "outputs": [
    {
     "data": {
      "text/html": [
       "<div>\n",
       "<style scoped>\n",
       "    .dataframe tbody tr th:only-of-type {\n",
       "        vertical-align: middle;\n",
       "    }\n",
       "\n",
       "    .dataframe tbody tr th {\n",
       "        vertical-align: top;\n",
       "    }\n",
       "\n",
       "    .dataframe thead th {\n",
       "        text-align: right;\n",
       "    }\n",
       "</style>\n",
       "<table border=\"1\" class=\"dataframe\">\n",
       "  <thead>\n",
       "    <tr style=\"text-align: right;\">\n",
       "      <th></th>\n",
       "      <th>Unnamed: 0.1</th>\n",
       "      <th>Unnamed: 0</th>\n",
       "      <th>json_id</th>\n",
       "      <th>claim</th>\n",
       "      <th>object</th>\n",
       "      <th>flesch_kincaid_reading_ease</th>\n",
       "      <th>compressed_size</th>\n",
       "      <th>vader_neg</th>\n",
       "      <th>vader_neu</th>\n",
       "      <th>vader_pos</th>\n",
       "      <th>...</th>\n",
       "      <th>pos_NOUN</th>\n",
       "      <th>pos_NUM</th>\n",
       "      <th>pos_PART</th>\n",
       "      <th>pos_PRON</th>\n",
       "      <th>pos_PROPN</th>\n",
       "      <th>pos_PUNCT</th>\n",
       "      <th>pos_SCONJ</th>\n",
       "      <th>pos_SYM</th>\n",
       "      <th>pos_VERB</th>\n",
       "      <th>pos_X</th>\n",
       "    </tr>\n",
       "  </thead>\n",
       "  <tbody>\n",
       "    <tr>\n",
       "      <th>0</th>\n",
       "      <td>0</td>\n",
       "      <td>0</td>\n",
       "      <td>10540.json</td>\n",
       "      <td>half-true</td>\n",
       "      <td>When did the decline of coal start? It started...</td>\n",
       "      <td>71.815000</td>\n",
       "      <td>11443.0</td>\n",
       "      <td>0.000</td>\n",
       "      <td>0.902</td>\n",
       "      <td>0.098</td>\n",
       "      <td>...</td>\n",
       "      <td>5.0</td>\n",
       "      <td>0.0</td>\n",
       "      <td>1.0</td>\n",
       "      <td>1.0</td>\n",
       "      <td>4.0</td>\n",
       "      <td>4.0</td>\n",
       "      <td>0.0</td>\n",
       "      <td>0.0</td>\n",
       "      <td>4.0</td>\n",
       "      <td>0.0</td>\n",
       "    </tr>\n",
       "    <tr>\n",
       "      <th>1</th>\n",
       "      <td>1</td>\n",
       "      <td>1</td>\n",
       "      <td>324.json</td>\n",
       "      <td>mostly-true</td>\n",
       "      <td>Hillary Clinton agrees with John McCain \"by vo...</td>\n",
       "      <td>71.781579</td>\n",
       "      <td>9089.0</td>\n",
       "      <td>0.107</td>\n",
       "      <td>0.687</td>\n",
       "      <td>0.206</td>\n",
       "      <td>...</td>\n",
       "      <td>2.0</td>\n",
       "      <td>0.0</td>\n",
       "      <td>1.0</td>\n",
       "      <td>0.0</td>\n",
       "      <td>7.0</td>\n",
       "      <td>3.0</td>\n",
       "      <td>0.0</td>\n",
       "      <td>0.0</td>\n",
       "      <td>3.0</td>\n",
       "      <td>0.0</td>\n",
       "    </tr>\n",
       "    <tr>\n",
       "      <th>2</th>\n",
       "      <td>2</td>\n",
       "      <td>2</td>\n",
       "      <td>1123.json</td>\n",
       "      <td>false</td>\n",
       "      <td>Health care reform legislation is likely to ma...</td>\n",
       "      <td>53.655000</td>\n",
       "      <td>5511.0</td>\n",
       "      <td>0.000</td>\n",
       "      <td>0.606</td>\n",
       "      <td>0.394</td>\n",
       "      <td>...</td>\n",
       "      <td>7.0</td>\n",
       "      <td>0.0</td>\n",
       "      <td>1.0</td>\n",
       "      <td>0.0</td>\n",
       "      <td>0.0</td>\n",
       "      <td>1.0</td>\n",
       "      <td>0.0</td>\n",
       "      <td>0.0</td>\n",
       "      <td>1.0</td>\n",
       "      <td>0.0</td>\n",
       "    </tr>\n",
       "    <tr>\n",
       "      <th>3</th>\n",
       "      <td>3</td>\n",
       "      <td>3</td>\n",
       "      <td>9028.json</td>\n",
       "      <td>half-true</td>\n",
       "      <td>The economic turnaround started at the end of ...</td>\n",
       "      <td>61.325000</td>\n",
       "      <td>4708.0</td>\n",
       "      <td>0.000</td>\n",
       "      <td>1.000</td>\n",
       "      <td>0.000</td>\n",
       "      <td>...</td>\n",
       "      <td>3.0</td>\n",
       "      <td>0.0</td>\n",
       "      <td>0.0</td>\n",
       "      <td>0.0</td>\n",
       "      <td>0.0</td>\n",
       "      <td>1.0</td>\n",
       "      <td>0.0</td>\n",
       "      <td>0.0</td>\n",
       "      <td>1.0</td>\n",
       "      <td>0.0</td>\n",
       "    </tr>\n",
       "    <tr>\n",
       "      <th>4</th>\n",
       "      <td>4</td>\n",
       "      <td>4</td>\n",
       "      <td>12465.json</td>\n",
       "      <td>true</td>\n",
       "      <td>The Chicago Bears have had more starting quart...</td>\n",
       "      <td>54.096667</td>\n",
       "      <td>12205.0</td>\n",
       "      <td>0.119</td>\n",
       "      <td>0.828</td>\n",
       "      <td>0.053</td>\n",
       "      <td>...</td>\n",
       "      <td>5.0</td>\n",
       "      <td>2.0</td>\n",
       "      <td>0.0</td>\n",
       "      <td>0.0</td>\n",
       "      <td>4.0</td>\n",
       "      <td>3.0</td>\n",
       "      <td>1.0</td>\n",
       "      <td>0.0</td>\n",
       "      <td>3.0</td>\n",
       "      <td>0.0</td>\n",
       "    </tr>\n",
       "  </tbody>\n",
       "</table>\n",
       "<p>5 rows × 40 columns</p>\n",
       "</div>"
      ],
      "text/plain": [
       "   Unnamed: 0.1  Unnamed: 0     json_id        claim  \\\n",
       "0             0           0  10540.json    half-true   \n",
       "1             1           1    324.json  mostly-true   \n",
       "2             2           2   1123.json        false   \n",
       "3             3           3   9028.json    half-true   \n",
       "4             4           4  12465.json         true   \n",
       "\n",
       "                                              object  \\\n",
       "0  When did the decline of coal start? It started...   \n",
       "1  Hillary Clinton agrees with John McCain \"by vo...   \n",
       "2  Health care reform legislation is likely to ma...   \n",
       "3  The economic turnaround started at the end of ...   \n",
       "4  The Chicago Bears have had more starting quart...   \n",
       "\n",
       "   flesch_kincaid_reading_ease  compressed_size  vader_neg  vader_neu  \\\n",
       "0                    71.815000          11443.0      0.000      0.902   \n",
       "1                    71.781579           9089.0      0.107      0.687   \n",
       "2                    53.655000           5511.0      0.000      0.606   \n",
       "3                    61.325000           4708.0      0.000      1.000   \n",
       "4                    54.096667          12205.0      0.119      0.828   \n",
       "\n",
       "   vader_pos  ...  pos_NOUN  pos_NUM  pos_PART pos_PRON pos_PROPN  pos_PUNCT  \\\n",
       "0      0.098  ...       5.0      0.0       1.0      1.0       4.0        4.0   \n",
       "1      0.206  ...       2.0      0.0       1.0      0.0       7.0        3.0   \n",
       "2      0.394  ...       7.0      0.0       1.0      0.0       0.0        1.0   \n",
       "3      0.000  ...       3.0      0.0       0.0      0.0       0.0        1.0   \n",
       "4      0.053  ...       5.0      2.0       0.0      0.0       4.0        3.0   \n",
       "\n",
       "   pos_SCONJ  pos_SYM  pos_VERB  pos_X  \n",
       "0        0.0      0.0       4.0    0.0  \n",
       "1        0.0      0.0       3.0    0.0  \n",
       "2        0.0      0.0       1.0    0.0  \n",
       "3        0.0      0.0       1.0    0.0  \n",
       "4        1.0      0.0       3.0    0.0  \n",
       "\n",
       "[5 rows x 40 columns]"
      ]
     },
     "execution_count": 4,
     "metadata": {},
     "output_type": "execute_result"
    }
   ],
   "source": [
    "df_classification.head()"
   ]
  },
  {
   "cell_type": "code",
   "execution_count": 5,
   "id": "2dede82e",
   "metadata": {},
   "outputs": [
    {
     "data": {
      "text/plain": [
       "Index(['Unnamed: 0.1', 'Unnamed: 0', 'json_id', 'claim', 'object',\n",
       "       'flesch_kincaid_reading_ease', 'compressed_size', 'vader_neg',\n",
       "       'vader_neu', 'vader_pos', 'vader_compound', 'binary label',\n",
       "       'tot_ner_count', 'ner_counts', 'input_vector_ner', 'NER_PERSON',\n",
       "       'NER_ORG', 'NER_GPE', 'NER_DATE', 'NER_NORP', 'NER_CARDINAL',\n",
       "       'pos counts', 'input_vector_pos', 'pos_ADJ', 'pos_ADP', 'pos_ADV',\n",
       "       'pos_AUX', 'pos_CCONJ', 'pos_DET', 'pos_INTJ', 'pos_NOUN', 'pos_NUM',\n",
       "       'pos_PART', 'pos_PRON', 'pos_PROPN', 'pos_PUNCT', 'pos_SCONJ',\n",
       "       'pos_SYM', 'pos_VERB', 'pos_X'],\n",
       "      dtype='object')"
      ]
     },
     "execution_count": 5,
     "metadata": {},
     "output_type": "execute_result"
    }
   ],
   "source": [
    "filtered_df = df_classification[df_classification['binary label'] != 2]\n",
    "\n",
    "filtered_df.head()\n",
    "filtered_df.columns"
   ]
  },
  {
   "cell_type": "code",
   "execution_count": 6,
   "id": "7e2be52f",
   "metadata": {},
   "outputs": [
    {
     "name": "stdout",
     "output_type": "stream",
     "text": [
      "false claims 1994\n",
      "true claims 1676\n"
     ]
    }
   ],
   "source": [
    "def count_claims(df, claim):\n",
    "    count_claim = len(df[df['claim']== claim])\n",
    "    return count_claim\n",
    "\n",
    "false_claims = count_claims(filtered_df,'false')\n",
    "true_claims =  count_claims(filtered_df,'true')\n",
    "print(f'false claims {false_claims}')\n",
    "print(f'true claims {true_claims}')"
   ]
  },
  {
   "cell_type": "code",
   "execution_count": 5,
   "id": "3e3c3733",
   "metadata": {},
   "outputs": [],
   "source": [
    "features5 = ['flesch_kincaid_reading_ease', 'compressed_size', 'tot_ner_count','NER_PERSON','NER_DATE','NER_CARDINAL','pos_NOUN', 'pos_ADJ',\n",
    "       'pos_VERB', 'pos_ADV', 'pos_ADP',\n",
    "       'pos_DET', 'pos_NUM', 'pos_PART', 'pos_PROPN',\n",
    "       'pos_PUNCT', 'pos_SCONJ']"
   ]
  },
  {
   "cell_type": "code",
   "execution_count": null,
   "id": "c3df2f46",
   "metadata": {},
   "outputs": [],
   "source": []
  },
  {
   "cell_type": "code",
   "execution_count": 51,
   "id": "deb18154",
   "metadata": {},
   "outputs": [],
   "source": [
    "from imblearn.over_sampling import RandomOverSampler\n",
    "X = filtered_df[features5]\n",
    "\n",
    "y = filtered_df['binary label']\n",
    "\n",
    "X_train, X_test, y_train, y_test = train_test_split(X, y, test_size=0.2, random_state=42)\n",
    "\n",
    "ros = RandomOverSampler(random_state=42)\n",
    "X_train_resampled, y_train_resampled = ros.fit_resample(X_train, y_train)\n",
    "\n",
    "# Scale the features and normalize the data\n",
    "scaler = StandardScaler()\n",
    "X_train_res_scaled = scaler.fit_transform(X_train_resampled)\n",
    "X_test_scaled = scaler.transform(X_test)\n",
    "\n",
    "\n"
   ]
  },
  {
   "cell_type": "code",
   "execution_count": 52,
   "id": "61076ee8",
   "metadata": {},
   "outputs": [
    {
     "name": "stdout",
     "output_type": "stream",
     "text": [
      "Initial number of train instances: \n",
      "Label : 0(True), counts:1676\n",
      "Label: 1(False), counts:2833\n",
      "\n",
      "Number of train instances after oversampling: \n",
      "Label : 0(True), counts:2260\n",
      "Label: 1(False), counts:2260\n",
      "\n"
     ]
    }
   ],
   "source": [
    "class_counts_init = filtered_df['binary label'].value_counts()\n",
    "print(f'Initial number of train instances: \\nLabel : 0(True), counts:{class_counts_init[0]}\\nLabel: 1(False), counts:{class_counts_init[1]}\\n')\n",
    "\n",
    "class_counts_over = pd.Series(y_train_resampled).value_counts()\n",
    "print(f'Number of train instances after oversampling: \\nLabel : 0(True), counts:{class_counts_over[0]}\\nLabel: 1(False), counts:{class_counts_over[1]}\\n')\n"
   ]
  },
  {
   "cell_type": "markdown",
   "id": "1941ac57",
   "metadata": {},
   "source": [
    "### Naive Bias "
   ]
  },
  {
   "cell_type": "code",
   "execution_count": 54,
   "id": "d51d5670",
   "metadata": {},
   "outputs": [],
   "source": [
    "from sklearn.naive_bayes import GaussianNB\n",
    "model = GaussianNB()\n",
    "model.fit(X_train_res_scaled, y_train_resampled)\n",
    "y_pred = model.predict(X_test_scaled)\n",
    "accuracy = accuracy_score(y_test, y_pred)\n",
    "cm =confusion_matrix(y_test, y_pred)\n"
   ]
  },
  {
   "cell_type": "code",
   "execution_count": 58,
   "id": "4e7de477",
   "metadata": {},
   "outputs": [
    {
     "name": "stdout",
     "output_type": "stream",
     "text": [
      "f1 score k fold crss: 0.56 (+/- 0.01)\n"
     ]
    }
   ],
   "source": [
    "# Set up the k-fold cross-validation\n",
    "kfold = KFold(n_splits=5, shuffle=True, random_state=42)\n",
    "\n",
    "# Use the cross_val_score function to calculate the accuracy scores for each fold\n",
    "scores = cross_val_score(model, X_train_res_scaled, y_train_resampled, cv=kfold, scoring='f1_macro')\n",
    "\n",
    "\n",
    "print(\"f1 score k fold crss training data: %0.2f (+/- %0.2f)\" % (scores.mean(), scores.std()))"
   ]
  },
  {
   "cell_type": "code",
   "execution_count": 59,
   "id": "0aca9fa2",
   "metadata": {},
   "outputs": [
    {
     "name": "stdout",
     "output_type": "stream",
     "text": [
      "f1 score k fold cross for the test data: 0.57 (+/- 0.03)\n"
     ]
    }
   ],
   "source": [
    "from sklearn.metrics import make_scorer\n",
    "from sklearn.metrics import f1_score\n",
    "\n",
    "# Define a scorer with f1 macro\n",
    "scorer = make_scorer(f1_score, average='macro')\n",
    "\n",
    "# Perform cross validation\n",
    "scores = cross_val_score(model, X_test, y_test, cv=kfold, scoring=scorer)\n",
    "\n",
    "print(\"f1 score k fold cross for the test data: %0.2f (+/- %0.2f)\" % (scores.mean(), scores.std()))"
   ]
  },
  {
   "cell_type": "markdown",
   "id": "25d3d59d",
   "metadata": {},
   "source": [
    "### Random forrest"
   ]
  },
  {
   "cell_type": "code",
   "execution_count": 35,
   "id": "e7b87671",
   "metadata": {},
   "outputs": [
    {
     "name": "stdout",
     "output_type": "stream",
     "text": [
      "[[121 208]\n",
      " [131 442]]\n"
     ]
    },
    {
     "data": {
      "image/png": "[encoded data removed]",
      "text/plain": [
       "<Figure size 640x480 with 2 Axes>"
      ]
     },
     "metadata": {},
     "output_type": "display_data"
    }
   ],
   "source": [
    "clf = RandomForestClassifier(n_estimators=100, random_state=42)\n",
    "clf.fit(X_train_res_scaled, y_train_resampled)\n",
    "y_pred = clf.predict(X_test_scaled)\n",
    "\n",
    "accuracy = accuracy_score(y_test, y_pred)\n",
    "\n",
    "\n",
    "\n",
    "cm_2 =confusion_matrix(y_test, y_pred)\n",
    "fig, ax = plot_confusion_matrix(conf_mat=cm_2,\n",
    "                                show_absolute=True,\n",
    "                                show_normed=True,\n",
    "                                colorbar=True)\n",
    "\n",
    "# improved from 51% to 55%\n",
    "print(cm_2)"
   ]
  },
  {
   "cell_type": "code",
   "execution_count": 22,
   "id": "6c0f52ef",
   "metadata": {},
   "outputs": [
    {
     "name": "stdout",
     "output_type": "stream",
     "text": [
      "f1 score k fold crss: 0.75 (+/- 0.01)\n"
     ]
    }
   ],
   "source": [
    "kfold = KFold(n_splits=5, shuffle=True, random_state=42)\n",
    "\n",
    "scores = cross_val_score(clf, X_train_res_scaled, y_train_resampled, cv=kfold, scoring='f1_macro')\n",
    "\n",
    "print(\"f1 score k fold cross training data: %0.2f (+/- %0.2f)\" % (scores.mean(), scores.std()))"
   ]
  },
  {
   "cell_type": "code",
   "execution_count": 23,
   "id": "534494cb",
   "metadata": {},
   "outputs": [
    {
     "name": "stdout",
     "output_type": "stream",
     "text": [
      "f1 score k fold cross for the test data: 0.54 (+/- 0.02)\n"
     ]
    }
   ],
   "source": [
    "from sklearn.metrics import make_scorer\n",
    "from sklearn.metrics import f1_score\n",
    "\n",
    "# Define a scorer with f1 macro\n",
    "scorer = make_scorer(f1_score, average='macro')\n",
    "\n",
    "# Perform cross validation\n",
    "scores = cross_val_score(clf, X_test, y_test, cv=kfold, scoring=scorer)\n",
    "\n",
    "print(\"f1 score k fold cross for the test data: %0.2f (+/- %0.2f)\" % (scores.mean(), scores.std()))"
   ]
  },
  {
   "cell_type": "code",
   "execution_count": null,
   "id": "bd3faca3",
   "metadata": {},
   "outputs": [],
   "source": []
  },
  {
   "cell_type": "markdown",
   "id": "041c38ea",
   "metadata": {},
   "source": [
    "### LogisticRegression"
   ]
  },
  {
   "cell_type": "code",
   "execution_count": 62,
   "id": "4d76bc0a",
   "metadata": {},
   "outputs": [
    {
     "name": "stdout",
     "output_type": "stream",
     "text": [
      "Test F1 score: 0.6641721234798877\n",
      "Training F1 score: 0.6019629225736095\n"
     ]
    }
   ],
   "source": [
    "from sklearn.linear_model import LogisticRegression\n",
    "\n",
    "# Create a logistic regression model\n",
    "logreg = LogisticRegression()\n",
    "\n",
    "# Fit the model to the training data\n",
    "logreg.fit(X_train_res_scaled, y_train_resampled)\n",
    "\n",
    "# Evaluate the model on the test data\n",
    "y_pred_test = logreg.predict(X_test_scaled)\n",
    "test_score = f1_score(y_test, y_pred_test)\n",
    "print(\"Test F1 score:\", test_score)\n",
    "\n",
    "# Evaluate the model on the training data\n",
    "y_pred_train = logreg.predict(X_train_res_scaled)\n",
    "train_score = f1_score(y_train_resampled, y_pred_train)\n",
    "print(\"Training F1 score:\", train_score)\n"
   ]
  },
  {
   "cell_type": "code",
   "execution_count": 63,
   "id": "9672fb47",
   "metadata": {},
   "outputs": [
    {
     "name": "stdout",
     "output_type": "stream",
     "text": [
      "f1 score k fold cross training data:0.59 (+/- 0.02)\n"
     ]
    }
   ],
   "source": [
    "kfold = KFold(n_splits=10, shuffle=True, random_state=42)\n",
    "\n",
    "scores = cross_val_score(logreg, X_train_res_scaled, y_train_resampled, cv=kfold, scoring='f1_macro')\n",
    "\n",
    "print(\"f1 score k fold cross training data:%0.2f (+/- %0.2f)\" % (scores.mean(), scores.std()))"
   ]
  },
  {
   "cell_type": "code",
   "execution_count": 65,
   "id": "b1e6a26b",
   "metadata": {},
   "outputs": [
    {
     "name": "stdout",
     "output_type": "stream",
     "text": [
      "f1 score k fold cross for the test data: 0.54 (+/- 0.06)\n"
     ]
    }
   ],
   "source": [
    "# Define a scorer with f1 macro\n",
    "scorer = make_scorer(f1_score, average='macro')\n",
    "\n",
    "# Perform cross validation\n",
    "scores = cross_val_score(logreg, X_test_scaled, y_test, cv=kfold, scoring='f1_macro')\n",
    "\n",
    "print(\"f1 score k fold cross for the test data: %0.2f (+/- %0.2f)\" % (scores.mean(), scores.std()))"
   ]
  },
  {
   "cell_type": "markdown",
   "id": "67bbc800",
   "metadata": {},
   "source": [
    "### Baseline"
   ]
  },
  {
   "cell_type": "code",
   "execution_count": 30,
   "id": "f4d5fabb",
   "metadata": {},
   "outputs": [],
   "source": [
    "from sklearn.dummy import DummyClassifier\n",
    "\n",
    "dummy_clf = DummyClassifier(strategy=\"most_frequent\")\n",
    "\n",
    "\n",
    "dummy_clf.fit(X_train_res_scaled, y_train_resampled)\n",
    "\n",
    "y_pred_majority = dummy_clf.predict(X_test_scaled)\n",
    "\n",
    "\n",
    "accuracy_majority = accuracy_score(y_test, y_pred_majority)"
   ]
  },
  {
   "cell_type": "code",
   "execution_count": 31,
   "id": "c6c3e247",
   "metadata": {},
   "outputs": [
    {
     "name": "stdout",
     "output_type": "stream",
     "text": [
      "Accuracy: 0.3647450110864745\n"
     ]
    },
    {
     "data": {
      "image/png": "[encoded data removed]",
      "text/plain": [
       "<Figure size 640x480 with 2 Axes>"
      ]
     },
     "metadata": {},
     "output_type": "display_data"
    }
   ],
   "source": [
    "print('Accuracy:', accuracy_majority)\n",
    "\n",
    "cm_2 =confusion_matrix(y_test, y_pred_majority)\n",
    "fig, ax = plot_confusion_matrix(conf_mat=cm_2,\n",
    "                                show_absolute=True,\n",
    "                                show_normed=True,\n",
    "                                colorbar=True)\n",
    "\n"
   ]
  },
  {
   "cell_type": "code",
   "execution_count": 32,
   "id": "335d0dc2",
   "metadata": {},
   "outputs": [
    {
     "name": "stdout",
     "output_type": "stream",
     "text": [
      "f1 score k fold crss:0.33 (+/- 0.01)\n"
     ]
    }
   ],
   "source": [
    "kfold = KFold(n_splits=10, shuffle=True, random_state=42)\n",
    "\n",
    "scores = cross_val_score(dummy_clf, X_train_res_scaled, y_train_resampled, cv=kfold, scoring='f1_macro')\n",
    "\n",
    "print(\"f1 score k fold cross training data:%0.2f (+/- %0.2f)\" % (scores.mean(), scores.std()))"
   ]
  },
  {
   "cell_type": "code",
   "execution_count": 33,
   "id": "de957840",
   "metadata": {},
   "outputs": [
    {
     "name": "stdout",
     "output_type": "stream",
     "text": [
      "f1 score k fold cross for the test data: 0.39 (+/- 0.02)\n"
     ]
    }
   ],
   "source": [
    "# Define a scorer with f1 macro\n",
    "scorer = make_scorer(f1_score, average='macro')\n",
    "\n",
    "# Perform cross validation\n",
    "scores = cross_val_score(dummy_clf, X_test_scaled, y_test, cv=kfold, scoring=scorer)\n",
    "\n",
    "print(\"f1 score k fold cross for the test data: %0.2f (+/- %0.2f)\" % (scores.mean(), scores.std()))"
   ]
  },
  {
   "cell_type": "markdown",
   "id": "b36cb405",
   "metadata": {},
   "source": [
    "### Gradient Booster"
   ]
  },
  {
   "cell_type": "code",
   "execution_count": 37,
   "id": "9aee266b",
   "metadata": {},
   "outputs": [],
   "source": [
    "from sklearn.ensemble import GradientBoostingClassifier\n",
    "from sklearn.metrics import classification_report"
   ]
  },
  {
   "cell_type": "code",
   "execution_count": 39,
   "id": "9bb22bd1",
   "metadata": {},
   "outputs": [],
   "source": [
    "### Gradient booster"
   ]
  },
  {
   "cell_type": "code",
   "execution_count": 42,
   "id": "c101beca",
   "metadata": {},
   "outputs": [
    {
     "name": "stdout",
     "output_type": "stream",
     "text": [
      "              precision    recall  f1-score   support\n",
      "\n",
      "           0       0.48      0.57      0.52       329\n",
      "           1       0.72      0.65      0.68       573\n",
      "\n",
      "    accuracy                           0.62       902\n",
      "   macro avg       0.60      0.61      0.60       902\n",
      "weighted avg       0.63      0.62      0.62       902\n",
      "\n",
      "Accuracy: 0.6175166297117517\n"
     ]
    },
    {
     "data": {
      "image/png": "[encoded data removed]",
      "text/plain": [
       "<Figure size 640x480 with 2 Axes>"
      ]
     },
     "metadata": {},
     "output_type": "display_data"
    }
   ],
   "source": [
    "# Instantiate the model with hyperparameters and L2 regularization\n",
    "gb_clf = GradientBoostingClassifier(n_estimators=100, learning_rate=0.08, max_depth=2, subsample=0.5, random_state=42)\n",
    "\n",
    "\n",
    "# Fit the model to the training data\n",
    "gb_clf.fit(X_train_res_scaled, y_train_resampled)\n",
    "\n",
    "# Predict on the test data\n",
    "y_pred = gb_clf.predict(X_test_scaled)\n",
    "\n",
    "# Print classification report and confusion matrix\n",
    "print(classification_report(y_test, y_pred))\n",
    "\n",
    "cm_3 = confusion_matrix(y_test, y_pred)\n",
    "fig, ax = plot_confusion_matrix(conf_mat=cm_3,\n",
    "                                show_absolute=True,\n",
    "                                show_normed=True,\n",
    "                                colorbar=True)\n",
    "\n",
    "accuracy = accuracy_score(y_test, y_pred)\n",
    "print('Accuracy:', accuracy)\n"
   ]
  },
  {
   "cell_type": "code",
   "execution_count": 43,
   "id": "ab6b618a",
   "metadata": {},
   "outputs": [
    {
     "name": "stdout",
     "output_type": "stream",
     "text": [
      "f1 score k fold crss:0.61 (+/- 0.01)\n"
     ]
    }
   ],
   "source": [
    "kfold = KFold(n_splits=10, shuffle=True, random_state=42)\n",
    "\n",
    "scores = cross_val_score(gb_clf, X_train_res_scaled, y_train_resampled, cv=kfold, scoring='f1_macro')\n",
    "\n",
    "print(\"f1 score k fold crss:%0.2f (+/- %0.2f)\" % (scores.mean(), scores.std()))"
   ]
  },
  {
   "cell_type": "code",
   "execution_count": 44,
   "id": "9c90199a",
   "metadata": {},
   "outputs": [
    {
     "name": "stdout",
     "output_type": "stream",
     "text": [
      "f1 score k fold cross for the test data: 0.53 (+/- 0.04)\n"
     ]
    }
   ],
   "source": [
    "# Define a scorer with f1 macro\n",
    "scorer = make_scorer(f1_score, average='macro')\n",
    "\n",
    "# Perform cross validation\n",
    "scores = cross_val_score(gb_clf, X_test_scaled, y_test, cv=kfold, scoring=scorer)\n",
    "\n",
    "print(\"f1 score k fold cross for the test data: %0.2f (+/- %0.2f)\" % (scores.mean(), scores.std()))"
   ]
  },
  {
   "cell_type": "code",
   "execution_count": null,
   "id": "ae94685b",
   "metadata": {},
   "outputs": [],
   "source": []
  },
  {
   "cell_type": "code",
   "execution_count": null,
   "id": "80c955b1",
   "metadata": {},
   "outputs": [],
   "source": []
  },
  {
   "cell_type": "code",
   "execution_count": null,
   "id": "bffe82e6",
   "metadata": {},
   "outputs": [],
   "source": []
  }
 ],
 "metadata": {
  "kernelspec": {
   "display_name": "Python 3 (ipykernel)",
   "language": "python",
   "name": "python3"
  },
  "language_info": {
   "codemirror_mode": {
    "name": "ipython",
    "version": 3
   },
   "file_extension": ".py",
   "mimetype": "text/x-python",
   "name": "python",
   "nbconvert_exporter": "python",
   "pygments_lexer": "ipython3",
   "version": "3.8.13"
  }
 },
 "nbformat": 4,
 "nbformat_minor": 5
}
