{
 "cells": [
  {
   "cell_type": "code",
   "execution_count": 1,
   "id": "a187665c",
   "metadata": {},
   "outputs": [],
   "source": [
    "#basic libraries\n",
    "import os\n",
    "import pandas as pd \n",
    "import numpy as np\n",
    "import requests\n",
    "import json\n",
    "import glob\n",
    "import pickle\n",
    "\n",
    "#Visiualization and ML libraries\n",
    "import sklearn\n",
    "import matplotlib.pyplot as plt\n",
    "\n",
    "from scipy.stats import norm\n",
    "import statistics\n",
    "import seaborn as sns\n",
    "from scipy.stats import f_oneway\n",
    "import scikit_posthocs as sp\n",
    "from scipy.stats import kruskal\n",
    "import statsmodels.stats.multicomp as mc\n",
    "\n",
    "from sklearn.model_selection import KFold\n",
    "from sklearn.model_selection import cross_val_score"
   ]
  },
  {
   "cell_type": "code",
   "execution_count": 2,
   "id": "f07c07ce",
   "metadata": {},
   "outputs": [
    {
     "name": "stdout",
     "output_type": "stream",
     "text": [
      "Requirement already satisfied: scikit-posthocs in /Users/sandrobarreshamers/opt/anaconda3/envs/fake_new/lib/python3.8/site-packages (0.7.0)\n",
      "Requirement already satisfied: statsmodels in /Users/sandrobarreshamers/opt/anaconda3/envs/fake_new/lib/python3.8/site-packages (from scikit-posthocs) (0.13.5)\n",
      "Requirement already satisfied: matplotlib in /Users/sandrobarreshamers/opt/anaconda3/envs/fake_new/lib/python3.8/site-packages (from scikit-posthocs) (3.6.2)\n",
      "Requirement already satisfied: numpy in /Users/sandrobarreshamers/opt/anaconda3/envs/fake_new/lib/python3.8/site-packages (from scikit-posthocs) (1.21.5)\n",
      "Requirement already satisfied: seaborn in /Users/sandrobarreshamers/opt/anaconda3/envs/fake_new/lib/python3.8/site-packages (from scikit-posthocs) (0.12.2)\n",
      "Requirement already satisfied: pandas>=0.20.0 in /Users/sandrobarreshamers/opt/anaconda3/envs/fake_new/lib/python3.8/site-packages (from scikit-posthocs) (1.5.2)\n",
      "Requirement already satisfied: scipy in /Users/sandrobarreshamers/opt/anaconda3/envs/fake_new/lib/python3.8/site-packages (from scikit-posthocs) (1.10.1)\n",
      "Requirement already satisfied: python-dateutil>=2.8.1 in /Users/sandrobarreshamers/opt/anaconda3/envs/fake_new/lib/python3.8/site-packages (from pandas>=0.20.0->scikit-posthocs) (2.8.2)\n",
      "Requirement already satisfied: pytz>=2020.1 in /Users/sandrobarreshamers/opt/anaconda3/envs/fake_new/lib/python3.8/site-packages (from pandas>=0.20.0->scikit-posthocs) (2022.7)\n",
      "Requirement already satisfied: packaging>=20.0 in /Users/sandrobarreshamers/opt/anaconda3/envs/fake_new/lib/python3.8/site-packages (from matplotlib->scikit-posthocs) (22.0)\n",
      "Requirement already satisfied: cycler>=0.10 in /Users/sandrobarreshamers/opt/anaconda3/envs/fake_new/lib/python3.8/site-packages (from matplotlib->scikit-posthocs) (0.11.0)\n",
      "Requirement already satisfied: pyparsing>=2.2.1 in /Users/sandrobarreshamers/opt/anaconda3/envs/fake_new/lib/python3.8/site-packages (from matplotlib->scikit-posthocs) (3.0.9)\n",
      "Requirement already satisfied: contourpy>=1.0.1 in /Users/sandrobarreshamers/opt/anaconda3/envs/fake_new/lib/python3.8/site-packages (from matplotlib->scikit-posthocs) (1.0.5)\n",
      "Requirement already satisfied: fonttools>=4.22.0 in /Users/sandrobarreshamers/opt/anaconda3/envs/fake_new/lib/python3.8/site-packages (from matplotlib->scikit-posthocs) (4.25.0)\n",
      "Requirement already satisfied: kiwisolver>=1.0.1 in /Users/sandrobarreshamers/opt/anaconda3/envs/fake_new/lib/python3.8/site-packages (from matplotlib->scikit-posthocs) (1.4.4)\n",
      "Requirement already satisfied: pillow>=6.2.0 in /Users/sandrobarreshamers/opt/anaconda3/envs/fake_new/lib/python3.8/site-packages (from matplotlib->scikit-posthocs) (9.3.0)\n",
      "Requirement already satisfied: patsy>=0.5.2 in /Users/sandrobarreshamers/opt/anaconda3/envs/fake_new/lib/python3.8/site-packages (from statsmodels->scikit-posthocs) (0.5.3)\n",
      "Requirement already satisfied: six in /Users/sandrobarreshamers/opt/anaconda3/envs/fake_new/lib/python3.8/site-packages (from patsy>=0.5.2->statsmodels->scikit-posthocs) (1.16.0)\n"
     ]
    }
   ],
   "source": [
    "!pip install scikit-posthocs"
   ]
  },
  {
   "cell_type": "markdown",
   "id": "cfbb3f81",
   "metadata": {},
   "source": [
    "## Liar dataset"
   ]
  },
  {
   "cell_type": "code",
   "execution_count": 3,
   "id": "1b3453de",
   "metadata": {},
   "outputs": [],
   "source": [
    "Liar_computed = pd.read_csv('/Users/sandrobarreshamers/Thesis_IS_fake_news/ThesisData/Data/Computed_liar.csv')\n"
   ]
  },
  {
   "cell_type": "code",
   "execution_count": 4,
   "id": "8340844d",
   "metadata": {},
   "outputs": [
    {
     "data": {
      "text/html": [
       "<div>\n",
       "<style scoped>\n",
       "    .dataframe tbody tr th:only-of-type {\n",
       "        vertical-align: middle;\n",
       "    }\n",
       "\n",
       "    .dataframe tbody tr th {\n",
       "        vertical-align: top;\n",
       "    }\n",
       "\n",
       "    .dataframe thead th {\n",
       "        text-align: right;\n",
       "    }\n",
       "</style>\n",
       "<table border=\"1\" class=\"dataframe\">\n",
       "  <thead>\n",
       "    <tr style=\"text-align: right;\">\n",
       "      <th></th>\n",
       "      <th>Unnamed: 0</th>\n",
       "      <th>json_id</th>\n",
       "      <th>claim</th>\n",
       "      <th>object</th>\n",
       "      <th>flesch_kincaid_reading_ease</th>\n",
       "      <th>compressed_size</th>\n",
       "      <th>vader_neg</th>\n",
       "      <th>vader_neu</th>\n",
       "      <th>vader_pos</th>\n",
       "      <th>vader_compound</th>\n",
       "    </tr>\n",
       "  </thead>\n",
       "  <tbody>\n",
       "    <tr>\n",
       "      <th>0</th>\n",
       "      <td>0</td>\n",
       "      <td>10540.json</td>\n",
       "      <td>half-true</td>\n",
       "      <td>When did the decline of coal start? It started...</td>\n",
       "      <td>71.815000</td>\n",
       "      <td>11443.0</td>\n",
       "      <td>0.000</td>\n",
       "      <td>0.902</td>\n",
       "      <td>0.098</td>\n",
       "      <td>0.3612</td>\n",
       "    </tr>\n",
       "    <tr>\n",
       "      <th>1</th>\n",
       "      <td>1</td>\n",
       "      <td>324.json</td>\n",
       "      <td>mostly-true</td>\n",
       "      <td>Hillary Clinton agrees with John McCain \"by vo...</td>\n",
       "      <td>71.781579</td>\n",
       "      <td>9089.0</td>\n",
       "      <td>0.107</td>\n",
       "      <td>0.687</td>\n",
       "      <td>0.206</td>\n",
       "      <td>0.3182</td>\n",
       "    </tr>\n",
       "    <tr>\n",
       "      <th>2</th>\n",
       "      <td>2</td>\n",
       "      <td>1123.json</td>\n",
       "      <td>false</td>\n",
       "      <td>Health care reform legislation is likely to ma...</td>\n",
       "      <td>53.655000</td>\n",
       "      <td>5511.0</td>\n",
       "      <td>0.000</td>\n",
       "      <td>0.606</td>\n",
       "      <td>0.394</td>\n",
       "      <td>0.7579</td>\n",
       "    </tr>\n",
       "    <tr>\n",
       "      <th>3</th>\n",
       "      <td>3</td>\n",
       "      <td>9028.json</td>\n",
       "      <td>half-true</td>\n",
       "      <td>The economic turnaround started at the end of ...</td>\n",
       "      <td>61.325000</td>\n",
       "      <td>4708.0</td>\n",
       "      <td>0.000</td>\n",
       "      <td>1.000</td>\n",
       "      <td>0.000</td>\n",
       "      <td>0.0000</td>\n",
       "    </tr>\n",
       "    <tr>\n",
       "      <th>4</th>\n",
       "      <td>4</td>\n",
       "      <td>12465.json</td>\n",
       "      <td>true</td>\n",
       "      <td>The Chicago Bears have had more starting quart...</td>\n",
       "      <td>54.096667</td>\n",
       "      <td>12205.0</td>\n",
       "      <td>0.119</td>\n",
       "      <td>0.828</td>\n",
       "      <td>0.053</td>\n",
       "      <td>-0.4601</td>\n",
       "    </tr>\n",
       "  </tbody>\n",
       "</table>\n",
       "</div>"
      ],
      "text/plain": [
       "   Unnamed: 0     json_id        claim  \\\n",
       "0           0  10540.json    half-true   \n",
       "1           1    324.json  mostly-true   \n",
       "2           2   1123.json        false   \n",
       "3           3   9028.json    half-true   \n",
       "4           4  12465.json         true   \n",
       "\n",
       "                                              object  \\\n",
       "0  When did the decline of coal start? It started...   \n",
       "1  Hillary Clinton agrees with John McCain \"by vo...   \n",
       "2  Health care reform legislation is likely to ma...   \n",
       "3  The economic turnaround started at the end of ...   \n",
       "4  The Chicago Bears have had more starting quart...   \n",
       "\n",
       "   flesch_kincaid_reading_ease  compressed_size  vader_neg  vader_neu  \\\n",
       "0                    71.815000          11443.0      0.000      0.902   \n",
       "1                    71.781579           9089.0      0.107      0.687   \n",
       "2                    53.655000           5511.0      0.000      0.606   \n",
       "3                    61.325000           4708.0      0.000      1.000   \n",
       "4                    54.096667          12205.0      0.119      0.828   \n",
       "\n",
       "   vader_pos  vader_compound  \n",
       "0      0.098          0.3612  \n",
       "1      0.206          0.3182  \n",
       "2      0.394          0.7579  \n",
       "3      0.000          0.0000  \n",
       "4      0.053         -0.4601  "
      ]
     },
     "execution_count": 4,
     "metadata": {},
     "output_type": "execute_result"
    }
   ],
   "source": [
    "Liar_computed.head()"
   ]
  },
  {
   "cell_type": "code",
   "execution_count": 5,
   "id": "bf5768e5",
   "metadata": {},
   "outputs": [
    {
     "name": "stdout",
     "output_type": "stream",
     "text": [
      "10239\n"
     ]
    }
   ],
   "source": [
    "def condition(x):\n",
    "    if x =='false':\n",
    "        return 1\n",
    "    elif x== 'half-true':\n",
    "        return 2\n",
    "    elif x== 'mostly-true':\n",
    "        return 2\n",
    "    elif x=='true':\n",
    "        return 0\n",
    "    elif x =='barely-true':\n",
    "        return 2\n",
    "    elif x == 'pants-fire':\n",
    "        return 1\n",
    "\n",
    "\n",
    "Liar_computed['binary label'] = Liar_computed['claim'].apply(condition)\n",
    "print(len(Liar_computed))"
   ]
  },
  {
   "cell_type": "code",
   "execution_count": 6,
   "id": "343cfcf6",
   "metadata": {},
   "outputs": [
    {
     "name": "stdout",
     "output_type": "stream",
     "text": [
      "Number of false statements: 1994\n",
      "Number of true statements: 1676\n",
      "Number of half-true statements: 2114\n",
      "Number of mostly-true statements: 1962\n",
      "Number of barely-true statements: 1654\n",
      "Number of pants-fire statements: 839\n",
      "Number of 0 statements: 1676\n",
      "Number of 1 statements: 2833\n",
      "Number of 2 statements: 5730\n"
     ]
    },
    {
     "data": {
      "image/png": "[encoded data removed]",
      "text/plain": [
       "<Figure size 1200x600 with 2 Axes>"
      ]
     },
     "metadata": {},
     "output_type": "display_data"
    }
   ],
   "source": [
    "import matplotlib.pyplot as plt\n",
    "\n",
    "claims = ['false','true', 'half-true','mostly-true','barely-true', 'pants-fire']\n",
    "\n",
    "def count_claims(df, claim):\n",
    "    count_claim = len(df[df['claim']== claim])\n",
    "    return count_claim\n",
    "\n",
    "claim_list= []\n",
    "for x in claims:\n",
    "    count_claim = count_claims(Liar_computed,x)\n",
    "    claim_list.append(count_claim)\n",
    "    print(f\"Number of {x} statements: {count_claim}\")\n",
    "\n",
    "\n",
    "binary_labels = [0,1,2]\n",
    "def count_label(df, labels):\n",
    "    count_label = len(df[df['binary label']== labels])\n",
    "    return count_label\n",
    "\n",
    "claim_labels = []\n",
    "for x in binary_labels:\n",
    "    count_labels = count_label(Liar_computed,x)\n",
    "    claim_labels.append(count_labels)\n",
    "    print(f\"Number of {x} statements: {count_labels}\")\n",
    "\n",
    "fig, (ax1, ax2) = plt.subplots(1, 2, figsize=(12, 6))\n",
    "fig.suptitle('Distribution of Claims and Labels')\n",
    "\n",
    "ax1.pie(claim_list, labels=claims)\n",
    "ax1.set_title('Distribution of Claims')\n",
    "\n",
    "ax2.pie(claim_labels, labels=['True claims', 'False claims', 'In between claims'])\n",
    "ax2.set_title('Distribution of Labels')\n",
    "\n",
    "plt.show()\n"
   ]
  },
  {
   "cell_type": "markdown",
   "id": "5aa512f3",
   "metadata": {},
   "source": [
    "## Computing the different distributions"
   ]
  },
  {
   "cell_type": "code",
   "execution_count": 7,
   "id": "d1c653a0",
   "metadata": {},
   "outputs": [
    {
     "name": "stderr",
     "output_type": "stream",
     "text": [
      "[nltk_data] Downloading package vader_lexicon to\n",
      "[nltk_data]     /Users/sandrobarreshamers/nltk_data...\n",
      "[nltk_data]   Package vader_lexicon is already up-to-date!\n"
     ]
    }
   ],
   "source": [
    "from pipe_line import values_by_label, compute_statistics\n"
   ]
  },
  {
   "cell_type": "markdown",
   "id": "88fabd5a",
   "metadata": {},
   "source": [
    "### Complexity"
   ]
  },
  {
   "cell_type": "code",
   "execution_count": 8,
   "id": "c5c4f369",
   "metadata": {},
   "outputs": [
    {
     "name": "stdout",
     "output_type": "stream",
     "text": [
      "Kruskal results:\n",
      "F-statistic: 79.437\n",
      "p-value: 5.629e-18\n"
     ]
    }
   ],
   "source": [
    "label_com = values_by_label(Liar_computed, 'compressed_size')\n",
    "stat, p = kruskal(*label_com) # unpack the elements \n",
    "\n",
    "print('Kruskal results:')\n",
    "print(f'F-statistic: {stat:.3f}')\n",
    "print(f'p-value: {p:.3e}')\n"
   ]
  },
  {
   "cell_type": "code",
   "execution_count": 9,
   "id": "23022c97",
   "metadata": {},
   "outputs": [
    {
     "name": "stdout",
     "output_type": "stream",
     "text": [
      "Dunn results:\n",
      "          1             2             3\n",
      "1  1.000000  4.915369e-05  2.893171e-02\n",
      "2  0.000049  1.000000e+00  1.511753e-18\n",
      "3  0.028932  1.511753e-18  1.000000e+00\n"
     ]
    }
   ],
   "source": [
    "dunn_results = sp.posthoc_dunn(label_com, p_adjust='bonferroni')\n",
    "\n",
    "\n",
    "print('Dunn results:')\n",
    "print(dunn_results)\n"
   ]
  },
  {
   "cell_type": "markdown",
   "id": "5ecf9f89",
   "metadata": {},
   "source": [
    "### Readability"
   ]
  },
  {
   "cell_type": "code",
   "execution_count": 10,
   "id": "446f7fba",
   "metadata": {},
   "outputs": [
    {
     "name": "stdout",
     "output_type": "stream",
     "text": [
      "Kruskal results:\n",
      "F-statistic: 49.863\n",
      "p-value: 1.487e-11\n"
     ]
    }
   ],
   "source": [
    "label_fke = values_by_label(Liar_computed, 'flesch_kincaid_reading_ease')\n",
    "stat, p = kruskal(*label_fke) # unpack the elements \n",
    "\n",
    "print('Kruskal results:')\n",
    "print(f'F-statistic: {stat:.3f}')\n",
    "print(f'p-value: {p:.3e}')"
   ]
  },
  {
   "cell_type": "code",
   "execution_count": 11,
   "id": "3e1d3af1",
   "metadata": {},
   "outputs": [
    {
     "name": "stdout",
     "output_type": "stream",
     "text": [
      "Dunn results:\n",
      "              1             2             3\n",
      "1  1.000000e+00  1.028364e-10  1.222697e-02\n",
      "2  1.028364e-10  1.000000e+00  1.800874e-07\n",
      "3  1.222697e-02  1.800874e-07  1.000000e+00\n"
     ]
    }
   ],
   "source": [
    "dunn_results = sp.posthoc_dunn(label_fke, p_adjust='bonferroni')\n",
    "\n",
    "\n",
    "print('Dunn results:')\n",
    "print(dunn_results)\n"
   ]
  },
  {
   "cell_type": "markdown",
   "id": "1284e7a3",
   "metadata": {},
   "source": [
    "### VADER Sentiment"
   ]
  },
  {
   "cell_type": "code",
   "execution_count": 41,
   "id": "2c002ace",
   "metadata": {},
   "outputs": [
    {
     "name": "stdout",
     "output_type": "stream",
     "text": [
      "vader_neg : fstat 10.409693080422452; p 0.005489892854085175\n",
      "vader_neu : fstat 10.17546297354846; p 0.00617200529376983\n",
      "vader_pos : fstat 4.323321766239063; p 0.11513373846730762\n",
      "vader_compound : fstat 1.999867736891534; p 0.36790377041511385\n"
     ]
    }
   ],
   "source": [
    "vader_labels = ['vader_neg', 'vader_neu', 'vader_pos', 'vader_compound']\n",
    "\n",
    "labels = []\n",
    "for vader in vader_labels:\n",
    "    label_vader = values_by_label(Liar_computed, vader)\n",
    "    stat, p = kruskal(*label_vader) # unpack the elements\n",
    "    labels.append([stat, p])\n",
    "\n",
    "for i, (stat, p), vader in zip(range(len(labels)), labels, vader_labels):\n",
    "    print(f'{vader} : fstat {stat}; p {p}')\n"
   ]
  },
  {
   "cell_type": "code",
   "execution_count": 13,
   "id": "4b422474",
   "metadata": {},
   "outputs": [
    {
     "name": "stdout",
     "output_type": "stream",
     "text": [
      "Dunn results for vader_neg:\n",
      "\n",
      "\n",
      "     1         2         3\n",
      "1  1.0  1.000000  1.000000\n",
      "2  1.0  1.000000  0.516025\n",
      "3  1.0  0.516025  1.000000\n",
      "Dunn results for vader_neu:\n",
      "\n",
      "\n",
      "     1         2         3\n",
      "1  1.0  1.000000  1.000000\n",
      "2  1.0  1.000000  0.516025\n",
      "3  1.0  0.516025  1.000000\n",
      "Dunn results for vader_pos:\n",
      "\n",
      "\n",
      "     1         2         3\n",
      "1  1.0  1.000000  1.000000\n",
      "2  1.0  1.000000  0.516025\n",
      "3  1.0  0.516025  1.000000\n",
      "Dunn results for vader_compound:\n",
      "\n",
      "\n",
      "     1         2         3\n",
      "1  1.0  1.000000  1.000000\n",
      "2  1.0  1.000000  0.516025\n",
      "3  1.0  0.516025  1.000000\n"
     ]
    }
   ],
   "source": [
    "for i, (stat, p), vader in zip(range(len(labels)), labels, vader_labels):\n",
    "    dunn_results = sp.posthoc_dunn(label_vader, p_adjust='bonferroni')\n",
    "    print(f'Dunn results for {vader}:\\n\\n')\n",
    "    print(dunn_results)\n",
    "    "
   ]
  },
  {
   "cell_type": "markdown",
   "id": "a8570ede",
   "metadata": {},
   "source": [
    "### NER"
   ]
  },
  {
   "cell_type": "code",
   "execution_count": 14,
   "id": "2347b872",
   "metadata": {},
   "outputs": [],
   "source": [
    "from pipe_line import count_named_entities\n",
    "\n",
    "Liar_computed['num_entities'] = Liar_computed['object'].apply(count_named_entities)\n",
    "\n"
   ]
  },
  {
   "cell_type": "code",
   "execution_count": 15,
   "id": "be6f1215",
   "metadata": {},
   "outputs": [
    {
     "name": "stdout",
     "output_type": "stream",
     "text": [
      "Kruskal results:\n",
      "F-statistic: 49.863\n",
      "p-value: 1.487e-11\n"
     ]
    }
   ],
   "source": [
    "label_NER = values_by_label(Liar_computed, 'flesch_kincaid_reading_ease')\n",
    "stat, p = kruskal(*label_NER) # unpack the elements \n",
    "\n",
    "print('Kruskal results:')\n",
    "print(f'F-statistic: {stat:.3f}')\n",
    "print(f'p-value: {p:.3e}')"
   ]
  },
  {
   "cell_type": "code",
   "execution_count": 16,
   "id": "8f87fc76",
   "metadata": {},
   "outputs": [
    {
     "name": "stdout",
     "output_type": "stream",
     "text": [
      "Dunn results:\n",
      "              1             2             3\n",
      "1  1.000000e+00  1.028364e-10  1.222697e-02\n",
      "2  1.028364e-10  1.000000e+00  1.800874e-07\n",
      "3  1.222697e-02  1.800874e-07  1.000000e+00\n"
     ]
    }
   ],
   "source": [
    "dunn_results = sp.posthoc_dunn(label_NER, p_adjust='bonferroni')\n",
    "\n",
    "\n",
    "print('Dunn results:')\n",
    "print(dunn_results)\n"
   ]
  },
  {
   "cell_type": "code",
   "execution_count": 17,
   "id": "14303d62",
   "metadata": {},
   "outputs": [
    {
     "data": {
      "text/html": [
       "<div>\n",
       "<style scoped>\n",
       "    .dataframe tbody tr th:only-of-type {\n",
       "        vertical-align: middle;\n",
       "    }\n",
       "\n",
       "    .dataframe tbody tr th {\n",
       "        vertical-align: top;\n",
       "    }\n",
       "\n",
       "    .dataframe thead th {\n",
       "        text-align: right;\n",
       "    }\n",
       "</style>\n",
       "<table border=\"1\" class=\"dataframe\">\n",
       "  <thead>\n",
       "    <tr style=\"text-align: right;\">\n",
       "      <th></th>\n",
       "      <th>Unnamed: 0</th>\n",
       "      <th>json_id</th>\n",
       "      <th>claim</th>\n",
       "      <th>object</th>\n",
       "      <th>flesch_kincaid_reading_ease</th>\n",
       "      <th>compressed_size</th>\n",
       "      <th>vader_neg</th>\n",
       "      <th>vader_neu</th>\n",
       "      <th>vader_pos</th>\n",
       "      <th>vader_compound</th>\n",
       "      <th>binary label</th>\n",
       "      <th>num_entities</th>\n",
       "    </tr>\n",
       "  </thead>\n",
       "  <tbody>\n",
       "    <tr>\n",
       "      <th>0</th>\n",
       "      <td>0</td>\n",
       "      <td>10540.json</td>\n",
       "      <td>half-true</td>\n",
       "      <td>When did the decline of coal start? It started...</td>\n",
       "      <td>71.815000</td>\n",
       "      <td>11443.0</td>\n",
       "      <td>0.000</td>\n",
       "      <td>0.902</td>\n",
       "      <td>0.098</td>\n",
       "      <td>0.3612</td>\n",
       "      <td>2</td>\n",
       "      <td>2</td>\n",
       "    </tr>\n",
       "    <tr>\n",
       "      <th>1</th>\n",
       "      <td>1</td>\n",
       "      <td>324.json</td>\n",
       "      <td>mostly-true</td>\n",
       "      <td>Hillary Clinton agrees with John McCain \"by vo...</td>\n",
       "      <td>71.781579</td>\n",
       "      <td>9089.0</td>\n",
       "      <td>0.107</td>\n",
       "      <td>0.687</td>\n",
       "      <td>0.206</td>\n",
       "      <td>0.3182</td>\n",
       "      <td>2</td>\n",
       "      <td>4</td>\n",
       "    </tr>\n",
       "    <tr>\n",
       "      <th>2</th>\n",
       "      <td>2</td>\n",
       "      <td>1123.json</td>\n",
       "      <td>false</td>\n",
       "      <td>Health care reform legislation is likely to ma...</td>\n",
       "      <td>53.655000</td>\n",
       "      <td>5511.0</td>\n",
       "      <td>0.000</td>\n",
       "      <td>0.606</td>\n",
       "      <td>0.394</td>\n",
       "      <td>0.7579</td>\n",
       "      <td>1</td>\n",
       "      <td>0</td>\n",
       "    </tr>\n",
       "    <tr>\n",
       "      <th>3</th>\n",
       "      <td>3</td>\n",
       "      <td>9028.json</td>\n",
       "      <td>half-true</td>\n",
       "      <td>The economic turnaround started at the end of ...</td>\n",
       "      <td>61.325000</td>\n",
       "      <td>4708.0</td>\n",
       "      <td>0.000</td>\n",
       "      <td>1.000</td>\n",
       "      <td>0.000</td>\n",
       "      <td>0.0000</td>\n",
       "      <td>2</td>\n",
       "      <td>0</td>\n",
       "    </tr>\n",
       "    <tr>\n",
       "      <th>4</th>\n",
       "      <td>4</td>\n",
       "      <td>12465.json</td>\n",
       "      <td>true</td>\n",
       "      <td>The Chicago Bears have had more starting quart...</td>\n",
       "      <td>54.096667</td>\n",
       "      <td>12205.0</td>\n",
       "      <td>0.119</td>\n",
       "      <td>0.828</td>\n",
       "      <td>0.053</td>\n",
       "      <td>-0.4601</td>\n",
       "      <td>0</td>\n",
       "      <td>3</td>\n",
       "    </tr>\n",
       "  </tbody>\n",
       "</table>\n",
       "</div>"
      ],
      "text/plain": [
       "   Unnamed: 0     json_id        claim  \\\n",
       "0           0  10540.json    half-true   \n",
       "1           1    324.json  mostly-true   \n",
       "2           2   1123.json        false   \n",
       "3           3   9028.json    half-true   \n",
       "4           4  12465.json         true   \n",
       "\n",
       "                                              object  \\\n",
       "0  When did the decline of coal start? It started...   \n",
       "1  Hillary Clinton agrees with John McCain \"by vo...   \n",
       "2  Health care reform legislation is likely to ma...   \n",
       "3  The economic turnaround started at the end of ...   \n",
       "4  The Chicago Bears have had more starting quart...   \n",
       "\n",
       "   flesch_kincaid_reading_ease  compressed_size  vader_neg  vader_neu  \\\n",
       "0                    71.815000          11443.0      0.000      0.902   \n",
       "1                    71.781579           9089.0      0.107      0.687   \n",
       "2                    53.655000           5511.0      0.000      0.606   \n",
       "3                    61.325000           4708.0      0.000      1.000   \n",
       "4                    54.096667          12205.0      0.119      0.828   \n",
       "\n",
       "   vader_pos  vader_compound  binary label  num_entities  \n",
       "0      0.098          0.3612             2             2  \n",
       "1      0.206          0.3182             2             4  \n",
       "2      0.394          0.7579             1             0  \n",
       "3      0.000          0.0000             2             0  \n",
       "4      0.053         -0.4601             0             3  "
      ]
     },
     "execution_count": 17,
     "metadata": {},
     "output_type": "execute_result"
    }
   ],
   "source": [
    "Liar_computed.head()"
   ]
  },
  {
   "cell_type": "markdown",
   "id": "dbe03a38",
   "metadata": {},
   "source": [
    "### POS"
   ]
  },
  {
   "cell_type": "code",
   "execution_count": 18,
   "id": "b7f3d8b1",
   "metadata": {},
   "outputs": [],
   "source": [
    "from pipe_line import count_pos"
   ]
  },
  {
   "cell_type": "code",
   "execution_count": 19,
   "id": "0c1e03b1",
   "metadata": {},
   "outputs": [],
   "source": [
    "Liar_computed['pos counts'] = Liar_computed['object'].apply(count_pos)"
   ]
  },
  {
   "cell_type": "code",
   "execution_count": 20,
   "id": "fe7ff067",
   "metadata": {},
   "outputs": [
    {
     "data": {
      "text/html": [
       "<div>\n",
       "<style scoped>\n",
       "    .dataframe tbody tr th:only-of-type {\n",
       "        vertical-align: middle;\n",
       "    }\n",
       "\n",
       "    .dataframe tbody tr th {\n",
       "        vertical-align: top;\n",
       "    }\n",
       "\n",
       "    .dataframe thead th {\n",
       "        text-align: right;\n",
       "    }\n",
       "</style>\n",
       "<table border=\"1\" class=\"dataframe\">\n",
       "  <thead>\n",
       "    <tr style=\"text-align: right;\">\n",
       "      <th></th>\n",
       "      <th>Unnamed: 0</th>\n",
       "      <th>json_id</th>\n",
       "      <th>claim</th>\n",
       "      <th>object</th>\n",
       "      <th>flesch_kincaid_reading_ease</th>\n",
       "      <th>compressed_size</th>\n",
       "      <th>vader_neg</th>\n",
       "      <th>vader_neu</th>\n",
       "      <th>vader_pos</th>\n",
       "      <th>vader_compound</th>\n",
       "      <th>binary label</th>\n",
       "      <th>num_entities</th>\n",
       "      <th>pos counts</th>\n",
       "    </tr>\n",
       "  </thead>\n",
       "  <tbody>\n",
       "    <tr>\n",
       "      <th>0</th>\n",
       "      <td>0</td>\n",
       "      <td>10540.json</td>\n",
       "      <td>half-true</td>\n",
       "      <td>When did the decline of coal start? It started...</td>\n",
       "      <td>71.815000</td>\n",
       "      <td>11443.0</td>\n",
       "      <td>0.000</td>\n",
       "      <td>0.902</td>\n",
       "      <td>0.098</td>\n",
       "      <td>0.3612</td>\n",
       "      <td>2</td>\n",
       "      <td>2</td>\n",
       "      <td>{'ADV': 2, 'AUX': 1, 'DET': 2, 'NOUN': 5, 'ADP...</td>\n",
       "    </tr>\n",
       "    <tr>\n",
       "      <th>1</th>\n",
       "      <td>1</td>\n",
       "      <td>324.json</td>\n",
       "      <td>mostly-true</td>\n",
       "      <td>Hillary Clinton agrees with John McCain \"by vo...</td>\n",
       "      <td>71.781579</td>\n",
       "      <td>9089.0</td>\n",
       "      <td>0.107</td>\n",
       "      <td>0.687</td>\n",
       "      <td>0.206</td>\n",
       "      <td>0.3182</td>\n",
       "      <td>2</td>\n",
       "      <td>4</td>\n",
       "      <td>{'PROPN': 7, 'VERB': 3, 'ADP': 4, 'PUNCT': 3, ...</td>\n",
       "    </tr>\n",
       "    <tr>\n",
       "      <th>2</th>\n",
       "      <td>2</td>\n",
       "      <td>1123.json</td>\n",
       "      <td>false</td>\n",
       "      <td>Health care reform legislation is likely to ma...</td>\n",
       "      <td>53.655000</td>\n",
       "      <td>5511.0</td>\n",
       "      <td>0.000</td>\n",
       "      <td>0.606</td>\n",
       "      <td>0.394</td>\n",
       "      <td>0.7579</td>\n",
       "      <td>1</td>\n",
       "      <td>0</td>\n",
       "      <td>{'NOUN': 7, 'AUX': 1, 'ADJ': 2, 'PART': 1, 'VE...</td>\n",
       "    </tr>\n",
       "    <tr>\n",
       "      <th>3</th>\n",
       "      <td>3</td>\n",
       "      <td>9028.json</td>\n",
       "      <td>half-true</td>\n",
       "      <td>The economic turnaround started at the end of ...</td>\n",
       "      <td>61.325000</td>\n",
       "      <td>4708.0</td>\n",
       "      <td>0.000</td>\n",
       "      <td>1.000</td>\n",
       "      <td>0.000</td>\n",
       "      <td>0.0000</td>\n",
       "      <td>2</td>\n",
       "      <td>0</td>\n",
       "      <td>{'DET': 3, 'ADJ': 1, 'NOUN': 3, 'VERB': 1, 'AD...</td>\n",
       "    </tr>\n",
       "    <tr>\n",
       "      <th>4</th>\n",
       "      <td>4</td>\n",
       "      <td>12465.json</td>\n",
       "      <td>true</td>\n",
       "      <td>The Chicago Bears have had more starting quart...</td>\n",
       "      <td>54.096667</td>\n",
       "      <td>12205.0</td>\n",
       "      <td>0.119</td>\n",
       "      <td>0.828</td>\n",
       "      <td>0.053</td>\n",
       "      <td>-0.4601</td>\n",
       "      <td>0</td>\n",
       "      <td>3</td>\n",
       "      <td>{'DET': 4, 'PROPN': 4, 'AUX': 1, 'VERB': 3, 'A...</td>\n",
       "    </tr>\n",
       "  </tbody>\n",
       "</table>\n",
       "</div>"
      ],
      "text/plain": [
       "   Unnamed: 0     json_id        claim  \\\n",
       "0           0  10540.json    half-true   \n",
       "1           1    324.json  mostly-true   \n",
       "2           2   1123.json        false   \n",
       "3           3   9028.json    half-true   \n",
       "4           4  12465.json         true   \n",
       "\n",
       "                                              object  \\\n",
       "0  When did the decline of coal start? It started...   \n",
       "1  Hillary Clinton agrees with John McCain \"by vo...   \n",
       "2  Health care reform legislation is likely to ma...   \n",
       "3  The economic turnaround started at the end of ...   \n",
       "4  The Chicago Bears have had more starting quart...   \n",
       "\n",
       "   flesch_kincaid_reading_ease  compressed_size  vader_neg  vader_neu  \\\n",
       "0                    71.815000          11443.0      0.000      0.902   \n",
       "1                    71.781579           9089.0      0.107      0.687   \n",
       "2                    53.655000           5511.0      0.000      0.606   \n",
       "3                    61.325000           4708.0      0.000      1.000   \n",
       "4                    54.096667          12205.0      0.119      0.828   \n",
       "\n",
       "   vader_pos  vader_compound  binary label  num_entities  \\\n",
       "0      0.098          0.3612             2             2   \n",
       "1      0.206          0.3182             2             4   \n",
       "2      0.394          0.7579             1             0   \n",
       "3      0.000          0.0000             2             0   \n",
       "4      0.053         -0.4601             0             3   \n",
       "\n",
       "                                          pos counts  \n",
       "0  {'ADV': 2, 'AUX': 1, 'DET': 2, 'NOUN': 5, 'ADP...  \n",
       "1  {'PROPN': 7, 'VERB': 3, 'ADP': 4, 'PUNCT': 3, ...  \n",
       "2  {'NOUN': 7, 'AUX': 1, 'ADJ': 2, 'PART': 1, 'VE...  \n",
       "3  {'DET': 3, 'ADJ': 1, 'NOUN': 3, 'VERB': 1, 'AD...  \n",
       "4  {'DET': 4, 'PROPN': 4, 'AUX': 1, 'VERB': 3, 'A...  "
      ]
     },
     "execution_count": 20,
     "metadata": {},
     "output_type": "execute_result"
    }
   ],
   "source": [
    "Liar_computed.head()"
   ]
  },
  {
   "cell_type": "code",
   "execution_count": 46,
   "id": "dd204e59",
   "metadata": {
    "scrolled": true
   },
   "outputs": [],
   "source": [
    "pos_tags = ['ADJ', 'ADP', 'ADV', 'AUX', 'CCONJ', 'DET', 'INTJ', 'NOUN',\n",
    "            'NUM', 'PART', 'PRON', 'PROPN', 'PUNCT', 'SCONJ', 'SYM', 'VERB', 'X']\n",
    "def create_input_vector(pos_count_dict):\n",
    "    input_vector = np.zeros(len(pos_tags))\n",
    "    for i, tag in enumerate(pos_tags):\n",
    "        if tag in pos_count_dict:\n",
    "            input_vector[i] = pos_count_dict[tag]\n",
    "    return input_vector\n",
    "Liar_computed['input vector'] = Liar_computed['pos counts'].apply(create_input_vector)\n",
    "\n"
   ]
  },
  {
   "cell_type": "code",
   "execution_count": 47,
   "id": "b14e2fb9",
   "metadata": {},
   "outputs": [
    {
     "data": {
      "text/plain": [
       "Index(['Unnamed: 0', 'json_id', 'claim', 'object',\n",
       "       'flesch_kincaid_reading_ease', 'compressed_size', 'vader_neg',\n",
       "       'vader_neu', 'vader_pos', 'vader_compound', 'binary label',\n",
       "       'num_entities', 'pos counts', 'input vector', 'pos_ADJ', 'pos_ADP',\n",
       "       'pos_ADV', 'pos_AUX', 'pos_CONJ', 'pos_CCONJ', 'pos_DET', 'pos_INTJ',\n",
       "       'pos_NOUN', 'pos_NUM', 'pos_PART', 'pos_PRON', 'pos_PROPN', 'pos_PUNCT',\n",
       "       'pos_SCONJ', 'pos_SYM', 'pos_VERB', 'pos_X'],\n",
       "      dtype='object')"
      ]
     },
     "execution_count": 47,
     "metadata": {},
     "output_type": "execute_result"
    }
   ],
   "source": [
    "for tag in pos_tags:\n",
    "    col_name = f'pos_{tag}'\n",
    "    Liar_computed[col_name] = Liar_computed['input vector'].apply(lambda x: x[pos_tags.index(tag)] if tag in pos_tags else 0)\n",
    "Liar_computed.columns\n",
    "#Liar_computed.head()"
   ]
  },
  {
   "cell_type": "code",
   "execution_count": 52,
   "id": "51f40539",
   "metadata": {},
   "outputs": [
    {
     "name": "stdout",
     "output_type": "stream",
     "text": [
      "pos_NOUN : fstat 74.42562883952174; p 6.897314694451533e-17\n",
      "pos_ADJ : fstat 75.63363133229193; p 3.7702107990073795e-17\n",
      "pos_VERB : fstat 45.05819719363287; p 1.6433754586485928e-10\n",
      "pos_ADV : fstat 15.343928130378757; p 0.000465702255291164\n",
      "pos_ADP : fstat 52.88463642780589; p 3.2828203050086716e-12\n",
      "pos_AUX : fstat 10.672755272313356; p 0.004813274601537372\n",
      "pos_CCONJ : fstat 30.78256967100686; p 2.0684733341776858e-07\n",
      "pos_DET : fstat 17.70000951293461; p 0.0001433810542873743\n",
      "pos_INTJ : fstat 1.6205299951697043; p 0.44474019552820465\n",
      "pos_NUM : fstat 157.83110536457033; p 5.33839781071815e-35\n",
      "pos_PART : fstat 15.798490526270482; p 0.0003710234598959158\n",
      "pos_PRON : fstat 6.770194727289172; p 0.03387434405551494\n",
      "pos_PROPN : fstat 49.15895156684152; p 2.1147999875958165e-11\n",
      "pos_PUNCT : fstat 39.48929409787203; p 2.6607786034061635e-09\n",
      "pos_SCONJ : fstat 50.565192976835576; p 1.0469064051354758e-11\n",
      "pos_SYM : fstat 27.912685893597782; p 8.686348924034588e-07\n",
      "pos_X : fstat 4.769992151936845; p 0.092089340940054\n"
     ]
    }
   ],
   "source": [
    "pos_labels = ['pos_NOUN', 'pos_ADJ', 'pos_VERB', 'pos_ADV', 'pos_ADP', 'pos_AUX', 'pos_CCONJ', 'pos_DET', 'pos_INTJ', 'pos_NUM', 'pos_PART', 'pos_PRON', 'pos_PROPN', 'pos_PUNCT', 'pos_SCONJ', 'pos_SYM', 'pos_X']\n",
    "\n",
    "labels = []\n",
    "for pos in pos_labels:\n",
    "    label_pos = values_by_label(Liar_computed, pos)\n",
    "    stat, p = kruskal(*label_pos) # unpack the elements\n",
    "    labels.append([stat, p])\n",
    "\n",
    "for i, (stat, p), pos in zip(range(len(labels)), labels, pos_labels):\n",
    "       print(f'{pos} : fstat {stat}; p {p}')\n"
   ]
  },
  {
   "cell_type": "code",
   "execution_count": 53,
   "id": "5c670b27",
   "metadata": {},
   "outputs": [
    {
     "name": "stdout",
     "output_type": "stream",
     "text": [
      "Dunn results for pos_NOUN:\n",
      "\n",
      "\n",
      "          1         2         3\n",
      "1  1.000000  0.091236  0.257834\n",
      "2  0.091236  1.000000  1.000000\n",
      "3  0.257834  1.000000  1.000000\n",
      "Dunn results for pos_ADJ:\n",
      "\n",
      "\n",
      "          1         2         3\n",
      "1  1.000000  0.091236  0.257834\n",
      "2  0.091236  1.000000  1.000000\n",
      "3  0.257834  1.000000  1.000000\n",
      "Dunn results for pos_VERB:\n",
      "\n",
      "\n",
      "          1         2         3\n",
      "1  1.000000  0.091236  0.257834\n",
      "2  0.091236  1.000000  1.000000\n",
      "3  0.257834  1.000000  1.000000\n",
      "Dunn results for pos_ADV:\n",
      "\n",
      "\n",
      "          1         2         3\n",
      "1  1.000000  0.091236  0.257834\n",
      "2  0.091236  1.000000  1.000000\n",
      "3  0.257834  1.000000  1.000000\n",
      "Dunn results for pos_ADP:\n",
      "\n",
      "\n",
      "          1         2         3\n",
      "1  1.000000  0.091236  0.257834\n",
      "2  0.091236  1.000000  1.000000\n",
      "3  0.257834  1.000000  1.000000\n",
      "Dunn results for pos_AUX:\n",
      "\n",
      "\n",
      "          1         2         3\n",
      "1  1.000000  0.091236  0.257834\n",
      "2  0.091236  1.000000  1.000000\n",
      "3  0.257834  1.000000  1.000000\n",
      "Dunn results for pos_CCONJ:\n",
      "\n",
      "\n",
      "          1         2         3\n",
      "1  1.000000  0.091236  0.257834\n",
      "2  0.091236  1.000000  1.000000\n",
      "3  0.257834  1.000000  1.000000\n",
      "Dunn results for pos_DET:\n",
      "\n",
      "\n",
      "          1         2         3\n",
      "1  1.000000  0.091236  0.257834\n",
      "2  0.091236  1.000000  1.000000\n",
      "3  0.257834  1.000000  1.000000\n",
      "Dunn results for pos_INTJ:\n",
      "\n",
      "\n",
      "          1         2         3\n",
      "1  1.000000  0.091236  0.257834\n",
      "2  0.091236  1.000000  1.000000\n",
      "3  0.257834  1.000000  1.000000\n",
      "Dunn results for pos_NUM:\n",
      "\n",
      "\n",
      "          1         2         3\n",
      "1  1.000000  0.091236  0.257834\n",
      "2  0.091236  1.000000  1.000000\n",
      "3  0.257834  1.000000  1.000000\n",
      "Dunn results for pos_PART:\n",
      "\n",
      "\n",
      "          1         2         3\n",
      "1  1.000000  0.091236  0.257834\n",
      "2  0.091236  1.000000  1.000000\n",
      "3  0.257834  1.000000  1.000000\n",
      "Dunn results for pos_PRON:\n",
      "\n",
      "\n",
      "          1         2         3\n",
      "1  1.000000  0.091236  0.257834\n",
      "2  0.091236  1.000000  1.000000\n",
      "3  0.257834  1.000000  1.000000\n",
      "Dunn results for pos_PROPN:\n",
      "\n",
      "\n",
      "          1         2         3\n",
      "1  1.000000  0.091236  0.257834\n",
      "2  0.091236  1.000000  1.000000\n",
      "3  0.257834  1.000000  1.000000\n",
      "Dunn results for pos_PUNCT:\n",
      "\n",
      "\n",
      "          1         2         3\n",
      "1  1.000000  0.091236  0.257834\n",
      "2  0.091236  1.000000  1.000000\n",
      "3  0.257834  1.000000  1.000000\n",
      "Dunn results for pos_SCONJ:\n",
      "\n",
      "\n",
      "          1         2         3\n",
      "1  1.000000  0.091236  0.257834\n",
      "2  0.091236  1.000000  1.000000\n",
      "3  0.257834  1.000000  1.000000\n",
      "Dunn results for pos_SYM:\n",
      "\n",
      "\n",
      "          1         2         3\n",
      "1  1.000000  0.091236  0.257834\n",
      "2  0.091236  1.000000  1.000000\n",
      "3  0.257834  1.000000  1.000000\n",
      "Dunn results for pos_X:\n",
      "\n",
      "\n",
      "          1         2         3\n",
      "1  1.000000  0.091236  0.257834\n",
      "2  0.091236  1.000000  1.000000\n",
      "3  0.257834  1.000000  1.000000\n"
     ]
    }
   ],
   "source": [
    "for i, (stat, p), pos in zip(range(len(labels)), labels, pos_labels):\n",
    "    dunn_results = sp.posthoc_dunn(label_pos, p_adjust='bonferroni')\n",
    "    print(f'Dunn results for {pos}:\\n\\n')\n",
    "    print(dunn_results)\n",
    "    \n",
    "\n",
    "    \n"
   ]
  },
  {
   "cell_type": "markdown",
   "id": "60847316",
   "metadata": {},
   "source": [
    "## Basic classification"
   ]
  },
  {
   "cell_type": "code",
   "execution_count": 24,
   "id": "4bb579ee",
   "metadata": {},
   "outputs": [
    {
     "data": {
      "text/html": [
       "<div>\n",
       "<style scoped>\n",
       "    .dataframe tbody tr th:only-of-type {\n",
       "        vertical-align: middle;\n",
       "    }\n",
       "\n",
       "    .dataframe tbody tr th {\n",
       "        vertical-align: top;\n",
       "    }\n",
       "\n",
       "    .dataframe thead th {\n",
       "        text-align: right;\n",
       "    }\n",
       "</style>\n",
       "<table border=\"1\" class=\"dataframe\">\n",
       "  <thead>\n",
       "    <tr style=\"text-align: right;\">\n",
       "      <th></th>\n",
       "      <th>Unnamed: 0</th>\n",
       "      <th>json_id</th>\n",
       "      <th>claim</th>\n",
       "      <th>object</th>\n",
       "      <th>flesch_kincaid_reading_ease</th>\n",
       "      <th>compressed_size</th>\n",
       "      <th>vader_neg</th>\n",
       "      <th>vader_neu</th>\n",
       "      <th>vader_pos</th>\n",
       "      <th>vader_compound</th>\n",
       "      <th>...</th>\n",
       "      <th>pos_NOUN</th>\n",
       "      <th>pos_NUM</th>\n",
       "      <th>pos_PART</th>\n",
       "      <th>pos_PRON</th>\n",
       "      <th>pos_PROPN</th>\n",
       "      <th>pos_PUNCT</th>\n",
       "      <th>pos_SCONJ</th>\n",
       "      <th>pos_SYM</th>\n",
       "      <th>pos_VERB</th>\n",
       "      <th>pos_X</th>\n",
       "    </tr>\n",
       "  </thead>\n",
       "  <tbody>\n",
       "    <tr>\n",
       "      <th>2</th>\n",
       "      <td>2</td>\n",
       "      <td>1123.json</td>\n",
       "      <td>false</td>\n",
       "      <td>Health care reform legislation is likely to ma...</td>\n",
       "      <td>53.655000</td>\n",
       "      <td>5511.0</td>\n",
       "      <td>0.000</td>\n",
       "      <td>0.606</td>\n",
       "      <td>0.394</td>\n",
       "      <td>0.7579</td>\n",
       "      <td>...</td>\n",
       "      <td>7.0</td>\n",
       "      <td>0.0</td>\n",
       "      <td>1.0</td>\n",
       "      <td>0.0</td>\n",
       "      <td>0.0</td>\n",
       "      <td>1.0</td>\n",
       "      <td>0.0</td>\n",
       "      <td>0.0</td>\n",
       "      <td>1.0</td>\n",
       "      <td>0.0</td>\n",
       "    </tr>\n",
       "    <tr>\n",
       "      <th>4</th>\n",
       "      <td>4</td>\n",
       "      <td>12465.json</td>\n",
       "      <td>true</td>\n",
       "      <td>The Chicago Bears have had more starting quart...</td>\n",
       "      <td>54.096667</td>\n",
       "      <td>12205.0</td>\n",
       "      <td>0.119</td>\n",
       "      <td>0.828</td>\n",
       "      <td>0.053</td>\n",
       "      <td>-0.4601</td>\n",
       "      <td>...</td>\n",
       "      <td>5.0</td>\n",
       "      <td>2.0</td>\n",
       "      <td>0.0</td>\n",
       "      <td>0.0</td>\n",
       "      <td>4.0</td>\n",
       "      <td>3.0</td>\n",
       "      <td>1.0</td>\n",
       "      <td>0.0</td>\n",
       "      <td>3.0</td>\n",
       "      <td>0.0</td>\n",
       "    </tr>\n",
       "    <tr>\n",
       "      <th>11</th>\n",
       "      <td>11</td>\n",
       "      <td>5947.json</td>\n",
       "      <td>false</td>\n",
       "      <td>When Mitt Romney was governor of Massachusetts...</td>\n",
       "      <td>58.429130</td>\n",
       "      <td>10582.0</td>\n",
       "      <td>0.085</td>\n",
       "      <td>0.810</td>\n",
       "      <td>0.105</td>\n",
       "      <td>0.1280</td>\n",
       "      <td>...</td>\n",
       "      <td>4.0</td>\n",
       "      <td>0.0</td>\n",
       "      <td>1.0</td>\n",
       "      <td>3.0</td>\n",
       "      <td>3.0</td>\n",
       "      <td>3.0</td>\n",
       "      <td>0.0</td>\n",
       "      <td>0.0</td>\n",
       "      <td>2.0</td>\n",
       "      <td>0.0</td>\n",
       "    </tr>\n",
       "    <tr>\n",
       "      <th>15</th>\n",
       "      <td>15</td>\n",
       "      <td>620.json</td>\n",
       "      <td>true</td>\n",
       "      <td>McCain opposed a requirement that the governme...</td>\n",
       "      <td>35.034643</td>\n",
       "      <td>11081.0</td>\n",
       "      <td>0.000</td>\n",
       "      <td>1.000</td>\n",
       "      <td>0.000</td>\n",
       "      <td>0.0000</td>\n",
       "      <td>...</td>\n",
       "      <td>4.0</td>\n",
       "      <td>0.0</td>\n",
       "      <td>0.0</td>\n",
       "      <td>1.0</td>\n",
       "      <td>2.0</td>\n",
       "      <td>6.0</td>\n",
       "      <td>1.0</td>\n",
       "      <td>0.0</td>\n",
       "      <td>5.0</td>\n",
       "      <td>0.0</td>\n",
       "    </tr>\n",
       "    <tr>\n",
       "      <th>19</th>\n",
       "      <td>19</td>\n",
       "      <td>10173.json</td>\n",
       "      <td>false</td>\n",
       "      <td>Women and men both are making less when you ad...</td>\n",
       "      <td>55.405000</td>\n",
       "      <td>8848.0</td>\n",
       "      <td>0.000</td>\n",
       "      <td>1.000</td>\n",
       "      <td>0.000</td>\n",
       "      <td>0.0000</td>\n",
       "      <td>...</td>\n",
       "      <td>4.0</td>\n",
       "      <td>0.0</td>\n",
       "      <td>0.0</td>\n",
       "      <td>1.0</td>\n",
       "      <td>2.0</td>\n",
       "      <td>1.0</td>\n",
       "      <td>1.0</td>\n",
       "      <td>0.0</td>\n",
       "      <td>3.0</td>\n",
       "      <td>0.0</td>\n",
       "    </tr>\n",
       "  </tbody>\n",
       "</table>\n",
       "<p>5 rows × 32 columns</p>\n",
       "</div>"
      ],
      "text/plain": [
       "    Unnamed: 0     json_id  claim  \\\n",
       "2            2   1123.json  false   \n",
       "4            4  12465.json   true   \n",
       "11          11   5947.json  false   \n",
       "15          15    620.json   true   \n",
       "19          19  10173.json  false   \n",
       "\n",
       "                                               object  \\\n",
       "2   Health care reform legislation is likely to ma...   \n",
       "4   The Chicago Bears have had more starting quart...   \n",
       "11  When Mitt Romney was governor of Massachusetts...   \n",
       "15  McCain opposed a requirement that the governme...   \n",
       "19  Women and men both are making less when you ad...   \n",
       "\n",
       "    flesch_kincaid_reading_ease  compressed_size  vader_neg  vader_neu  \\\n",
       "2                     53.655000           5511.0      0.000      0.606   \n",
       "4                     54.096667          12205.0      0.119      0.828   \n",
       "11                    58.429130          10582.0      0.085      0.810   \n",
       "15                    35.034643          11081.0      0.000      1.000   \n",
       "19                    55.405000           8848.0      0.000      1.000   \n",
       "\n",
       "    vader_pos  vader_compound  ...  pos_NOUN  pos_NUM pos_PART pos_PRON  \\\n",
       "2       0.394          0.7579  ...       7.0      0.0      1.0      0.0   \n",
       "4       0.053         -0.4601  ...       5.0      2.0      0.0      0.0   \n",
       "11      0.105          0.1280  ...       4.0      0.0      1.0      3.0   \n",
       "15      0.000          0.0000  ...       4.0      0.0      0.0      1.0   \n",
       "19      0.000          0.0000  ...       4.0      0.0      0.0      1.0   \n",
       "\n",
       "    pos_PROPN  pos_PUNCT  pos_SCONJ  pos_SYM  pos_VERB  pos_X  \n",
       "2         0.0        1.0        0.0      0.0       1.0    0.0  \n",
       "4         4.0        3.0        1.0      0.0       3.0    0.0  \n",
       "11        3.0        3.0        0.0      0.0       2.0    0.0  \n",
       "15        2.0        6.0        1.0      0.0       5.0    0.0  \n",
       "19        2.0        1.0        1.0      0.0       3.0    0.0  \n",
       "\n",
       "[5 rows x 32 columns]"
      ]
     },
     "execution_count": 24,
     "metadata": {},
     "output_type": "execute_result"
    }
   ],
   "source": [
    "filtered_df = Liar_computed[Liar_computed['binary label'] != 2]\n",
    "\n",
    "filtered_df.head()\n"
   ]
  },
  {
   "cell_type": "code",
   "execution_count": 25,
   "id": "5d157390",
   "metadata": {},
   "outputs": [],
   "source": [
    "from sklearn.model_selection import train_test_split\n",
    "from sklearn.preprocessing import StandardScaler\n",
    "from sklearn.naive_bayes import GaussianNB\n",
    "from sklearn.naive_bayes import MultinomialNB\n",
    "from sklearn.metrics import accuracy_score\n",
    "from sklearn.metrics import accuracy_score, confusion_matrix\n",
    "from sklearn.metrics import confusion_matrix\n",
    "from sklearn.metrics import classification_report\n",
    "from mlxtend.plotting import plot_confusion_matrix\n",
    "from sklearn.ensemble import RandomForestClassifier\n",
    "from imblearn.over_sampling import SMOTE\n",
    "from sklearn.utils.class_weight import compute_sample_weight"
   ]
  },
  {
   "cell_type": "code",
   "execution_count": null,
   "id": "fb50d04a",
   "metadata": {},
   "outputs": [],
   "source": []
  },
  {
   "cell_type": "code",
   "execution_count": 26,
   "id": "fc30df8a",
   "metadata": {},
   "outputs": [],
   "source": [
    "features = ['flesch_kincaid_reading_ease', 'compressed_size', 'vader_neg', 'vader_neu', 'vader_pos', 'vader_compound','num_entities']#,'pos label']\n",
    "features3 = ['flesch_kincaid_reading_ease', 'compressed_size', 'vader_pos', 'num_entities', 'pos_NOUN', 'pos_ADJ', 'pos_VERB', 'pos_ADV']\n",
    "features4 = ['flesch_kincaid_reading_ease', 'compressed_size', 'vader_pos', 'num_entities','pos_NOUN', 'pos_ADJ',\n",
    "       'pos_VERB', 'pos_ADV', 'pos_ADP', 'pos_AUX', 'pos_CONJ', 'pos_CCONJ',\n",
    "       'pos_DET', 'pos_INTJ', 'pos_NUM', 'pos_PART', 'pos_PRON', 'pos_PROPN',\n",
    "       'pos_PUNCT', 'pos_SCONJ', 'pos_SYM', 'pos_X']\n"
   ]
  },
  {
   "cell_type": "code",
   "execution_count": 27,
   "id": "1ca22543",
   "metadata": {},
   "outputs": [],
   "source": [
    "X = filtered_df[features4]\n",
    "\n",
    "y = filtered_df['binary label']\n",
    "\n",
    "\n",
    "X_train, X_test, y_train, y_test = train_test_split(X, y, test_size=0.2, random_state=42)\n",
    "\n",
    "sm = SMOTE(random_state=42)\n",
    "X_train_res, y_train_res = sm.fit_resample(X_train, y_train)\n",
    "\n",
    "# Scale the features and normalize the data\n",
    "scaler = StandardScaler()\n",
    "X_train_res_scaled = scaler.fit_transform(X_train_res)\n",
    "X_test_res_scaled = scaler.transform(X_test)"
   ]
  },
  {
   "cell_type": "markdown",
   "id": "acd33852",
   "metadata": {},
   "source": [
    "### Random forrest"
   ]
  },
  {
   "cell_type": "code",
   "execution_count": 28,
   "id": "9d341a8c",
   "metadata": {},
   "outputs": [
    {
     "name": "stdout",
     "output_type": "stream",
     "text": [
      "Accuracy: 0.6319290465631929\n",
      "[[ 93 236]\n",
      " [ 96 477]]\n"
     ]
    },
    {
     "data": {
      "image/png": "[encoded data removed]",
      "text/plain": [
       "<Figure size 640x480 with 2 Axes>"
      ]
     },
     "metadata": {},
     "output_type": "display_data"
    }
   ],
   "source": [
    "clf = RandomForestClassifier(n_estimators=100, random_state=42)\n",
    "clf.fit(X_train_res_scaled, y_train_res)\n",
    "y_pred = clf.predict(X_test_res_scaled)\n",
    "\n",
    "accuracy = accuracy_score(y_test, y_pred)\n",
    "print('Accuracy:', accuracy)\n",
    "\n",
    "\n",
    "cm_2 =confusion_matrix(y_test, y_pred)\n",
    "fig, ax = plot_confusion_matrix(conf_mat=cm_2,\n",
    "                                show_absolute=True,\n",
    "                                show_normed=True,\n",
    "                                colorbar=True)\n",
    "\n",
    "# improved from 51% to 55%\n",
    "print(cm_2)"
   ]
  },
  {
   "cell_type": "code",
   "execution_count": 32,
   "id": "79c6207b",
   "metadata": {},
   "outputs": [
    {
     "name": "stdout",
     "output_type": "stream",
     "text": [
      "F1 score: 0.6022246948924489\n"
     ]
    }
   ],
   "source": [
    "from sklearn.metrics import f1_score\n",
    "\n",
    "y_pred = clf.predict(X_test_res_scaled)\n",
    "f1 = f1_score(y_test, y_pred, average='weighted')\n",
    "print('F1 score:', f1)\n"
   ]
  },
  {
   "cell_type": "code",
   "execution_count": 33,
   "id": "5c3b4432",
   "metadata": {},
   "outputs": [
    {
     "name": "stdout",
     "output_type": "stream",
     "text": [
      "f1 score k fold crss: 0.71 (+/- 0.02)\n"
     ]
    }
   ],
   "source": [
    "kfold = KFold(n_splits=10, shuffle=True, random_state=42)\n",
    "\n",
    "scores = cross_val_score(clf, X_train_res_scaled, y_train_res, cv=kfold, scoring='f1_macro')\n",
    "\n",
    "print(\"f1 score k fold crss: %0.2f (+/- %0.2f)\" % (scores.mean(), scores.std()))"
   ]
  },
  {
   "cell_type": "code",
   "execution_count": null,
   "id": "6179886f",
   "metadata": {},
   "outputs": [],
   "source": []
  },
  {
   "cell_type": "markdown",
   "id": "6d85d10e",
   "metadata": {},
   "source": [
    "### Gradient  booster"
   ]
  },
  {
   "cell_type": "code",
   "execution_count": 34,
   "id": "268f3832",
   "metadata": {},
   "outputs": [
    {
     "name": "stdout",
     "output_type": "stream",
     "text": [
      "              precision    recall  f1-score   support\n",
      "\n",
      "           0       0.54      0.27      0.36       329\n",
      "           1       0.67      0.87      0.76       573\n",
      "\n",
      "    accuracy                           0.65       902\n",
      "   macro avg       0.61      0.57      0.56       902\n",
      "weighted avg       0.63      0.65      0.61       902\n",
      "\n",
      "Accuracy: 0.6496674057649667\n"
     ]
    },
    {
     "data": {
      "image/png": "[encoded data removed]",
      "text/plain": [
       "<Figure size 640x480 with 2 Axes>"
      ]
     },
     "metadata": {},
     "output_type": "display_data"
    }
   ],
   "source": [
    "from sklearn.ensemble import GradientBoostingClassifier\n",
    "from sklearn.metrics import classification_report\n",
    "\n",
    "# Instantiate the model with hyperparameters\n",
    "gb_clf = GradientBoostingClassifier(n_estimators=100, learning_rate=0.1, max_depth=3, random_state=42)\n",
    "\n",
    "# Fit the model to the training data\n",
    "gb_clf.fit(X_train_res_scaled, y_train_res)\n",
    "\n",
    "# Predict on the test data\n",
    "y_pred = gb_clf.predict(X_test_res_scaled)\n",
    "\n",
    "# Print classification report and confusion matrix\n",
    "print(classification_report(y_test, y_pred))\n",
    "\n",
    "cm_3 =confusion_matrix(y_test, y_pred)\n",
    "fig, ax = plot_confusion_matrix(conf_mat=cm_3,\n",
    "                                show_absolute=True,\n",
    "                                show_normed=True,\n",
    "                                colorbar=True)\n",
    "\n",
    "accuracy = accuracy_score(y_test, y_pred)\n",
    "print('Accuracy:', accuracy)"
   ]
  },
  {
   "cell_type": "code",
   "execution_count": 35,
   "id": "a739346b",
   "metadata": {},
   "outputs": [
    {
     "name": "stdout",
     "output_type": "stream",
     "text": [
      "Accuracy: 0.70 (+/- 0.01)\n"
     ]
    }
   ],
   "source": [
    "kfold = KFold(n_splits=5, shuffle=True, random_state=42)\n",
    "\n",
    "scores = cross_val_score(gb_clf, X_train_res_scaled, y_train_res, cv=kfold, scoring='accuracy')\n",
    "\n",
    "print(\"Accuracy: %0.2f (+/- %0.2f)\" % (scores.mean(), scores.std()))\n"
   ]
  },
  {
   "cell_type": "code",
   "execution_count": 36,
   "id": "dfa2eb49",
   "metadata": {},
   "outputs": [
    {
     "name": "stdout",
     "output_type": "stream",
     "text": [
      "F1 score: 0.6022246948924489\n"
     ]
    }
   ],
   "source": [
    "from sklearn.metrics import f1_score\n",
    "\n",
    "y_pred = clf.predict(X_test_res_scaled)\n",
    "f1 = f1_score(y_test, y_pred, average='weighted')\n",
    "print('F1 score:', f1)"
   ]
  },
  {
   "cell_type": "code",
   "execution_count": 38,
   "id": "0d1dc980",
   "metadata": {},
   "outputs": [
    {
     "name": "stdout",
     "output_type": "stream",
     "text": [
      "f1 score k fold crss:0.71 (+/- 0.02)\n"
     ]
    }
   ],
   "source": [
    "kfold = KFold(n_splits=10, shuffle=True, random_state=42)\n",
    "\n",
    "scores = cross_val_score(clf, X_train_res_scaled, y_train_res, cv=kfold, scoring='f1_macro')\n",
    "\n",
    "print(\"f1 score k fold crss:%0.2f (+/- %0.2f)\" % (scores.mean(), scores.std()))"
   ]
  },
  {
   "cell_type": "code",
   "execution_count": null,
   "id": "b2878abe",
   "metadata": {},
   "outputs": [],
   "source": []
  }
 ],
 "metadata": {
  "kernelspec": {
   "display_name": "Python 3 (ipykernel)",
   "language": "python",
   "name": "python3"
  },
  "language_info": {
   "codemirror_mode": {
    "name": "ipython",
    "version": 3
   },
   "file_extension": ".py",
   "mimetype": "text/x-python",
   "name": "python",
   "nbconvert_exporter": "python",
   "pygments_lexer": "ipython3",
   "version": "3.8.13"
  }
 },
 "nbformat": 4,
 "nbformat_minor": 5
}
