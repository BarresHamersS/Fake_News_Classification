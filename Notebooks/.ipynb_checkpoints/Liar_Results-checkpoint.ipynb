{
 "cells": [
  {
   "cell_type": "code",
   "execution_count": 2,
   "id": "a187665c",
   "metadata": {},
   "outputs": [],
   "source": [
    "#basic libraries\n",
    "import os\n",
    "import pandas as pd \n",
    "import numpy as np\n",
    "import requests\n",
    "import json\n",
    "import glob\n",
    "import pickle\n",
    "\n",
    "#Visiualization and ML libraries\n",
    "import sklearn\n",
    "import matplotlib.pyplot as plt\n",
    "\n",
    "from scipy.stats import norm\n",
    "import statistics\n",
    "import seaborn as sns\n",
    "from scipy.stats import f_oneway\n",
    "import scikit_posthocs as sp\n",
    "from scipy.stats import kruskal\n",
    "import statsmodels.stats.multicomp as mc\n",
    "\n",
    "from sklearn.model_selection import KFold\n",
    "from sklearn.model_selection import cross_val_score"
   ]
  },
  {
   "cell_type": "code",
   "execution_count": 3,
   "id": "f07c07ce",
   "metadata": {},
   "outputs": [
    {
     "name": "stdout",
     "output_type": "stream",
     "text": [
      "Requirement already satisfied: scikit-posthocs in /Users/sandrobarreshamers/opt/anaconda3/envs/fake_new/lib/python3.8/site-packages (0.7.0)\n",
      "Requirement already satisfied: matplotlib in /Users/sandrobarreshamers/opt/anaconda3/envs/fake_new/lib/python3.8/site-packages (from scikit-posthocs) (3.6.2)\n",
      "Requirement already satisfied: numpy in /Users/sandrobarreshamers/opt/anaconda3/envs/fake_new/lib/python3.8/site-packages (from scikit-posthocs) (1.21.5)\n",
      "Requirement already satisfied: pandas>=0.20.0 in /Users/sandrobarreshamers/opt/anaconda3/envs/fake_new/lib/python3.8/site-packages (from scikit-posthocs) (1.5.2)\n",
      "Requirement already satisfied: statsmodels in /Users/sandrobarreshamers/opt/anaconda3/envs/fake_new/lib/python3.8/site-packages (from scikit-posthocs) (0.13.5)\n",
      "Requirement already satisfied: scipy in /Users/sandrobarreshamers/opt/anaconda3/envs/fake_new/lib/python3.8/site-packages (from scikit-posthocs) (1.10.1)\n",
      "Requirement already satisfied: seaborn in /Users/sandrobarreshamers/opt/anaconda3/envs/fake_new/lib/python3.8/site-packages (from scikit-posthocs) (0.12.2)\n",
      "Requirement already satisfied: python-dateutil>=2.8.1 in /Users/sandrobarreshamers/opt/anaconda3/envs/fake_new/lib/python3.8/site-packages (from pandas>=0.20.0->scikit-posthocs) (2.8.2)\n",
      "Requirement already satisfied: pytz>=2020.1 in /Users/sandrobarreshamers/opt/anaconda3/envs/fake_new/lib/python3.8/site-packages (from pandas>=0.20.0->scikit-posthocs) (2022.7)\n",
      "Requirement already satisfied: cycler>=0.10 in /Users/sandrobarreshamers/opt/anaconda3/envs/fake_new/lib/python3.8/site-packages (from matplotlib->scikit-posthocs) (0.11.0)\n",
      "Requirement already satisfied: kiwisolver>=1.0.1 in /Users/sandrobarreshamers/opt/anaconda3/envs/fake_new/lib/python3.8/site-packages (from matplotlib->scikit-posthocs) (1.4.4)\n",
      "Requirement already satisfied: contourpy>=1.0.1 in /Users/sandrobarreshamers/opt/anaconda3/envs/fake_new/lib/python3.8/site-packages (from matplotlib->scikit-posthocs) (1.0.5)\n",
      "Requirement already satisfied: pyparsing>=2.2.1 in /Users/sandrobarreshamers/opt/anaconda3/envs/fake_new/lib/python3.8/site-packages (from matplotlib->scikit-posthocs) (3.0.9)\n",
      "Requirement already satisfied: packaging>=20.0 in /Users/sandrobarreshamers/opt/anaconda3/envs/fake_new/lib/python3.8/site-packages (from matplotlib->scikit-posthocs) (22.0)\n",
      "Requirement already satisfied: pillow>=6.2.0 in /Users/sandrobarreshamers/opt/anaconda3/envs/fake_new/lib/python3.8/site-packages (from matplotlib->scikit-posthocs) (9.3.0)\n",
      "Requirement already satisfied: fonttools>=4.22.0 in /Users/sandrobarreshamers/opt/anaconda3/envs/fake_new/lib/python3.8/site-packages (from matplotlib->scikit-posthocs) (4.25.0)\n",
      "Requirement already satisfied: patsy>=0.5.2 in /Users/sandrobarreshamers/opt/anaconda3/envs/fake_new/lib/python3.8/site-packages (from statsmodels->scikit-posthocs) (0.5.3)\n",
      "Requirement already satisfied: six in /Users/sandrobarreshamers/opt/anaconda3/envs/fake_new/lib/python3.8/site-packages (from patsy>=0.5.2->statsmodels->scikit-posthocs) (1.16.0)\n",
      "\n",
      "\u001b[1m[\u001b[0m\u001b[34;49mnotice\u001b[0m\u001b[1;39;49m]\u001b[0m\u001b[39;49m A new release of pip is available: \u001b[0m\u001b[31;49m23.0.1\u001b[0m\u001b[39;49m -> \u001b[0m\u001b[32;49m23.1\u001b[0m\n",
      "\u001b[1m[\u001b[0m\u001b[34;49mnotice\u001b[0m\u001b[1;39;49m]\u001b[0m\u001b[39;49m To update, run: \u001b[0m\u001b[32;49mpip install --upgrade pip\u001b[0m\n"
     ]
    }
   ],
   "source": [
    "!pip install scikit-posthocs"
   ]
  },
  {
   "cell_type": "markdown",
   "id": "cfbb3f81",
   "metadata": {},
   "source": [
    "## Liar dataset"
   ]
  },
  {
   "cell_type": "code",
   "execution_count": 4,
   "id": "1b3453de",
   "metadata": {},
   "outputs": [],
   "source": [
    "Liar_computed = pd.read_csv('/Users/sandrobarreshamers/Thesis_IS_fake_news/ThesisData/Data/Computed_liar.csv')\n"
   ]
  },
  {
   "cell_type": "code",
   "execution_count": 5,
   "id": "8340844d",
   "metadata": {},
   "outputs": [
    {
     "data": {
      "text/html": [
       "<div>\n",
       "<style scoped>\n",
       "    .dataframe tbody tr th:only-of-type {\n",
       "        vertical-align: middle;\n",
       "    }\n",
       "\n",
       "    .dataframe tbody tr th {\n",
       "        vertical-align: top;\n",
       "    }\n",
       "\n",
       "    .dataframe thead th {\n",
       "        text-align: right;\n",
       "    }\n",
       "</style>\n",
       "<table border=\"1\" class=\"dataframe\">\n",
       "  <thead>\n",
       "    <tr style=\"text-align: right;\">\n",
       "      <th></th>\n",
       "      <th>Unnamed: 0</th>\n",
       "      <th>json_id</th>\n",
       "      <th>claim</th>\n",
       "      <th>object</th>\n",
       "      <th>flesch_kincaid_reading_ease</th>\n",
       "      <th>compressed_size</th>\n",
       "      <th>vader_neg</th>\n",
       "      <th>vader_neu</th>\n",
       "      <th>vader_pos</th>\n",
       "      <th>vader_compound</th>\n",
       "    </tr>\n",
       "  </thead>\n",
       "  <tbody>\n",
       "    <tr>\n",
       "      <th>0</th>\n",
       "      <td>0</td>\n",
       "      <td>10540.json</td>\n",
       "      <td>half-true</td>\n",
       "      <td>When did the decline of coal start? It started...</td>\n",
       "      <td>71.815000</td>\n",
       "      <td>11443.0</td>\n",
       "      <td>0.000</td>\n",
       "      <td>0.902</td>\n",
       "      <td>0.098</td>\n",
       "      <td>0.3612</td>\n",
       "    </tr>\n",
       "    <tr>\n",
       "      <th>1</th>\n",
       "      <td>1</td>\n",
       "      <td>324.json</td>\n",
       "      <td>mostly-true</td>\n",
       "      <td>Hillary Clinton agrees with John McCain \"by vo...</td>\n",
       "      <td>71.781579</td>\n",
       "      <td>9089.0</td>\n",
       "      <td>0.107</td>\n",
       "      <td>0.687</td>\n",
       "      <td>0.206</td>\n",
       "      <td>0.3182</td>\n",
       "    </tr>\n",
       "    <tr>\n",
       "      <th>2</th>\n",
       "      <td>2</td>\n",
       "      <td>1123.json</td>\n",
       "      <td>false</td>\n",
       "      <td>Health care reform legislation is likely to ma...</td>\n",
       "      <td>53.655000</td>\n",
       "      <td>5511.0</td>\n",
       "      <td>0.000</td>\n",
       "      <td>0.606</td>\n",
       "      <td>0.394</td>\n",
       "      <td>0.7579</td>\n",
       "    </tr>\n",
       "    <tr>\n",
       "      <th>3</th>\n",
       "      <td>3</td>\n",
       "      <td>9028.json</td>\n",
       "      <td>half-true</td>\n",
       "      <td>The economic turnaround started at the end of ...</td>\n",
       "      <td>61.325000</td>\n",
       "      <td>4708.0</td>\n",
       "      <td>0.000</td>\n",
       "      <td>1.000</td>\n",
       "      <td>0.000</td>\n",
       "      <td>0.0000</td>\n",
       "    </tr>\n",
       "    <tr>\n",
       "      <th>4</th>\n",
       "      <td>4</td>\n",
       "      <td>12465.json</td>\n",
       "      <td>true</td>\n",
       "      <td>The Chicago Bears have had more starting quart...</td>\n",
       "      <td>54.096667</td>\n",
       "      <td>12205.0</td>\n",
       "      <td>0.119</td>\n",
       "      <td>0.828</td>\n",
       "      <td>0.053</td>\n",
       "      <td>-0.4601</td>\n",
       "    </tr>\n",
       "  </tbody>\n",
       "</table>\n",
       "</div>"
      ],
      "text/plain": [
       "   Unnamed: 0     json_id        claim  \\\n",
       "0           0  10540.json    half-true   \n",
       "1           1    324.json  mostly-true   \n",
       "2           2   1123.json        false   \n",
       "3           3   9028.json    half-true   \n",
       "4           4  12465.json         true   \n",
       "\n",
       "                                              object  \\\n",
       "0  When did the decline of coal start? It started...   \n",
       "1  Hillary Clinton agrees with John McCain \"by vo...   \n",
       "2  Health care reform legislation is likely to ma...   \n",
       "3  The economic turnaround started at the end of ...   \n",
       "4  The Chicago Bears have had more starting quart...   \n",
       "\n",
       "   flesch_kincaid_reading_ease  compressed_size  vader_neg  vader_neu  \\\n",
       "0                    71.815000          11443.0      0.000      0.902   \n",
       "1                    71.781579           9089.0      0.107      0.687   \n",
       "2                    53.655000           5511.0      0.000      0.606   \n",
       "3                    61.325000           4708.0      0.000      1.000   \n",
       "4                    54.096667          12205.0      0.119      0.828   \n",
       "\n",
       "   vader_pos  vader_compound  \n",
       "0      0.098          0.3612  \n",
       "1      0.206          0.3182  \n",
       "2      0.394          0.7579  \n",
       "3      0.000          0.0000  \n",
       "4      0.053         -0.4601  "
      ]
     },
     "execution_count": 5,
     "metadata": {},
     "output_type": "execute_result"
    }
   ],
   "source": [
    "Liar_computed.head()"
   ]
  },
  {
   "cell_type": "code",
   "execution_count": 6,
   "id": "bf5768e5",
   "metadata": {},
   "outputs": [
    {
     "name": "stdout",
     "output_type": "stream",
     "text": [
      "10239\n"
     ]
    }
   ],
   "source": [
    "def condition(x):\n",
    "    if x =='false':\n",
    "        return 1\n",
    "    elif x== 'half-true':\n",
    "        return 2\n",
    "    elif x== 'mostly-true':\n",
    "        return 2\n",
    "    elif x=='true':\n",
    "        return 0\n",
    "    elif x =='barely-true':\n",
    "        return 2\n",
    "    elif x == 'pants-fire':\n",
    "        return 1\n",
    "\n",
    "\n",
    "Liar_computed['binary label'] = Liar_computed['claim'].apply(condition)\n",
    "print(len(Liar_computed))"
   ]
  },
  {
   "cell_type": "code",
   "execution_count": 7,
   "id": "343cfcf6",
   "metadata": {},
   "outputs": [
    {
     "name": "stdout",
     "output_type": "stream",
     "text": [
      "Number of false statements: 1994\n",
      "Number of true statements: 1676\n",
      "Number of half-true statements: 2114\n",
      "Number of mostly-true statements: 1962\n",
      "Number of barely-true statements: 1654\n",
      "Number of pants-fire statements: 839\n",
      "Number of 0 statements: 1676\n",
      "Number of 1 statements: 2833\n",
      "Number of 2 statements: 5730\n"
     ]
    },
    {
     "data": {
      "image/png": "[encoded data removed]",
      "text/plain": [
       "<Figure size 1200x600 with 2 Axes>"
      ]
     },
     "metadata": {},
     "output_type": "display_data"
    }
   ],
   "source": [
    "import matplotlib.pyplot as plt\n",
    "\n",
    "claims = ['false','true', 'half-true','mostly-true','barely-true', 'pants-fire']\n",
    "\n",
    "def count_claims(df, claim):\n",
    "    count_claim = len(df[df['claim']== claim])\n",
    "    return count_claim\n",
    "\n",
    "claim_list= []\n",
    "for x in claims:\n",
    "    count_claim = count_claims(Liar_computed,x)\n",
    "    claim_list.append(count_claim)\n",
    "    print(f\"Number of {x} statements: {count_claim}\")\n",
    "\n",
    "\n",
    "binary_labels = [0,1,2]\n",
    "def count_label(df, labels):\n",
    "    count_label = len(df[df['binary label']== labels])\n",
    "    return count_label\n",
    "\n",
    "claim_labels = []\n",
    "for x in binary_labels:\n",
    "    count_labels = count_label(Liar_computed,x)\n",
    "    claim_labels.append(count_labels)\n",
    "    print(f\"Number of {x} statements: {count_labels}\")\n",
    "\n",
    "fig, (ax1, ax2) = plt.subplots(1, 2, figsize=(12, 6))\n",
    "fig.suptitle('Distribution of Claims and Labels')\n",
    "\n",
    "ax1.pie(claim_list, labels=claims)\n",
    "ax1.set_title('Distribution of Claims')\n",
    "\n",
    "ax2.pie(claim_labels, labels=['True claims', 'False claims', 'In between claims'])\n",
    "ax2.set_title('Distribution of Labels')\n",
    "\n",
    "plt.show()\n"
   ]
  },
  {
   "cell_type": "code",
   "execution_count": 8,
   "id": "491f336e",
   "metadata": {},
   "outputs": [
    {
     "name": "stderr",
     "output_type": "stream",
     "text": [
      "[nltk_data] Downloading package vader_lexicon to\n",
      "[nltk_data]     /Users/sandrobarreshamers/nltk_data...\n",
      "[nltk_data]   Package vader_lexicon is already up-to-date!\n"
     ]
    }
   ],
   "source": [
    "from pipe_line import dunn_table\n"
   ]
  },
  {
   "cell_type": "code",
   "execution_count": null,
   "id": "f639461d",
   "metadata": {},
   "outputs": [],
   "source": []
  },
  {
   "cell_type": "markdown",
   "id": "5aa512f3",
   "metadata": {},
   "source": [
    "## Computing the different distributions"
   ]
  },
  {
   "cell_type": "code",
   "execution_count": 9,
   "id": "d1c653a0",
   "metadata": {},
   "outputs": [],
   "source": [
    "from pipe_line import values_by_label, compute_statistics\n"
   ]
  },
  {
   "cell_type": "markdown",
   "id": "88fabd5a",
   "metadata": {},
   "source": [
    "### Complexity"
   ]
  },
  {
   "cell_type": "code",
   "execution_count": 10,
   "id": "c5c4f369",
   "metadata": {},
   "outputs": [
    {
     "name": "stdout",
     "output_type": "stream",
     "text": [
      "Kruskal results:\n",
      "F-statistic: 79.437\n",
      "p-value: 5.629e-18\n"
     ]
    }
   ],
   "source": [
    "label_com = values_by_label(Liar_computed, 'compressed_size')\n",
    "stat, p = kruskal(*label_com) # unpack the elements \n",
    "\n",
    "print('Kruskal results:')\n",
    "print(f'F-statistic: {stat:.3f}')\n",
    "print(f'p-value: {p:.3e}')\n"
   ]
  },
  {
   "cell_type": "code",
   "execution_count": 11,
   "id": "23022c97",
   "metadata": {},
   "outputs": [
    {
     "name": "stdout",
     "output_type": "stream",
     "text": [
      "Dunn results for the information complexity\n"
     ]
    },
    {
     "data": {
      "text/html": [
       "<div>\n",
       "<style scoped>\n",
       "    .dataframe tbody tr th:only-of-type {\n",
       "        vertical-align: middle;\n",
       "    }\n",
       "\n",
       "    .dataframe tbody tr th {\n",
       "        vertical-align: top;\n",
       "    }\n",
       "\n",
       "    .dataframe thead tr th {\n",
       "        text-align: left;\n",
       "    }\n",
       "</style>\n",
       "<table border=\"1\" class=\"dataframe\">\n",
       "  <thead>\n",
       "    <tr>\n",
       "      <th>group</th>\n",
       "      <th colspan=\"2\" halign=\"left\">1</th>\n",
       "      <th colspan=\"2\" halign=\"left\">2</th>\n",
       "      <th colspan=\"2\" halign=\"left\">3</th>\n",
       "    </tr>\n",
       "    <tr>\n",
       "      <th>metric</th>\n",
       "      <th>value</th>\n",
       "      <th>reject</th>\n",
       "      <th>value</th>\n",
       "      <th>reject</th>\n",
       "      <th>value</th>\n",
       "      <th>reject</th>\n",
       "    </tr>\n",
       "  </thead>\n",
       "  <tbody>\n",
       "    <tr>\n",
       "      <th>1</th>\n",
       "      <td>1.0</td>\n",
       "      <td>False</td>\n",
       "      <td>0.000049</td>\n",
       "      <td>True</td>\n",
       "      <td>0.028932</td>\n",
       "      <td>True</td>\n",
       "    </tr>\n",
       "    <tr>\n",
       "      <th>2</th>\n",
       "      <td>0.000049</td>\n",
       "      <td>True</td>\n",
       "      <td>1.0</td>\n",
       "      <td>False</td>\n",
       "      <td>0.0</td>\n",
       "      <td>True</td>\n",
       "    </tr>\n",
       "    <tr>\n",
       "      <th>3</th>\n",
       "      <td>0.028932</td>\n",
       "      <td>True</td>\n",
       "      <td>0.0</td>\n",
       "      <td>True</td>\n",
       "      <td>1.0</td>\n",
       "      <td>False</td>\n",
       "    </tr>\n",
       "  </tbody>\n",
       "</table>\n",
       "</div>"
      ],
      "text/plain": [
       "group          1                2                3       \n",
       "metric     value reject     value reject     value reject\n",
       "1            1.0  False  0.000049   True  0.028932   True\n",
       "2       0.000049   True       1.0  False       0.0   True\n",
       "3       0.028932   True       0.0   True       1.0  False"
      ]
     },
     "execution_count": 11,
     "metadata": {},
     "output_type": "execute_result"
    }
   ],
   "source": [
    "dunn_results = sp.posthoc_dunn(label_com, p_adjust='bonferroni')\n",
    "\n",
    "print('Dunn results for the information complexity')\n",
    "dunn_table(dunn_results)\n"
   ]
  },
  {
   "cell_type": "code",
   "execution_count": null,
   "id": "e87b2e5b",
   "metadata": {},
   "outputs": [],
   "source": []
  },
  {
   "cell_type": "markdown",
   "id": "5ecf9f89",
   "metadata": {},
   "source": [
    "### Readability"
   ]
  },
  {
   "cell_type": "code",
   "execution_count": 12,
   "id": "446f7fba",
   "metadata": {},
   "outputs": [
    {
     "name": "stdout",
     "output_type": "stream",
     "text": [
      "Kruskal results:\n",
      "F-statistic: 49.863\n",
      "p-value: 1.487e-11\n"
     ]
    }
   ],
   "source": [
    "label_fke = values_by_label(Liar_computed, 'flesch_kincaid_reading_ease')\n",
    "stat, p = kruskal(*label_fke) # unpack the elements \n",
    "\n",
    "print('Kruskal results:')\n",
    "print(f'F-statistic: {stat:.3f}')\n",
    "print(f'p-value: {p:.3e}')"
   ]
  },
  {
   "cell_type": "code",
   "execution_count": 13,
   "id": "3e1d3af1",
   "metadata": {},
   "outputs": [
    {
     "name": "stdout",
     "output_type": "stream",
     "text": [
      "Dunn results for the FKE-readability\n"
     ]
    },
    {
     "data": {
      "text/html": [
       "<div>\n",
       "<style scoped>\n",
       "    .dataframe tbody tr th:only-of-type {\n",
       "        vertical-align: middle;\n",
       "    }\n",
       "\n",
       "    .dataframe tbody tr th {\n",
       "        vertical-align: top;\n",
       "    }\n",
       "\n",
       "    .dataframe thead tr th {\n",
       "        text-align: left;\n",
       "    }\n",
       "</style>\n",
       "<table border=\"1\" class=\"dataframe\">\n",
       "  <thead>\n",
       "    <tr>\n",
       "      <th>group</th>\n",
       "      <th colspan=\"2\" halign=\"left\">1</th>\n",
       "      <th colspan=\"2\" halign=\"left\">2</th>\n",
       "      <th colspan=\"2\" halign=\"left\">3</th>\n",
       "    </tr>\n",
       "    <tr>\n",
       "      <th>metric</th>\n",
       "      <th>value</th>\n",
       "      <th>reject</th>\n",
       "      <th>value</th>\n",
       "      <th>reject</th>\n",
       "      <th>value</th>\n",
       "      <th>reject</th>\n",
       "    </tr>\n",
       "  </thead>\n",
       "  <tbody>\n",
       "    <tr>\n",
       "      <th>1</th>\n",
       "      <td>1.0</td>\n",
       "      <td>False</td>\n",
       "      <td>0.0</td>\n",
       "      <td>True</td>\n",
       "      <td>0.012227</td>\n",
       "      <td>True</td>\n",
       "    </tr>\n",
       "    <tr>\n",
       "      <th>2</th>\n",
       "      <td>0.0</td>\n",
       "      <td>True</td>\n",
       "      <td>1.0</td>\n",
       "      <td>False</td>\n",
       "      <td>0.0</td>\n",
       "      <td>True</td>\n",
       "    </tr>\n",
       "    <tr>\n",
       "      <th>3</th>\n",
       "      <td>0.012227</td>\n",
       "      <td>True</td>\n",
       "      <td>0.0</td>\n",
       "      <td>True</td>\n",
       "      <td>1.0</td>\n",
       "      <td>False</td>\n",
       "    </tr>\n",
       "  </tbody>\n",
       "</table>\n",
       "</div>"
      ],
      "text/plain": [
       "group          1            2                3       \n",
       "metric     value reject value reject     value reject\n",
       "1            1.0  False   0.0   True  0.012227   True\n",
       "2            0.0   True   1.0  False       0.0   True\n",
       "3       0.012227   True   0.0   True       1.0  False"
      ]
     },
     "execution_count": 13,
     "metadata": {},
     "output_type": "execute_result"
    }
   ],
   "source": [
    "dunn_results = sp.posthoc_dunn(label_fke, p_adjust='bonferroni')\n",
    "\n",
    "\n",
    "print('Dunn results for the FKE-readability')\n",
    "dunn_table(dunn_results)\n"
   ]
  },
  {
   "cell_type": "markdown",
   "id": "cba88c34",
   "metadata": {},
   "source": [
    "### VADER Sentiment"
   ]
  },
  {
   "cell_type": "code",
   "execution_count": 14,
   "id": "3ce2b7c1",
   "metadata": {
    "scrolled": true
   },
   "outputs": [
    {
     "name": "stdout",
     "output_type": "stream",
     "text": [
      "vader_neg : fstat 10.409693080422452; p 0.005489892854085175\n",
      "vader_neu : fstat 10.17546297354846; p 0.00617200529376983\n",
      "vader_pos : fstat 4.323321766239063; p 0.11513373846730762\n",
      "vader_compound : fstat 1.999867736891534; p 0.36790377041511385\n"
     ]
    }
   ],
   "source": [
    "vader_labels = ['vader_neg', 'vader_neu', 'vader_pos', 'vader_compound']\n",
    "\n",
    "labels = []\n",
    "for vader in vader_labels:\n",
    "    label_vader = values_by_label(Liar_computed, vader)\n",
    "    stat, p = kruskal(*label_vader) # unpack the elements\n",
    "    labels.append([stat, p])\n",
    "\n",
    "for i, (stat, p), vader in zip(range(len(labels)), labels, vader_labels):\n",
    "    print(f'{vader} : fstat {stat}; p {p}')\n"
   ]
  },
  {
   "cell_type": "code",
   "execution_count": 15,
   "id": "f7f774a2",
   "metadata": {},
   "outputs": [
    {
     "name": "stdout",
     "output_type": "stream",
     "text": [
      "Dunn results: vader_neg\n",
      "group          1                2                3       \n",
      "metric     value reject     value reject     value reject\n",
      "1            1.0  False       1.0  False  0.022119   True\n",
      "2            1.0  False       1.0  False  0.041474   True\n",
      "3       0.022119   True  0.041474   True       1.0  False\n",
      "Dunn results: vader_neu\n",
      "group          1                2                3       \n",
      "metric     value reject     value reject     value reject\n",
      "1            1.0  False  0.060342  False  0.004317   True\n",
      "2       0.060342  False       1.0  False       1.0  False\n",
      "3       0.004317   True       1.0  False       1.0  False\n",
      "Dunn results: vader_pos\n",
      "group          1                2                3       \n",
      "metric     value reject     value reject     value reject\n",
      "1            1.0  False  0.144254  False  0.197013  False\n",
      "2       0.144254  False       1.0  False       1.0  False\n",
      "3       0.197013  False       1.0  False       1.0  False\n",
      "Dunn results: vader_compound\n",
      "group      1                2                3       \n",
      "metric value reject     value reject     value reject\n",
      "1        1.0  False       1.0  False       1.0  False\n",
      "2        1.0  False       1.0  False  0.516025  False\n",
      "3        1.0  False  0.516025  False       1.0  False\n"
     ]
    }
   ],
   "source": [
    "for vader in vader_labels:\n",
    "    label_vader = values_by_label(Liar_computed, vader)\n",
    "    dunn_results = sp.posthoc_dunn(label_vader, p_adjust='bonferroni')\n",
    "    a = dunn_table(dunn_results)\n",
    "    print(f'Dunn results: {vader}')\n",
    "    print(a)\n"
   ]
  },
  {
   "cell_type": "markdown",
   "id": "a8570ede",
   "metadata": {},
   "source": [
    "### NER"
   ]
  },
  {
   "cell_type": "code",
   "execution_count": 16,
   "id": "2347b872",
   "metadata": {},
   "outputs": [],
   "source": [
    "from pipe_line import count_named_entities\n",
    "\n",
    "Liar_computed['tot_ner_count'] = Liar_computed['object'].apply(count_named_entities)"
   ]
  },
  {
   "cell_type": "code",
   "execution_count": 17,
   "id": "56663392",
   "metadata": {},
   "outputs": [],
   "source": [
    "from pipe_line import count_ner_labels"
   ]
  },
  {
   "cell_type": "code",
   "execution_count": 18,
   "id": "c5bc1771",
   "metadata": {},
   "outputs": [],
   "source": [
    "Liar_computed['ner_counts'] = Liar_computed['object'].apply(count_ner_labels)"
   ]
  },
  {
   "cell_type": "code",
   "execution_count": 34,
   "id": "99d10781",
   "metadata": {},
   "outputs": [
    {
     "data": {
      "text/html": [
       "<div>\n",
       "<style scoped>\n",
       "    .dataframe tbody tr th:only-of-type {\n",
       "        vertical-align: middle;\n",
       "    }\n",
       "\n",
       "    .dataframe tbody tr th {\n",
       "        vertical-align: top;\n",
       "    }\n",
       "\n",
       "    .dataframe thead th {\n",
       "        text-align: right;\n",
       "    }\n",
       "</style>\n",
       "<table border=\"1\" class=\"dataframe\">\n",
       "  <thead>\n",
       "    <tr style=\"text-align: right;\">\n",
       "      <th></th>\n",
       "      <th>Unnamed: 0</th>\n",
       "      <th>json_id</th>\n",
       "      <th>claim</th>\n",
       "      <th>object</th>\n",
       "      <th>flesch_kincaid_reading_ease</th>\n",
       "      <th>compressed_size</th>\n",
       "      <th>vader_neg</th>\n",
       "      <th>vader_neu</th>\n",
       "      <th>vader_pos</th>\n",
       "      <th>vader_compound</th>\n",
       "      <th>binary label</th>\n",
       "      <th>num_entities</th>\n",
       "      <th>ner_labels</th>\n",
       "    </tr>\n",
       "  </thead>\n",
       "  <tbody>\n",
       "    <tr>\n",
       "      <th>0</th>\n",
       "      <td>0</td>\n",
       "      <td>10540.json</td>\n",
       "      <td>half-true</td>\n",
       "      <td>When did the decline of coal start? It started...</td>\n",
       "      <td>71.815000</td>\n",
       "      <td>11443.0</td>\n",
       "      <td>0.000</td>\n",
       "      <td>0.902</td>\n",
       "      <td>0.098</td>\n",
       "      <td>0.3612</td>\n",
       "      <td>2</td>\n",
       "      <td>2</td>\n",
       "      <td>{'PERSON': 2}</td>\n",
       "    </tr>\n",
       "    <tr>\n",
       "      <th>1</th>\n",
       "      <td>1</td>\n",
       "      <td>324.json</td>\n",
       "      <td>mostly-true</td>\n",
       "      <td>Hillary Clinton agrees with John McCain \"by vo...</td>\n",
       "      <td>71.781579</td>\n",
       "      <td>9089.0</td>\n",
       "      <td>0.107</td>\n",
       "      <td>0.687</td>\n",
       "      <td>0.206</td>\n",
       "      <td>0.3182</td>\n",
       "      <td>2</td>\n",
       "      <td>4</td>\n",
       "      <td>{'PERSON': 3, 'GPE': 1}</td>\n",
       "    </tr>\n",
       "    <tr>\n",
       "      <th>2</th>\n",
       "      <td>2</td>\n",
       "      <td>1123.json</td>\n",
       "      <td>false</td>\n",
       "      <td>Health care reform legislation is likely to ma...</td>\n",
       "      <td>53.655000</td>\n",
       "      <td>5511.0</td>\n",
       "      <td>0.000</td>\n",
       "      <td>0.606</td>\n",
       "      <td>0.394</td>\n",
       "      <td>0.7579</td>\n",
       "      <td>1</td>\n",
       "      <td>0</td>\n",
       "      <td>{}</td>\n",
       "    </tr>\n",
       "    <tr>\n",
       "      <th>3</th>\n",
       "      <td>3</td>\n",
       "      <td>9028.json</td>\n",
       "      <td>half-true</td>\n",
       "      <td>The economic turnaround started at the end of ...</td>\n",
       "      <td>61.325000</td>\n",
       "      <td>4708.0</td>\n",
       "      <td>0.000</td>\n",
       "      <td>1.000</td>\n",
       "      <td>0.000</td>\n",
       "      <td>0.0000</td>\n",
       "      <td>2</td>\n",
       "      <td>0</td>\n",
       "      <td>{}</td>\n",
       "    </tr>\n",
       "    <tr>\n",
       "      <th>4</th>\n",
       "      <td>4</td>\n",
       "      <td>12465.json</td>\n",
       "      <td>true</td>\n",
       "      <td>The Chicago Bears have had more starting quart...</td>\n",
       "      <td>54.096667</td>\n",
       "      <td>12205.0</td>\n",
       "      <td>0.119</td>\n",
       "      <td>0.828</td>\n",
       "      <td>0.053</td>\n",
       "      <td>-0.4601</td>\n",
       "      <td>0</td>\n",
       "      <td>3</td>\n",
       "      <td>{'ORG': 1, 'DATE': 2}</td>\n",
       "    </tr>\n",
       "  </tbody>\n",
       "</table>\n",
       "</div>"
      ],
      "text/plain": [
       "   Unnamed: 0     json_id        claim  \\\n",
       "0           0  10540.json    half-true   \n",
       "1           1    324.json  mostly-true   \n",
       "2           2   1123.json        false   \n",
       "3           3   9028.json    half-true   \n",
       "4           4  12465.json         true   \n",
       "\n",
       "                                              object  \\\n",
       "0  When did the decline of coal start? It started...   \n",
       "1  Hillary Clinton agrees with John McCain \"by vo...   \n",
       "2  Health care reform legislation is likely to ma...   \n",
       "3  The economic turnaround started at the end of ...   \n",
       "4  The Chicago Bears have had more starting quart...   \n",
       "\n",
       "   flesch_kincaid_reading_ease  compressed_size  vader_neg  vader_neu  \\\n",
       "0                    71.815000          11443.0      0.000      0.902   \n",
       "1                    71.781579           9089.0      0.107      0.687   \n",
       "2                    53.655000           5511.0      0.000      0.606   \n",
       "3                    61.325000           4708.0      0.000      1.000   \n",
       "4                    54.096667          12205.0      0.119      0.828   \n",
       "\n",
       "   vader_pos  vader_compound  binary label  num_entities  \\\n",
       "0      0.098          0.3612             2             2   \n",
       "1      0.206          0.3182             2             4   \n",
       "2      0.394          0.7579             1             0   \n",
       "3      0.000          0.0000             2             0   \n",
       "4      0.053         -0.4601             0             3   \n",
       "\n",
       "                ner_labels  \n",
       "0            {'PERSON': 2}  \n",
       "1  {'PERSON': 3, 'GPE': 1}  \n",
       "2                       {}  \n",
       "3                       {}  \n",
       "4    {'ORG': 1, 'DATE': 2}  "
      ]
     },
     "execution_count": 34,
     "metadata": {},
     "output_type": "execute_result"
    }
   ],
   "source": [
    "Liar_computed.head()"
   ]
  },
  {
   "cell_type": "code",
   "execution_count": 20,
   "id": "be6f1215",
   "metadata": {},
   "outputs": [
    {
     "name": "stdout",
     "output_type": "stream",
     "text": [
      "Kruskal results:\n",
      "F-statistic: 49.863\n",
      "p-value: 1.487e-11\n"
     ]
    }
   ],
   "source": [
    "label_NER = values_by_label(Liar_computed, 'flesch_kincaid_reading_ease')\n",
    "stat, p = kruskal(*label_NER) # unpack the elements \n",
    "\n",
    "print('Kruskal results:')\n",
    "print(f'F-statistic: {stat:.3f}')\n",
    "print(f'p-value: {p:.3e}')"
   ]
  },
  {
   "cell_type": "code",
   "execution_count": 21,
   "id": "8f87fc76",
   "metadata": {},
   "outputs": [
    {
     "name": "stdout",
     "output_type": "stream",
     "text": [
      "Dunn results for the NER\n"
     ]
    },
    {
     "data": {
      "text/html": [
       "<div>\n",
       "<style scoped>\n",
       "    .dataframe tbody tr th:only-of-type {\n",
       "        vertical-align: middle;\n",
       "    }\n",
       "\n",
       "    .dataframe tbody tr th {\n",
       "        vertical-align: top;\n",
       "    }\n",
       "\n",
       "    .dataframe thead tr th {\n",
       "        text-align: left;\n",
       "    }\n",
       "</style>\n",
       "<table border=\"1\" class=\"dataframe\">\n",
       "  <thead>\n",
       "    <tr>\n",
       "      <th>group</th>\n",
       "      <th colspan=\"2\" halign=\"left\">1</th>\n",
       "      <th colspan=\"2\" halign=\"left\">2</th>\n",
       "      <th colspan=\"2\" halign=\"left\">3</th>\n",
       "    </tr>\n",
       "    <tr>\n",
       "      <th>metric</th>\n",
       "      <th>value</th>\n",
       "      <th>reject</th>\n",
       "      <th>value</th>\n",
       "      <th>reject</th>\n",
       "      <th>value</th>\n",
       "      <th>reject</th>\n",
       "    </tr>\n",
       "  </thead>\n",
       "  <tbody>\n",
       "    <tr>\n",
       "      <th>1</th>\n",
       "      <td>1.0</td>\n",
       "      <td>False</td>\n",
       "      <td>0.0</td>\n",
       "      <td>True</td>\n",
       "      <td>0.012227</td>\n",
       "      <td>True</td>\n",
       "    </tr>\n",
       "    <tr>\n",
       "      <th>2</th>\n",
       "      <td>0.0</td>\n",
       "      <td>True</td>\n",
       "      <td>1.0</td>\n",
       "      <td>False</td>\n",
       "      <td>0.0</td>\n",
       "      <td>True</td>\n",
       "    </tr>\n",
       "    <tr>\n",
       "      <th>3</th>\n",
       "      <td>0.012227</td>\n",
       "      <td>True</td>\n",
       "      <td>0.0</td>\n",
       "      <td>True</td>\n",
       "      <td>1.0</td>\n",
       "      <td>False</td>\n",
       "    </tr>\n",
       "  </tbody>\n",
       "</table>\n",
       "</div>"
      ],
      "text/plain": [
       "group          1            2                3       \n",
       "metric     value reject value reject     value reject\n",
       "1            1.0  False   0.0   True  0.012227   True\n",
       "2            0.0   True   1.0  False       0.0   True\n",
       "3       0.012227   True   0.0   True       1.0  False"
      ]
     },
     "execution_count": 21,
     "metadata": {},
     "output_type": "execute_result"
    }
   ],
   "source": [
    "dunn_results = sp.posthoc_dunn(label_NER, p_adjust='bonferroni')\n",
    "\n",
    "\n",
    "print('Dunn results for the NER')\n",
    "dunn_table(dunn_results)\n",
    "\n"
   ]
  },
  {
   "cell_type": "code",
   "execution_count": 32,
   "id": "14303d62",
   "metadata": {},
   "outputs": [
    {
     "name": "stdout",
     "output_type": "stream",
     "text": [
      "total_entities_true: 44.0%\n",
      "total_entities_false: 47.0%\n",
      "total_entities_inbetween: 43.0%\n"
     ]
    }
   ],
   "source": [
    "entity_counts = Liar_computed.groupby('binary label')['num_entities'].sum()\n",
    "\n",
    "binary_labels = [0,1,2]\n",
    "def count_label(df, labels):\n",
    "    count_label = len(df[df['binary label']== labels])\n",
    "    return count_label\n",
    "\n",
    "N = len(Liar_computed)\n",
    "true = count_label(Liar_computed,0)\n",
    "false = count_label(Liar_computed,1)\n",
    "between = count_label(Liar_computed,2)\n",
    "\n",
    "total_entities_true = entity_counts[0]\n",
    "total_entities_false = entity_counts[1]\n",
    "total_entities_inbetween = entity_counts[2]\n",
    "\n",
    "\n",
    "\n",
    "true_ratio = np.rint((true/total_entities_true)*100)\n",
    "false_ratio =  np.rint((false/ total_entities_false)*100)\n",
    "between_ratio =  np.rint((between/ total_entities_inbetween)*100)\n",
    "\n",
    "print(f'total_entities_true: {true_ratio}%')\n",
    "print(f'total_entities_false: {false_ratio}%')\n",
    "print(f'total_entities_inbetween: {between_ratio}%')\n",
    "\n"
   ]
  },
  {
   "cell_type": "code",
   "execution_count": 44,
   "id": "b31f884d",
   "metadata": {},
   "outputs": [],
   "source": [
    "from pipe_line import create_input_vector_NER\n",
    "\n",
    "\n",
    "Liar_computed['input_vector_ner'] = Liar_computed['ner_labels'].apply(create_input_vector_NER)\n",
    "\n",
    "\n"
   ]
  },
  {
   "cell_type": "code",
   "execution_count": null,
   "id": "6093b086",
   "metadata": {},
   "outputs": [],
   "source": [
    "from pipe_line import ner_labels\n",
    "for tag in ner_labels:\n",
    "    col_name = f'NER_{tag}'\n",
    "    Liar_computed[col_name] = Liar_computed['input_vector_ner'].apply(lambda x: x[ner_labels.index(tag)] if tag in ner_labels else 0)\n",
    "Liar_computed.columns\n"
   ]
  },
  {
   "cell_type": "code",
   "execution_count": null,
   "id": "0295dd4a",
   "metadata": {},
   "outputs": [],
   "source": [
    "Liar_computed.head()\n"
   ]
  },
  {
   "cell_type": "markdown",
   "id": "dbe03a38",
   "metadata": {},
   "source": [
    "### POS"
   ]
  },
  {
   "cell_type": "code",
   "execution_count": 22,
   "id": "b7f3d8b1",
   "metadata": {},
   "outputs": [],
   "source": [
    "from pipe_line import count_pos"
   ]
  },
  {
   "cell_type": "code",
   "execution_count": 23,
   "id": "0c1e03b1",
   "metadata": {},
   "outputs": [],
   "source": [
    "Liar_computed['pos counts'] = Liar_computed['object'].apply(count_pos)"
   ]
  },
  {
   "cell_type": "code",
   "execution_count": 24,
   "id": "fe7ff067",
   "metadata": {},
   "outputs": [
    {
     "data": {
      "text/html": [
       "<div>\n",
       "<style scoped>\n",
       "    .dataframe tbody tr th:only-of-type {\n",
       "        vertical-align: middle;\n",
       "    }\n",
       "\n",
       "    .dataframe tbody tr th {\n",
       "        vertical-align: top;\n",
       "    }\n",
       "\n",
       "    .dataframe thead th {\n",
       "        text-align: right;\n",
       "    }\n",
       "</style>\n",
       "<table border=\"1\" class=\"dataframe\">\n",
       "  <thead>\n",
       "    <tr style=\"text-align: right;\">\n",
       "      <th></th>\n",
       "      <th>Unnamed: 0</th>\n",
       "      <th>json_id</th>\n",
       "      <th>claim</th>\n",
       "      <th>object</th>\n",
       "      <th>flesch_kincaid_reading_ease</th>\n",
       "      <th>compressed_size</th>\n",
       "      <th>vader_neg</th>\n",
       "      <th>vader_neu</th>\n",
       "      <th>vader_pos</th>\n",
       "      <th>vader_compound</th>\n",
       "      <th>binary label</th>\n",
       "      <th>num_entities</th>\n",
       "      <th>ner_labels</th>\n",
       "      <th>pos counts</th>\n",
       "    </tr>\n",
       "  </thead>\n",
       "  <tbody>\n",
       "    <tr>\n",
       "      <th>0</th>\n",
       "      <td>0</td>\n",
       "      <td>10540.json</td>\n",
       "      <td>half-true</td>\n",
       "      <td>When did the decline of coal start? It started...</td>\n",
       "      <td>71.815000</td>\n",
       "      <td>11443.0</td>\n",
       "      <td>0.000</td>\n",
       "      <td>0.902</td>\n",
       "      <td>0.098</td>\n",
       "      <td>0.3612</td>\n",
       "      <td>2</td>\n",
       "      <td>2</td>\n",
       "      <td>{'PERSON': 2}</td>\n",
       "      <td>{'ADV': 2, 'AUX': 1, 'DET': 2, 'NOUN': 5, 'ADP...</td>\n",
       "    </tr>\n",
       "    <tr>\n",
       "      <th>1</th>\n",
       "      <td>1</td>\n",
       "      <td>324.json</td>\n",
       "      <td>mostly-true</td>\n",
       "      <td>Hillary Clinton agrees with John McCain \"by vo...</td>\n",
       "      <td>71.781579</td>\n",
       "      <td>9089.0</td>\n",
       "      <td>0.107</td>\n",
       "      <td>0.687</td>\n",
       "      <td>0.206</td>\n",
       "      <td>0.3182</td>\n",
       "      <td>2</td>\n",
       "      <td>4</td>\n",
       "      <td>{'PERSON': 3, 'GPE': 1}</td>\n",
       "      <td>{'PROPN': 7, 'VERB': 3, 'ADP': 4, 'PUNCT': 3, ...</td>\n",
       "    </tr>\n",
       "    <tr>\n",
       "      <th>2</th>\n",
       "      <td>2</td>\n",
       "      <td>1123.json</td>\n",
       "      <td>false</td>\n",
       "      <td>Health care reform legislation is likely to ma...</td>\n",
       "      <td>53.655000</td>\n",
       "      <td>5511.0</td>\n",
       "      <td>0.000</td>\n",
       "      <td>0.606</td>\n",
       "      <td>0.394</td>\n",
       "      <td>0.7579</td>\n",
       "      <td>1</td>\n",
       "      <td>0</td>\n",
       "      <td>{}</td>\n",
       "      <td>{'NOUN': 7, 'AUX': 1, 'ADJ': 2, 'PART': 1, 'VE...</td>\n",
       "    </tr>\n",
       "    <tr>\n",
       "      <th>3</th>\n",
       "      <td>3</td>\n",
       "      <td>9028.json</td>\n",
       "      <td>half-true</td>\n",
       "      <td>The economic turnaround started at the end of ...</td>\n",
       "      <td>61.325000</td>\n",
       "      <td>4708.0</td>\n",
       "      <td>0.000</td>\n",
       "      <td>1.000</td>\n",
       "      <td>0.000</td>\n",
       "      <td>0.0000</td>\n",
       "      <td>2</td>\n",
       "      <td>0</td>\n",
       "      <td>{}</td>\n",
       "      <td>{'DET': 3, 'ADJ': 1, 'NOUN': 3, 'VERB': 1, 'AD...</td>\n",
       "    </tr>\n",
       "    <tr>\n",
       "      <th>4</th>\n",
       "      <td>4</td>\n",
       "      <td>12465.json</td>\n",
       "      <td>true</td>\n",
       "      <td>The Chicago Bears have had more starting quart...</td>\n",
       "      <td>54.096667</td>\n",
       "      <td>12205.0</td>\n",
       "      <td>0.119</td>\n",
       "      <td>0.828</td>\n",
       "      <td>0.053</td>\n",
       "      <td>-0.4601</td>\n",
       "      <td>0</td>\n",
       "      <td>3</td>\n",
       "      <td>{'ORG': 1, 'DATE': 2}</td>\n",
       "      <td>{'DET': 4, 'PROPN': 4, 'AUX': 1, 'VERB': 3, 'A...</td>\n",
       "    </tr>\n",
       "  </tbody>\n",
       "</table>\n",
       "</div>"
      ],
      "text/plain": [
       "   Unnamed: 0     json_id        claim  \\\n",
       "0           0  10540.json    half-true   \n",
       "1           1    324.json  mostly-true   \n",
       "2           2   1123.json        false   \n",
       "3           3   9028.json    half-true   \n",
       "4           4  12465.json         true   \n",
       "\n",
       "                                              object  \\\n",
       "0  When did the decline of coal start? It started...   \n",
       "1  Hillary Clinton agrees with John McCain \"by vo...   \n",
       "2  Health care reform legislation is likely to ma...   \n",
       "3  The economic turnaround started at the end of ...   \n",
       "4  The Chicago Bears have had more starting quart...   \n",
       "\n",
       "   flesch_kincaid_reading_ease  compressed_size  vader_neg  vader_neu  \\\n",
       "0                    71.815000          11443.0      0.000      0.902   \n",
       "1                    71.781579           9089.0      0.107      0.687   \n",
       "2                    53.655000           5511.0      0.000      0.606   \n",
       "3                    61.325000           4708.0      0.000      1.000   \n",
       "4                    54.096667          12205.0      0.119      0.828   \n",
       "\n",
       "   vader_pos  vader_compound  binary label  num_entities  \\\n",
       "0      0.098          0.3612             2             2   \n",
       "1      0.206          0.3182             2             4   \n",
       "2      0.394          0.7579             1             0   \n",
       "3      0.000          0.0000             2             0   \n",
       "4      0.053         -0.4601             0             3   \n",
       "\n",
       "                ner_labels                                         pos counts  \n",
       "0            {'PERSON': 2}  {'ADV': 2, 'AUX': 1, 'DET': 2, 'NOUN': 5, 'ADP...  \n",
       "1  {'PERSON': 3, 'GPE': 1}  {'PROPN': 7, 'VERB': 3, 'ADP': 4, 'PUNCT': 3, ...  \n",
       "2                       {}  {'NOUN': 7, 'AUX': 1, 'ADJ': 2, 'PART': 1, 'VE...  \n",
       "3                       {}  {'DET': 3, 'ADJ': 1, 'NOUN': 3, 'VERB': 1, 'AD...  \n",
       "4    {'ORG': 1, 'DATE': 2}  {'DET': 4, 'PROPN': 4, 'AUX': 1, 'VERB': 3, 'A...  "
      ]
     },
     "execution_count": 24,
     "metadata": {},
     "output_type": "execute_result"
    }
   ],
   "source": [
    "Liar_computed.head()"
   ]
  },
  {
   "cell_type": "code",
   "execution_count": 25,
   "id": "dd204e59",
   "metadata": {
    "scrolled": true
   },
   "outputs": [],
   "source": [
    "from pipe_line import create_input_vector\n",
    "Liar_computed['input_vector_pos'] = Liar_computed['pos counts'].apply(create_input_vector)\n",
    "\n"
   ]
  },
  {
   "cell_type": "code",
   "execution_count": 27,
   "id": "674ad719",
   "metadata": {},
   "outputs": [
    {
     "data": {
      "text/plain": [
       "Index(['Unnamed: 0', 'json_id', 'claim', 'object',\n",
       "       'flesch_kincaid_reading_ease', 'compressed_size', 'vader_neg',\n",
       "       'vader_neu', 'vader_pos', 'vader_compound', 'binary label',\n",
       "       'num_entities', 'ner_labels', 'pos counts', 'input vector', 'pos_ADJ',\n",
       "       'pos_ADP', 'pos_ADV', 'pos_AUX', 'pos_CCONJ', 'pos_DET', 'pos_INTJ',\n",
       "       'pos_NOUN', 'pos_NUM', 'pos_PART', 'pos_PRON', 'pos_PROPN', 'pos_PUNCT',\n",
       "       'pos_SCONJ', 'pos_SYM', 'pos_VERB', 'pos_X'],\n",
       "      dtype='object')"
      ]
     },
     "execution_count": 27,
     "metadata": {},
     "output_type": "execute_result"
    }
   ],
   "source": [
    "from pipe_line import pos_tags\n",
    "for tag in pos_tags:\n",
    "    col_name = f'pos_{tag}'\n",
    "    Liar_computed[col_name] = Liar_computed['input_vector_pos'].apply(lambda x: x[pos_tags.index(tag)] if tag in pos_tags else 0)\n",
    "Liar_computed.columns\n",
    "#Liar_computed.head()"
   ]
  },
  {
   "cell_type": "code",
   "execution_count": 28,
   "id": "51f40539",
   "metadata": {},
   "outputs": [
    {
     "name": "stdout",
     "output_type": "stream",
     "text": [
      "pos_NOUN : fstat 74.42562883952174; p 6.897314694451533e-17\n",
      "pos_ADJ : fstat 75.63363133229193; p 3.7702107990073795e-17\n",
      "pos_VERB : fstat 45.05819719363287; p 1.6433754586485928e-10\n",
      "pos_ADV : fstat 15.343928130378757; p 0.000465702255291164\n",
      "pos_ADP : fstat 52.88463642780589; p 3.2828203050086716e-12\n",
      "pos_AUX : fstat 10.672755272313356; p 0.004813274601537372\n",
      "pos_CCONJ : fstat 30.78256967100686; p 2.0684733341776858e-07\n",
      "pos_DET : fstat 17.70000951293461; p 0.0001433810542873743\n",
      "pos_INTJ : fstat 1.6205299951697043; p 0.44474019552820465\n",
      "pos_NUM : fstat 157.83110536457033; p 5.33839781071815e-35\n",
      "pos_PART : fstat 15.798490526270482; p 0.0003710234598959158\n",
      "pos_PRON : fstat 6.770194727289172; p 0.03387434405551494\n",
      "pos_PROPN : fstat 49.15895156684152; p 2.1147999875958165e-11\n",
      "pos_PUNCT : fstat 39.48929409787203; p 2.6607786034061635e-09\n",
      "pos_SCONJ : fstat 50.565192976835576; p 1.0469064051354758e-11\n",
      "pos_SYM : fstat 27.912685893597782; p 8.686348924034588e-07\n",
      "pos_X : fstat 4.769992151936845; p 0.092089340940054\n"
     ]
    }
   ],
   "source": [
    "pos_labels = ['pos_NOUN', 'pos_ADJ', 'pos_VERB', 'pos_ADV', 'pos_ADP', 'pos_AUX', 'pos_CCONJ', 'pos_DET', 'pos_INTJ', 'pos_NUM', 'pos_PART', 'pos_PRON', 'pos_PROPN', 'pos_PUNCT', 'pos_SCONJ', 'pos_SYM', 'pos_X']\n",
    "\n",
    "labels = []\n",
    "for pos in pos_labels:\n",
    "    label_pos = values_by_label(Liar_computed, pos)\n",
    "    stat, p = kruskal(*label_pos) # unpack the elements\n",
    "    labels.append([stat, p])\n",
    "\n",
    "for i, (stat, p), pos in zip(range(len(labels)), labels, pos_labels):\n",
    "       print(f'{pos} : fstat {stat}; p {p}')\n"
   ]
  },
  {
   "cell_type": "code",
   "execution_count": 29,
   "id": "5c670b27",
   "metadata": {},
   "outputs": [
    {
     "name": "stdout",
     "output_type": "stream",
     "text": [
      "Dunn results: pos_NOUN\n",
      "group          1            2                3       \n",
      "metric     value reject value reject     value reject\n",
      "1            1.0  False   0.0   True  0.677504  False\n",
      "2            0.0   True   1.0  False       0.0   True\n",
      "3       0.677504  False   0.0   True       1.0  False\n",
      "Dunn results: pos_ADJ\n",
      "group          1            2                3       \n",
      "metric     value reject value reject     value reject\n",
      "1            1.0  False   0.0   True  0.895962  False\n",
      "2            0.0   True   1.0  False       0.0   True\n",
      "3       0.895962  False   0.0   True       1.0  False\n",
      "Dunn results: pos_VERB\n",
      "group          1                2                3       \n",
      "metric     value reject     value reject     value reject\n",
      "1            1.0  False  0.000021   True       0.0   True\n",
      "2       0.000021   True       1.0  False  0.114084  False\n",
      "3            0.0   True  0.114084  False       1.0  False\n",
      "Dunn results: pos_ADV\n",
      "group          1                2                3       \n",
      "metric     value reject     value reject     value reject\n",
      "1            1.0  False  0.003806   True       1.0  False\n",
      "2       0.003806   True       1.0  False  0.001214   True\n",
      "3            1.0  False  0.001214   True       1.0  False\n",
      "Dunn results: pos_ADP\n",
      "group      1            2            3       \n",
      "metric value reject value reject value reject\n",
      "1        1.0  False   0.0   True   1.0  False\n",
      "2        0.0   True   1.0  False   0.0   True\n",
      "3        1.0  False   0.0   True   1.0  False\n",
      "Dunn results: pos_AUX\n",
      "group          1                2                3       \n",
      "metric     value reject     value reject     value reject\n",
      "1            1.0  False  0.007976   True  0.007729   True\n",
      "2       0.007976   True       1.0  False       1.0  False\n",
      "3       0.007729   True       1.0  False       1.0  False\n",
      "Dunn results: pos_CCONJ\n",
      "group          1                2                3       \n",
      "metric     value reject     value reject     value reject\n",
      "1            1.0  False  0.049258   True  0.167184  False\n",
      "2       0.049258   True       1.0  False       0.0   True\n",
      "3       0.167184  False       0.0   True       1.0  False\n",
      "Dunn results: pos_DET\n",
      "group          1                2                3       \n",
      "metric     value reject     value reject     value reject\n",
      "1            1.0  False  0.001194   True       1.0  False\n",
      "2       0.001194   True       1.0  False  0.000563   True\n",
      "3            1.0  False  0.000563   True       1.0  False\n",
      "Dunn results: pos_INTJ\n",
      "group      1                2                3       \n",
      "metric value reject     value reject     value reject\n",
      "1        1.0  False       1.0  False       1.0  False\n",
      "2        1.0  False       1.0  False  0.609091  False\n",
      "3        1.0  False  0.609091  False       1.0  False\n",
      "Dunn results: pos_NUM\n",
      "group      1            2            3       \n",
      "metric value reject value reject value reject\n",
      "1        1.0  False   0.0   True   1.0  False\n",
      "2        0.0   True   1.0  False   0.0   True\n",
      "3        1.0  False   0.0   True   1.0  False\n",
      "Dunn results: pos_PART\n",
      "group          1                2                3       \n",
      "metric     value reject     value reject     value reject\n",
      "1            1.0  False  0.000212   True  0.019654   True\n",
      "2       0.000212   True       1.0  False  0.122624  False\n",
      "3       0.019654   True  0.122624  False       1.0  False\n",
      "Dunn results: pos_PRON\n",
      "group          1                2                3       \n",
      "metric     value reject     value reject     value reject\n",
      "1            1.0  False  0.087848  False       1.0  False\n",
      "2       0.087848  False       1.0  False  0.061229  False\n",
      "3            1.0  False  0.061229  False       1.0  False\n",
      "Dunn results: pos_PROPN\n",
      "group          1                2                3       \n",
      "metric     value reject     value reject     value reject\n",
      "1            1.0  False       0.0   True  0.000013   True\n",
      "2            0.0   True       1.0  False  0.000368   True\n",
      "3       0.000013   True  0.000368   True       1.0  False\n",
      "Dunn results: pos_PUNCT\n",
      "group          1               2                3       \n",
      "metric     value reject    value reject     value reject\n",
      "1            1.0  False  0.00103   True  0.683359  False\n",
      "2        0.00103   True      1.0  False       0.0   True\n",
      "3       0.683359  False      0.0   True       1.0  False\n",
      "Dunn results: pos_SCONJ\n",
      "group          1            2                3       \n",
      "metric     value reject value reject     value reject\n",
      "1            1.0  False   0.0   True  0.180944  False\n",
      "2            0.0   True   1.0  False       0.0   True\n",
      "3       0.180944  False   0.0   True       1.0  False\n",
      "Dunn results: pos_SYM\n",
      "group          1                2                3       \n",
      "metric     value reject     value reject     value reject\n",
      "1            1.0  False       1.0  False  0.000556   True\n",
      "2            1.0  False       1.0  False  0.000012   True\n",
      "3       0.000556   True  0.000012   True       1.0  False\n",
      "Dunn results: pos_X\n",
      "group          1                2                3       \n",
      "metric     value reject     value reject     value reject\n",
      "1            1.0  False  0.091236  False  0.257834  False\n",
      "2       0.091236  False       1.0  False       1.0  False\n",
      "3       0.257834  False       1.0  False       1.0  False\n"
     ]
    }
   ],
   "source": [
    "for pos in pos_labels:\n",
    "    label_pos = values_by_label(Liar_computed, pos)\n",
    "    dunn_results = sp.posthoc_dunn(label_pos, p_adjust='bonferroni')\n",
    "    a = dunn_table(dunn_results)\n",
    "    print(f'Dunn results: {pos}')\n",
    "    print(a)"
   ]
  },
  {
   "cell_type": "markdown",
   "id": "60847316",
   "metadata": {},
   "source": [
    "## Basic classification"
   ]
  },
  {
   "cell_type": "code",
   "execution_count": 30,
   "id": "4bb579ee",
   "metadata": {},
   "outputs": [
    {
     "data": {
      "text/html": [
       "<div>\n",
       "<style scoped>\n",
       "    .dataframe tbody tr th:only-of-type {\n",
       "        vertical-align: middle;\n",
       "    }\n",
       "\n",
       "    .dataframe tbody tr th {\n",
       "        vertical-align: top;\n",
       "    }\n",
       "\n",
       "    .dataframe thead th {\n",
       "        text-align: right;\n",
       "    }\n",
       "</style>\n",
       "<table border=\"1\" class=\"dataframe\">\n",
       "  <thead>\n",
       "    <tr style=\"text-align: right;\">\n",
       "      <th></th>\n",
       "      <th>Unnamed: 0</th>\n",
       "      <th>json_id</th>\n",
       "      <th>claim</th>\n",
       "      <th>object</th>\n",
       "      <th>flesch_kincaid_reading_ease</th>\n",
       "      <th>compressed_size</th>\n",
       "      <th>vader_neg</th>\n",
       "      <th>vader_neu</th>\n",
       "      <th>vader_pos</th>\n",
       "      <th>vader_compound</th>\n",
       "      <th>...</th>\n",
       "      <th>pos_NOUN</th>\n",
       "      <th>pos_NUM</th>\n",
       "      <th>pos_PART</th>\n",
       "      <th>pos_PRON</th>\n",
       "      <th>pos_PROPN</th>\n",
       "      <th>pos_PUNCT</th>\n",
       "      <th>pos_SCONJ</th>\n",
       "      <th>pos_SYM</th>\n",
       "      <th>pos_VERB</th>\n",
       "      <th>pos_X</th>\n",
       "    </tr>\n",
       "  </thead>\n",
       "  <tbody>\n",
       "    <tr>\n",
       "      <th>2</th>\n",
       "      <td>2</td>\n",
       "      <td>1123.json</td>\n",
       "      <td>false</td>\n",
       "      <td>Health care reform legislation is likely to ma...</td>\n",
       "      <td>53.655000</td>\n",
       "      <td>5511.0</td>\n",
       "      <td>0.000</td>\n",
       "      <td>0.606</td>\n",
       "      <td>0.394</td>\n",
       "      <td>0.7579</td>\n",
       "      <td>...</td>\n",
       "      <td>7.0</td>\n",
       "      <td>0.0</td>\n",
       "      <td>1.0</td>\n",
       "      <td>0.0</td>\n",
       "      <td>0.0</td>\n",
       "      <td>1.0</td>\n",
       "      <td>0.0</td>\n",
       "      <td>0.0</td>\n",
       "      <td>1.0</td>\n",
       "      <td>0.0</td>\n",
       "    </tr>\n",
       "    <tr>\n",
       "      <th>4</th>\n",
       "      <td>4</td>\n",
       "      <td>12465.json</td>\n",
       "      <td>true</td>\n",
       "      <td>The Chicago Bears have had more starting quart...</td>\n",
       "      <td>54.096667</td>\n",
       "      <td>12205.0</td>\n",
       "      <td>0.119</td>\n",
       "      <td>0.828</td>\n",
       "      <td>0.053</td>\n",
       "      <td>-0.4601</td>\n",
       "      <td>...</td>\n",
       "      <td>5.0</td>\n",
       "      <td>2.0</td>\n",
       "      <td>0.0</td>\n",
       "      <td>0.0</td>\n",
       "      <td>4.0</td>\n",
       "      <td>3.0</td>\n",
       "      <td>1.0</td>\n",
       "      <td>0.0</td>\n",
       "      <td>3.0</td>\n",
       "      <td>0.0</td>\n",
       "    </tr>\n",
       "    <tr>\n",
       "      <th>11</th>\n",
       "      <td>11</td>\n",
       "      <td>5947.json</td>\n",
       "      <td>false</td>\n",
       "      <td>When Mitt Romney was governor of Massachusetts...</td>\n",
       "      <td>58.429130</td>\n",
       "      <td>10582.0</td>\n",
       "      <td>0.085</td>\n",
       "      <td>0.810</td>\n",
       "      <td>0.105</td>\n",
       "      <td>0.1280</td>\n",
       "      <td>...</td>\n",
       "      <td>4.0</td>\n",
       "      <td>0.0</td>\n",
       "      <td>1.0</td>\n",
       "      <td>3.0</td>\n",
       "      <td>3.0</td>\n",
       "      <td>3.0</td>\n",
       "      <td>0.0</td>\n",
       "      <td>0.0</td>\n",
       "      <td>2.0</td>\n",
       "      <td>0.0</td>\n",
       "    </tr>\n",
       "    <tr>\n",
       "      <th>15</th>\n",
       "      <td>15</td>\n",
       "      <td>620.json</td>\n",
       "      <td>true</td>\n",
       "      <td>McCain opposed a requirement that the governme...</td>\n",
       "      <td>35.034643</td>\n",
       "      <td>11081.0</td>\n",
       "      <td>0.000</td>\n",
       "      <td>1.000</td>\n",
       "      <td>0.000</td>\n",
       "      <td>0.0000</td>\n",
       "      <td>...</td>\n",
       "      <td>4.0</td>\n",
       "      <td>0.0</td>\n",
       "      <td>0.0</td>\n",
       "      <td>1.0</td>\n",
       "      <td>2.0</td>\n",
       "      <td>6.0</td>\n",
       "      <td>1.0</td>\n",
       "      <td>0.0</td>\n",
       "      <td>5.0</td>\n",
       "      <td>0.0</td>\n",
       "    </tr>\n",
       "    <tr>\n",
       "      <th>19</th>\n",
       "      <td>19</td>\n",
       "      <td>10173.json</td>\n",
       "      <td>false</td>\n",
       "      <td>Women and men both are making less when you ad...</td>\n",
       "      <td>55.405000</td>\n",
       "      <td>8848.0</td>\n",
       "      <td>0.000</td>\n",
       "      <td>1.000</td>\n",
       "      <td>0.000</td>\n",
       "      <td>0.0000</td>\n",
       "      <td>...</td>\n",
       "      <td>4.0</td>\n",
       "      <td>0.0</td>\n",
       "      <td>0.0</td>\n",
       "      <td>1.0</td>\n",
       "      <td>2.0</td>\n",
       "      <td>1.0</td>\n",
       "      <td>1.0</td>\n",
       "      <td>0.0</td>\n",
       "      <td>3.0</td>\n",
       "      <td>0.0</td>\n",
       "    </tr>\n",
       "  </tbody>\n",
       "</table>\n",
       "<p>5 rows × 32 columns</p>\n",
       "</div>"
      ],
      "text/plain": [
       "    Unnamed: 0     json_id  claim  \\\n",
       "2            2   1123.json  false   \n",
       "4            4  12465.json   true   \n",
       "11          11   5947.json  false   \n",
       "15          15    620.json   true   \n",
       "19          19  10173.json  false   \n",
       "\n",
       "                                               object  \\\n",
       "2   Health care reform legislation is likely to ma...   \n",
       "4   The Chicago Bears have had more starting quart...   \n",
       "11  When Mitt Romney was governor of Massachusetts...   \n",
       "15  McCain opposed a requirement that the governme...   \n",
       "19  Women and men both are making less when you ad...   \n",
       "\n",
       "    flesch_kincaid_reading_ease  compressed_size  vader_neg  vader_neu  \\\n",
       "2                     53.655000           5511.0      0.000      0.606   \n",
       "4                     54.096667          12205.0      0.119      0.828   \n",
       "11                    58.429130          10582.0      0.085      0.810   \n",
       "15                    35.034643          11081.0      0.000      1.000   \n",
       "19                    55.405000           8848.0      0.000      1.000   \n",
       "\n",
       "    vader_pos  vader_compound  ...  pos_NOUN  pos_NUM pos_PART pos_PRON  \\\n",
       "2       0.394          0.7579  ...       7.0      0.0      1.0      0.0   \n",
       "4       0.053         -0.4601  ...       5.0      2.0      0.0      0.0   \n",
       "11      0.105          0.1280  ...       4.0      0.0      1.0      3.0   \n",
       "15      0.000          0.0000  ...       4.0      0.0      0.0      1.0   \n",
       "19      0.000          0.0000  ...       4.0      0.0      0.0      1.0   \n",
       "\n",
       "   pos_PROPN  pos_PUNCT  pos_SCONJ  pos_SYM  pos_VERB  pos_X  \n",
       "2        0.0        1.0        0.0      0.0       1.0    0.0  \n",
       "4        4.0        3.0        1.0      0.0       3.0    0.0  \n",
       "11       3.0        3.0        0.0      0.0       2.0    0.0  \n",
       "15       2.0        6.0        1.0      0.0       5.0    0.0  \n",
       "19       2.0        1.0        1.0      0.0       3.0    0.0  \n",
       "\n",
       "[5 rows x 32 columns]"
      ]
     },
     "execution_count": 30,
     "metadata": {},
     "output_type": "execute_result"
    }
   ],
   "source": [
    "filtered_df = Liar_computed[Liar_computed['binary label'] != 2]\n",
    "\n",
    "filtered_df.head()\n"
   ]
  },
  {
   "cell_type": "code",
   "execution_count": 31,
   "id": "4f7b4e8c",
   "metadata": {},
   "outputs": [
    {
     "name": "stdout",
     "output_type": "stream",
     "text": [
      "false claims 1994\n",
      "true claims 1676\n"
     ]
    }
   ],
   "source": [
    "false_claims = count_claims(filtered_df,'false')\n",
    "true_claims =  count_claims(filtered_df,'true')\n",
    "print(f'false claims {false_claims}')\n",
    "print(f'true claims {true_claims}')"
   ]
  },
  {
   "cell_type": "code",
   "execution_count": 32,
   "id": "5d157390",
   "metadata": {},
   "outputs": [],
   "source": [
    "from sklearn.model_selection import train_test_split\n",
    "from sklearn.preprocessing import StandardScaler\n",
    "from sklearn.naive_bayes import GaussianNB\n",
    "from sklearn.naive_bayes import MultinomialNB\n",
    "from sklearn.metrics import accuracy_score\n",
    "from sklearn.metrics import accuracy_score, confusion_matrix\n",
    "from sklearn.metrics import confusion_matrix\n",
    "from sklearn.metrics import classification_report\n",
    "from mlxtend.plotting import plot_confusion_matrix\n",
    "from sklearn.ensemble import RandomForestClassifier\n",
    "from imblearn.over_sampling import SMOTE\n",
    "from sklearn.utils.class_weight import compute_sample_weight\n",
    "from imblearn.over_sampling import RandomOverSampler"
   ]
  },
  {
   "cell_type": "code",
   "execution_count": 33,
   "id": "fc30df8a",
   "metadata": {},
   "outputs": [],
   "source": [
    "features = ['flesch_kincaid_reading_ease', 'compressed_size', 'vader_neg', 'vader_neu', 'vader_pos', 'vader_compound','num_entities']#,'pos label']\n",
    "features3 = ['flesch_kincaid_reading_ease', 'compressed_size', 'vader_pos', 'num_entities', 'pos_NOUN', 'pos_ADJ', 'pos_VERB', 'pos_ADV']\n",
    "features4 = ['flesch_kincaid_reading_ease', 'compressed_size', 'vader_pos', 'num_entities','pos_NOUN', 'pos_ADJ',\n",
    "       'pos_VERB', 'pos_ADV', 'pos_ADP', 'pos_AUX', 'pos_CCONJ',\n",
    "       'pos_DET', 'pos_INTJ', 'pos_NUM', 'pos_PART', 'pos_PRON', 'pos_PROPN',\n",
    "       'pos_PUNCT', 'pos_SCONJ', 'pos_SYM', 'pos_X']\n",
    "features5 = ['flesch_kincaid_reading_ease', 'compressed_size', 'num_entities','pos_NOUN', 'pos_ADJ',\n",
    "       'pos_VERB', 'pos_ADV', 'pos_ADP', 'pos_AUX', 'pos_CCONJ',\n",
    "       'pos_DET', 'pos_NUM', 'pos_PART', 'pos_PROPN',\n",
    "       'pos_PUNCT', 'pos_SCONJ']\n"
   ]
  },
  {
   "cell_type": "code",
   "execution_count": 70,
   "id": "1ca22543",
   "metadata": {},
   "outputs": [],
   "source": [
    "from imblearn.over_sampling import RandomOverSampler\n",
    "X = filtered_df[features5]\n",
    "\n",
    "y = filtered_df['binary label']\n",
    "\n",
    "X_train, X_test, y_train, y_test = train_test_split(X, y, test_size=0.2, random_state=42)\n",
    "\n",
    "\n",
    "ros = RandomOverSampler(random_state=42)\n",
    "X_train_resampled, y_train_resampled = ros.fit_resample(X_train, y_train)\n",
    "\n",
    "\n",
    "# Scale the features and normalize the data\n",
    "scaler = StandardScaler()\n",
    "X_train_res_scaled = scaler.fit_transform(X_train_resampled)\n",
    "X_test_scaled = scaler.transform(X_test)\n"
   ]
  },
  {
   "cell_type": "code",
   "execution_count": 71,
   "id": "491a3eb8",
   "metadata": {},
   "outputs": [
    {
     "name": "stdout",
     "output_type": "stream",
     "text": [
      "Initial number of train instances: \n",
      "Label : 0(True), counts:1676\n",
      "Label: 1(False), counts:2833\n",
      "\n",
      "Number of train instances after oversampling: \n",
      "Label : 0(True), counts:2260\n",
      "Label: 1(False), counts:2260\n",
      "\n"
     ]
    }
   ],
   "source": [
    "class_counts_init = filtered_df['binary label'].value_counts()\n",
    "print(f'Initial number of train instances: \\nLabel : 0(True), counts:{class_counts_init[0]}\\nLabel: 1(False), counts:{class_counts_init[1]}\\n')\n",
    "\n",
    "class_counts_over = pd.Series(y_train_resampled).value_counts()\n",
    "print(f'Number of train instances after oversampling: \\nLabel : 0(True), counts:{class_counts_over[0]}\\nLabel: 1(False), counts:{class_counts_over[1]}\\n')\n"
   ]
  },
  {
   "cell_type": "markdown",
   "id": "acd33852",
   "metadata": {},
   "source": [
    "### Random forrest"
   ]
  },
  {
   "cell_type": "code",
   "execution_count": 35,
   "id": "9d341a8c",
   "metadata": {},
   "outputs": [
    {
     "name": "stdout",
     "output_type": "stream",
     "text": [
      "Accuracy: 0.6263858093126385\n",
      "[[111 218]\n",
      " [119 454]]\n"
     ]
    },
    {
     "data": {
      "image/png": "[encoded data removed]",
      "text/plain": [
       "<Figure size 640x480 with 2 Axes>"
      ]
     },
     "metadata": {},
     "output_type": "display_data"
    }
   ],
   "source": [
    "clf = RandomForestClassifier(n_estimators=100, random_state=42)\n",
    "clf.fit(X_train_res_scaled, y_train_resampled)\n",
    "y_pred = clf.predict(X_test_scaled)\n",
    "\n",
    "accuracy = accuracy_score(y_test, y_pred)\n",
    "print('Accuracy:', accuracy)\n",
    "\n",
    "\n",
    "cm_2 =confusion_matrix(y_test, y_pred)\n",
    "fig, ax = plot_confusion_matrix(conf_mat=cm_2,\n",
    "                                show_absolute=True,\n",
    "                                show_normed=True,\n",
    "                                colorbar=True)\n",
    "\n",
    "# improved from 51% to 55%\n",
    "print(cm_2)"
   ]
  },
  {
   "cell_type": "code",
   "execution_count": 36,
   "id": "dce63759",
   "metadata": {},
   "outputs": [
    {
     "name": "stdout",
     "output_type": "stream",
     "text": [
      "F1 score: 0.6081564452400036\n"
     ]
    }
   ],
   "source": [
    "from sklearn.metrics import f1_score\n",
    "\n",
    "y_pred = clf.predict(X_test_scaled)\n",
    "f1 = f1_score(y_test, y_pred, average='weighted')\n",
    "print('F1 score:', f1)\n"
   ]
  },
  {
   "cell_type": "code",
   "execution_count": 41,
   "id": "5c3b4432",
   "metadata": {},
   "outputs": [
    {
     "name": "stdout",
     "output_type": "stream",
     "text": [
      "f1 score k fold crss: 0.74 (+/- 0.01)\n"
     ]
    }
   ],
   "source": [
    "kfold = KFold(n_splits=5, shuffle=True, random_state=42)\n",
    "\n",
    "scores = cross_val_score(clf, X_train_res_scaled, y_train_resampled, cv=kfold, scoring='f1_macro')\n",
    "\n",
    "print(\"f1 score k fold crss: %0.2f (+/- %0.2f)\" % (scores.mean(), scores.std()))"
   ]
  },
  {
   "cell_type": "code",
   "execution_count": null,
   "id": "6179886f",
   "metadata": {},
   "outputs": [],
   "source": []
  },
  {
   "cell_type": "markdown",
   "id": "6d85d10e",
   "metadata": {},
   "source": [
    "### Gradient  booster"
   ]
  },
  {
   "cell_type": "code",
   "execution_count": 42,
   "id": "268f3832",
   "metadata": {},
   "outputs": [
    {
     "name": "stdout",
     "output_type": "stream",
     "text": [
      "              precision    recall  f1-score   support\n",
      "\n",
      "           0       0.45      0.48      0.46       329\n",
      "           1       0.69      0.66      0.68       573\n",
      "\n",
      "    accuracy                           0.60       902\n",
      "   macro avg       0.57      0.57      0.57       902\n",
      "weighted avg       0.60      0.60      0.60       902\n",
      "\n",
      "Accuracy: 0.5953436807095344\n"
     ]
    },
    {
     "data": {
      "image/png": "[encoded data removed]",
      "text/plain": [
       "<Figure size 640x480 with 2 Axes>"
      ]
     },
     "metadata": {},
     "output_type": "display_data"
    }
   ],
   "source": [
    "from sklearn.ensemble import GradientBoostingClassifier\n",
    "from sklearn.metrics import classification_report\n",
    "\n",
    "# Instantiate the model with hyperparameters\n",
    "gb_clf = GradientBoostingClassifier(n_estimators=100, learning_rate=0.1, max_depth=3, random_state=42)\n",
    "\n",
    "# Fit the model to the training data\n",
    "gb_clf.fit(X_train_res_scaled, y_train_resampled)\n",
    "\n",
    "# Predict on the test data\n",
    "y_pred = gb_clf.predict(X_test_scaled)\n",
    "\n",
    "# Print classification report and confusion matrix\n",
    "print(classification_report(y_test, y_pred))\n",
    "\n",
    "cm_3 =confusion_matrix(y_test, y_pred)\n",
    "fig, ax = plot_confusion_matrix(conf_mat=cm_3,\n",
    "                                show_absolute=True,\n",
    "                                show_normed=True,\n",
    "                                colorbar=True)\n",
    "\n",
    "accuracy = accuracy_score(y_test, y_pred)\n",
    "print('Accuracy:', accuracy)"
   ]
  },
  {
   "cell_type": "code",
   "execution_count": 43,
   "id": "a739346b",
   "metadata": {},
   "outputs": [
    {
     "name": "stdout",
     "output_type": "stream",
     "text": [
      "Accuracy: 0.62 (+/- 0.01)\n"
     ]
    }
   ],
   "source": [
    "kfold = KFold(n_splits=5, shuffle=True, random_state=42)\n",
    "\n",
    "scores = cross_val_score(gb_clf, X_train_res_scaled, y_train_resampled, cv=kfold, scoring='accuracy')\n",
    "\n",
    "print(\"Accuracy: %0.2f (+/- %0.2f)\" % (scores.mean(), scores.std()))\n"
   ]
  },
  {
   "cell_type": "code",
   "execution_count": 44,
   "id": "dfa2eb49",
   "metadata": {},
   "outputs": [
    {
     "name": "stdout",
     "output_type": "stream",
     "text": [
      "F1 score: 0.6081564452400036\n"
     ]
    }
   ],
   "source": [
    "from sklearn.metrics import f1_score\n",
    "\n",
    "y_pred = clf.predict(X_test_scaled)\n",
    "f1 = f1_score(y_test, y_pred, average='weighted')\n",
    "print(f'F1 score: {f1}')"
   ]
  },
  {
   "cell_type": "code",
   "execution_count": 46,
   "id": "0d1dc980",
   "metadata": {},
   "outputs": [
    {
     "name": "stdout",
     "output_type": "stream",
     "text": [
      "f1 score k fold crss:0.77 (+/- 0.02)\n"
     ]
    }
   ],
   "source": [
    "kfold = KFold(n_splits=10, shuffle=True, random_state=42)\n",
    "\n",
    "scores = cross_val_score(clf, X_train_res_scaled, y_train_resampled, cv=kfold, scoring='f1_macro')\n",
    "\n",
    "print(\"f1 score k fold crss:%0.2f (+/- %0.2f)\" % (scores.mean(), scores.std()))"
   ]
  },
  {
   "cell_type": "code",
   "execution_count": 73,
   "id": "11a4b781",
   "metadata": {},
   "outputs": [
    {
     "name": "stdout",
     "output_type": "stream",
     "text": [
      "F1 score: 0.53 (+/- 0.03)\n"
     ]
    }
   ],
   "source": [
    "from sklearn.metrics import make_scorer\n",
    "# Define a scorer with f1 macro\n",
    "scorer = make_scorer(f1_score, average='macro')\n",
    "\n",
    "# Perform cross validation\n",
    "scores = cross_val_score(gb_clf, X_test, y_test, cv=kfold, scoring=scorer)\n",
    "\n",
    "print(\"F1 score: %0.2f (+/- %0.2f)\" % (scores.mean(), scores.std()))"
   ]
  },
  {
   "cell_type": "markdown",
   "id": "a288651e",
   "metadata": {},
   "source": [
    "## Baseline"
   ]
  },
  {
   "cell_type": "code",
   "execution_count": 47,
   "id": "7e7252f4",
   "metadata": {},
   "outputs": [],
   "source": [
    "from sklearn.dummy import DummyClassifier\n",
    "\n",
    "dummy_clf = DummyClassifier(strategy=\"most_frequent\")\n",
    "\n",
    "\n",
    "dummy_clf.fit(X_train_res_scaled, y_train_resampled)\n",
    "\n",
    "y_pred_majority = dummy_clf.predict(X_test_scaled)\n",
    "\n",
    "\n",
    "accuracy_majority = accuracy_score(y_test, y_pred_majority)"
   ]
  },
  {
   "cell_type": "code",
   "execution_count": 48,
   "id": "b8db2fea",
   "metadata": {},
   "outputs": [
    {
     "name": "stdout",
     "output_type": "stream",
     "text": [
      "Accuracy: 0.3647450110864745\n"
     ]
    },
    {
     "data": {
      "image/png": "[encoded data removed]",
      "text/plain": [
       "<Figure size 640x480 with 2 Axes>"
      ]
     },
     "metadata": {},
     "output_type": "display_data"
    }
   ],
   "source": [
    "print('Accuracy:', accuracy_majority)\n",
    "\n",
    "cm_2 =confusion_matrix(y_test, y_pred_majority)\n",
    "fig, ax = plot_confusion_matrix(conf_mat=cm_2,\n",
    "                                show_absolute=True,\n",
    "                                show_normed=True,\n",
    "                                colorbar=True)\n",
    "\n"
   ]
  },
  {
   "cell_type": "code",
   "execution_count": 49,
   "id": "810535a5",
   "metadata": {},
   "outputs": [
    {
     "name": "stdout",
     "output_type": "stream",
     "text": [
      "f1 score k fold crss:0.33 (+/- 0.01)\n"
     ]
    }
   ],
   "source": [
    "kfold = KFold(n_splits=10, shuffle=True, random_state=42)\n",
    "\n",
    "scores = cross_val_score(dummy_clf, X_train_res_scaled, y_train_resampled, cv=kfold, scoring='f1_macro')\n",
    "\n",
    "print(\"f1 score k fold crss:%0.2f (+/- %0.2f)\" % (scores.mean(), scores.std()))"
   ]
  },
  {
   "cell_type": "markdown",
   "id": "5647f3f9",
   "metadata": {},
   "source": [
    "## Random forrest and gradient booster"
   ]
  },
  {
   "cell_type": "code",
   "execution_count": 50,
   "id": "15694f4c",
   "metadata": {},
   "outputs": [],
   "source": [
    "from sklearn.ensemble import VotingClassifier, GradientBoostingClassifier\n",
    "\n",
    "model1 = RandomForestClassifier(n_estimators=100, random_state=42)\n",
    "model2 = GradientBoostingClassifier(random_state=42)\n",
    "\n",
    "voting_clf = VotingClassifier(estimators=[('rf', model1), ('gb', model2)], voting='hard')\n",
    "\n",
    "\n",
    "voting_clf.fit(X_train_res_scaled, y_train_resampled)\n",
    "\n",
    "\n",
    "y_pred = voting_clf.predict(X_test_scaled)\n",
    "\n",
    "accuracy = accuracy_score(y_test, y_pred)\n",
    "cm = confusion_matrix(y_test, y_pred)\n",
    "\n"
   ]
  },
  {
   "cell_type": "code",
   "execution_count": 51,
   "id": "af825585",
   "metadata": {},
   "outputs": [
    {
     "name": "stdout",
     "output_type": "stream",
     "text": [
      "Accuracy: 0.5886917960088692\n"
     ]
    },
    {
     "data": {
      "image/png": "[encoded data removed]",
      "text/plain": [
       "<Figure size 640x480 with 2 Axes>"
      ]
     },
     "metadata": {},
     "output_type": "display_data"
    }
   ],
   "source": [
    "print('Accuracy:', accuracy_score(y_test, y_pred))\n",
    "fig, ax = plot_confusion_matrix(conf_mat=cm,\n",
    "                                show_absolute=True,\n",
    "                                show_normed=True,\n",
    "                                colorbar=True)\n"
   ]
  },
  {
   "cell_type": "code",
   "execution_count": 54,
   "id": "7b439271",
   "metadata": {},
   "outputs": [
    {
     "name": "stdout",
     "output_type": "stream",
     "text": [
      "Accuracy: 0.70 (+/- 0.02)\n",
      "              precision    recall  f1-score   support\n",
      "\n",
      "           0       0.45      0.55      0.49       329\n",
      "           1       0.70      0.61      0.65       573\n",
      "\n",
      "    accuracy                           0.59       902\n",
      "   macro avg       0.58      0.58      0.57       902\n",
      "weighted avg       0.61      0.59      0.60       902\n",
      "\n"
     ]
    }
   ],
   "source": [
    "kfold = KFold(n_splits=5, shuffle=True, random_state=42)\n",
    "\n",
    "scores = cross_val_score(voting_clf, X_train_res_scaled, y_train_resampled, cv=kfold, scoring='accuracy')\n",
    "\n",
    "print(\"Accuracy: %0.2f (+/- %0.2f)\" % (scores.mean(), scores.std()))\n",
    "\n",
    "print(classification_report(y_test, y_pred))\n"
   ]
  },
  {
   "cell_type": "code",
   "execution_count": 55,
   "id": "b3560b48",
   "metadata": {},
   "outputs": [
    {
     "name": "stdout",
     "output_type": "stream",
     "text": [
      "f1 score k fold crss:0.77 (+/- 0.02)\n"
     ]
    }
   ],
   "source": [
    "kfold = KFold(n_splits=10, shuffle=True, random_state=42)\n",
    "\n",
    "scores = cross_val_score(clf, X_train_res_scaled, y_train_resampled, cv=kfold, scoring='f1_macro')\n",
    "\n",
    "print(\"f1 score k fold cross:%0.2f (+/- %0.2f)\" % (scores.mean(), scores.std()))"
   ]
  },
  {
   "cell_type": "code",
   "execution_count": null,
   "id": "c4c1435f",
   "metadata": {},
   "outputs": [],
   "source": []
  }
 ],
 "metadata": {
  "kernelspec": {
   "display_name": "Python 3 (ipykernel)",
   "language": "python",
   "name": "python3"
  },
  "language_info": {
   "codemirror_mode": {
    "name": "ipython",
    "version": 3
   },
   "file_extension": ".py",
   "mimetype": "text/x-python",
   "name": "python",
   "nbconvert_exporter": "python",
   "pygments_lexer": "ipython3",
   "version": "3.8.13"
  }
 },
 "nbformat": 4,
 "nbformat_minor": 5
}
