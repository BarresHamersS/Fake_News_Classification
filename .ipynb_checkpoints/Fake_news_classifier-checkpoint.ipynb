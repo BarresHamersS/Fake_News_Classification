{
 "cells": [
  {
   "cell_type": "markdown",
   "id": "9f16e53d",
   "metadata": {},
   "source": [
    "# Quantifying fake news based on the Quality attributes Radability and Information Complexity\n",
    "\n",
    "## General information\n",
    ">name: Sandro Barres Hamers\n",
    "<br> student number: 2727293\n",
    "<br> First accesor: Davide Ceolin\n",
    "<br> Second accessor: Jacco van Ossenbruggen\n",
    "<br> Year: 2022/2023\n",
    "<br> Programma: MSc. Information Sciences\n",
    "<br> University: Vrije Universiteit Amsterdam\n",
    "<br> Adress: De boelaan\n",
    "\n",
    "# Goal of the study 🧙\n",
    "fight fake news bal bla intro what will you find\n"
   ]
  },
  {
   "cell_type": "markdown",
   "id": "bd09cd76",
   "metadata": {},
   "source": [
    "## Installing the neccesary libraries through Pip🙌"
   ]
  },
  {
   "cell_type": "code",
   "execution_count": 1,
   "id": "55eb17fd",
   "metadata": {},
   "outputs": [
    {
     "name": "stdout",
     "output_type": "stream",
     "text": [
      "Requirement already satisfied: spacy in /Users/sandrobarreshamers/opt/anaconda3/envs/fake_new/lib/python3.8/site-packages (2.3.9)\n",
      "Requirement already satisfied: catalogue<1.1.0,>=0.0.7 in /Users/sandrobarreshamers/opt/anaconda3/envs/fake_new/lib/python3.8/site-packages (from spacy) (1.0.2)\n",
      "Requirement already satisfied: murmurhash<1.1.0,>=0.28.0 in /Users/sandrobarreshamers/opt/anaconda3/envs/fake_new/lib/python3.8/site-packages (from spacy) (1.0.9)\n",
      "Requirement already satisfied: plac<1.2.0,>=0.9.6 in /Users/sandrobarreshamers/opt/anaconda3/envs/fake_new/lib/python3.8/site-packages (from spacy) (0.9.6)\n",
      "Requirement already satisfied: setuptools in /Users/sandrobarreshamers/opt/anaconda3/envs/fake_new/lib/python3.8/site-packages (from spacy) (67.4.0)\n",
      "Requirement already satisfied: tqdm<5.0.0,>=4.38.0 in /Users/sandrobarreshamers/opt/anaconda3/envs/fake_new/lib/python3.8/site-packages (from spacy) (4.64.1)\n",
      "Requirement already satisfied: srsly<1.1.0,>=1.0.2 in /Users/sandrobarreshamers/opt/anaconda3/envs/fake_new/lib/python3.8/site-packages (from spacy) (1.0.6)\n",
      "Requirement already satisfied: numpy>=1.15.0 in /Users/sandrobarreshamers/opt/anaconda3/envs/fake_new/lib/python3.8/site-packages (from spacy) (1.21.5)\n",
      "Requirement already satisfied: thinc<7.5.0,>=7.4.1 in /Users/sandrobarreshamers/opt/anaconda3/envs/fake_new/lib/python3.8/site-packages (from spacy) (7.4.6)\n",
      "Requirement already satisfied: cymem<2.1.0,>=2.0.2 in /Users/sandrobarreshamers/opt/anaconda3/envs/fake_new/lib/python3.8/site-packages (from spacy) (2.0.7)\n",
      "Requirement already satisfied: preshed<3.1.0,>=3.0.2 in /Users/sandrobarreshamers/opt/anaconda3/envs/fake_new/lib/python3.8/site-packages (from spacy) (3.0.8)\n",
      "Requirement already satisfied: wasabi<1.1.0,>=0.4.0 in /Users/sandrobarreshamers/opt/anaconda3/envs/fake_new/lib/python3.8/site-packages (from spacy) (0.10.1)\n",
      "Requirement already satisfied: requests<3.0.0,>=2.13.0 in /Users/sandrobarreshamers/opt/anaconda3/envs/fake_new/lib/python3.8/site-packages (from spacy) (2.28.1)\n",
      "Requirement already satisfied: blis<0.8.0,>=0.4.0 in /Users/sandrobarreshamers/opt/anaconda3/envs/fake_new/lib/python3.8/site-packages (from spacy) (0.7.9)\n",
      "Requirement already satisfied: urllib3<1.27,>=1.21.1 in /Users/sandrobarreshamers/opt/anaconda3/envs/fake_new/lib/python3.8/site-packages (from requests<3.0.0,>=2.13.0->spacy) (1.26.14)\n",
      "Requirement already satisfied: charset-normalizer<3,>=2 in /Users/sandrobarreshamers/opt/anaconda3/envs/fake_new/lib/python3.8/site-packages (from requests<3.0.0,>=2.13.0->spacy) (2.0.4)\n",
      "Requirement already satisfied: idna<4,>=2.5 in /Users/sandrobarreshamers/opt/anaconda3/envs/fake_new/lib/python3.8/site-packages (from requests<3.0.0,>=2.13.0->spacy) (3.4)\n",
      "Requirement already satisfied: certifi>=2017.4.17 in /Users/sandrobarreshamers/opt/anaconda3/envs/fake_new/lib/python3.8/site-packages (from requests<3.0.0,>=2.13.0->spacy) (2022.12.7)\n",
      "\u001b[33mDEPRECATION: https://github.com/explosion/spacy-models/releases/download/en_core_web_sm-2.3.1/en_core_web_sm-2.3.1.tar.gz#egg=en_core_web_sm==2.3.1 contains an egg fragment with a non-PEP 508 name pip 25.0 will enforce this behaviour change. A possible replacement is to use the req @ url syntax, and remove the egg fragment. Discussion can be found at https://github.com/pypa/pip/issues/11617\u001b[0m\u001b[33m\n",
      "\u001b[0mCollecting en_core_web_sm==2.3.1\n",
      "  Using cached en_core_web_sm-2.3.1-py3-none-any.whl\n",
      "Requirement already satisfied: spacy<2.4.0,>=2.3.0 in /Users/sandrobarreshamers/opt/anaconda3/envs/fake_new/lib/python3.8/site-packages (from en_core_web_sm==2.3.1) (2.3.9)\n",
      "Requirement already satisfied: wasabi<1.1.0,>=0.4.0 in /Users/sandrobarreshamers/opt/anaconda3/envs/fake_new/lib/python3.8/site-packages (from spacy<2.4.0,>=2.3.0->en_core_web_sm==2.3.1) (0.10.1)\n",
      "Requirement already satisfied: tqdm<5.0.0,>=4.38.0 in /Users/sandrobarreshamers/opt/anaconda3/envs/fake_new/lib/python3.8/site-packages (from spacy<2.4.0,>=2.3.0->en_core_web_sm==2.3.1) (4.64.1)\n",
      "Requirement already satisfied: blis<0.8.0,>=0.4.0 in /Users/sandrobarreshamers/opt/anaconda3/envs/fake_new/lib/python3.8/site-packages (from spacy<2.4.0,>=2.3.0->en_core_web_sm==2.3.1) (0.7.9)\n",
      "Requirement already satisfied: thinc<7.5.0,>=7.4.1 in /Users/sandrobarreshamers/opt/anaconda3/envs/fake_new/lib/python3.8/site-packages (from spacy<2.4.0,>=2.3.0->en_core_web_sm==2.3.1) (7.4.6)\n",
      "Requirement already satisfied: requests<3.0.0,>=2.13.0 in /Users/sandrobarreshamers/opt/anaconda3/envs/fake_new/lib/python3.8/site-packages (from spacy<2.4.0,>=2.3.0->en_core_web_sm==2.3.1) (2.28.1)\n",
      "Requirement already satisfied: numpy>=1.15.0 in /Users/sandrobarreshamers/opt/anaconda3/envs/fake_new/lib/python3.8/site-packages (from spacy<2.4.0,>=2.3.0->en_core_web_sm==2.3.1) (1.21.5)\n",
      "Requirement already satisfied: murmurhash<1.1.0,>=0.28.0 in /Users/sandrobarreshamers/opt/anaconda3/envs/fake_new/lib/python3.8/site-packages (from spacy<2.4.0,>=2.3.0->en_core_web_sm==2.3.1) (1.0.9)\n",
      "Requirement already satisfied: srsly<1.1.0,>=1.0.2 in /Users/sandrobarreshamers/opt/anaconda3/envs/fake_new/lib/python3.8/site-packages (from spacy<2.4.0,>=2.3.0->en_core_web_sm==2.3.1) (1.0.6)\n",
      "Requirement already satisfied: setuptools in /Users/sandrobarreshamers/opt/anaconda3/envs/fake_new/lib/python3.8/site-packages (from spacy<2.4.0,>=2.3.0->en_core_web_sm==2.3.1) (67.4.0)\n",
      "Requirement already satisfied: preshed<3.1.0,>=3.0.2 in /Users/sandrobarreshamers/opt/anaconda3/envs/fake_new/lib/python3.8/site-packages (from spacy<2.4.0,>=2.3.0->en_core_web_sm==2.3.1) (3.0.8)\n",
      "Requirement already satisfied: cymem<2.1.0,>=2.0.2 in /Users/sandrobarreshamers/opt/anaconda3/envs/fake_new/lib/python3.8/site-packages (from spacy<2.4.0,>=2.3.0->en_core_web_sm==2.3.1) (2.0.7)\n",
      "Requirement already satisfied: plac<1.2.0,>=0.9.6 in /Users/sandrobarreshamers/opt/anaconda3/envs/fake_new/lib/python3.8/site-packages (from spacy<2.4.0,>=2.3.0->en_core_web_sm==2.3.1) (0.9.6)\n",
      "Requirement already satisfied: catalogue<1.1.0,>=0.0.7 in /Users/sandrobarreshamers/opt/anaconda3/envs/fake_new/lib/python3.8/site-packages (from spacy<2.4.0,>=2.3.0->en_core_web_sm==2.3.1) (1.0.2)\n",
      "Requirement already satisfied: idna<4,>=2.5 in /Users/sandrobarreshamers/opt/anaconda3/envs/fake_new/lib/python3.8/site-packages (from requests<3.0.0,>=2.13.0->spacy<2.4.0,>=2.3.0->en_core_web_sm==2.3.1) (3.4)\n",
      "Requirement already satisfied: urllib3<1.27,>=1.21.1 in /Users/sandrobarreshamers/opt/anaconda3/envs/fake_new/lib/python3.8/site-packages (from requests<3.0.0,>=2.13.0->spacy<2.4.0,>=2.3.0->en_core_web_sm==2.3.1) (1.26.14)\n",
      "Requirement already satisfied: charset-normalizer<3,>=2 in /Users/sandrobarreshamers/opt/anaconda3/envs/fake_new/lib/python3.8/site-packages (from requests<3.0.0,>=2.13.0->spacy<2.4.0,>=2.3.0->en_core_web_sm==2.3.1) (2.0.4)\n",
      "Requirement already satisfied: certifi>=2017.4.17 in /Users/sandrobarreshamers/opt/anaconda3/envs/fake_new/lib/python3.8/site-packages (from requests<3.0.0,>=2.13.0->spacy<2.4.0,>=2.3.0->en_core_web_sm==2.3.1) (2022.12.7)\n",
      "\u001b[38;5;2m✔ Download and installation successful\u001b[0m\n",
      "You can now load the model via spacy.load('en_core_web_sm')\n",
      "\u001b[33mDEPRECATION: https://github.com/explosion/spacy-models/releases/download/en_core_web_md-2.3.1/en_core_web_md-2.3.1.tar.gz#egg=en_core_web_md==2.3.1 contains an egg fragment with a non-PEP 508 name pip 25.0 will enforce this behaviour change. A possible replacement is to use the req @ url syntax, and remove the egg fragment. Discussion can be found at https://github.com/pypa/pip/issues/11617\u001b[0m\u001b[33m\n",
      "\u001b[0mCollecting en_core_web_md==2.3.1\n",
      "  Using cached en_core_web_md-2.3.1-py3-none-any.whl\n",
      "Requirement already satisfied: spacy<2.4.0,>=2.3.0 in /Users/sandrobarreshamers/opt/anaconda3/envs/fake_new/lib/python3.8/site-packages (from en_core_web_md==2.3.1) (2.3.9)\n",
      "Requirement already satisfied: tqdm<5.0.0,>=4.38.0 in /Users/sandrobarreshamers/opt/anaconda3/envs/fake_new/lib/python3.8/site-packages (from spacy<2.4.0,>=2.3.0->en_core_web_md==2.3.1) (4.64.1)\n",
      "Requirement already satisfied: setuptools in /Users/sandrobarreshamers/opt/anaconda3/envs/fake_new/lib/python3.8/site-packages (from spacy<2.4.0,>=2.3.0->en_core_web_md==2.3.1) (67.4.0)\n",
      "Requirement already satisfied: numpy>=1.15.0 in /Users/sandrobarreshamers/opt/anaconda3/envs/fake_new/lib/python3.8/site-packages (from spacy<2.4.0,>=2.3.0->en_core_web_md==2.3.1) (1.21.5)\n",
      "Requirement already satisfied: requests<3.0.0,>=2.13.0 in /Users/sandrobarreshamers/opt/anaconda3/envs/fake_new/lib/python3.8/site-packages (from spacy<2.4.0,>=2.3.0->en_core_web_md==2.3.1) (2.28.1)\n",
      "Requirement already satisfied: plac<1.2.0,>=0.9.6 in /Users/sandrobarreshamers/opt/anaconda3/envs/fake_new/lib/python3.8/site-packages (from spacy<2.4.0,>=2.3.0->en_core_web_md==2.3.1) (0.9.6)\n",
      "Requirement already satisfied: catalogue<1.1.0,>=0.0.7 in /Users/sandrobarreshamers/opt/anaconda3/envs/fake_new/lib/python3.8/site-packages (from spacy<2.4.0,>=2.3.0->en_core_web_md==2.3.1) (1.0.2)\n",
      "Requirement already satisfied: blis<0.8.0,>=0.4.0 in /Users/sandrobarreshamers/opt/anaconda3/envs/fake_new/lib/python3.8/site-packages (from spacy<2.4.0,>=2.3.0->en_core_web_md==2.3.1) (0.7.9)\n",
      "Requirement already satisfied: srsly<1.1.0,>=1.0.2 in /Users/sandrobarreshamers/opt/anaconda3/envs/fake_new/lib/python3.8/site-packages (from spacy<2.4.0,>=2.3.0->en_core_web_md==2.3.1) (1.0.6)\n",
      "Requirement already satisfied: wasabi<1.1.0,>=0.4.0 in /Users/sandrobarreshamers/opt/anaconda3/envs/fake_new/lib/python3.8/site-packages (from spacy<2.4.0,>=2.3.0->en_core_web_md==2.3.1) (0.10.1)\n",
      "Requirement already satisfied: murmurhash<1.1.0,>=0.28.0 in /Users/sandrobarreshamers/opt/anaconda3/envs/fake_new/lib/python3.8/site-packages (from spacy<2.4.0,>=2.3.0->en_core_web_md==2.3.1) (1.0.9)\n",
      "Requirement already satisfied: preshed<3.1.0,>=3.0.2 in /Users/sandrobarreshamers/opt/anaconda3/envs/fake_new/lib/python3.8/site-packages (from spacy<2.4.0,>=2.3.0->en_core_web_md==2.3.1) (3.0.8)\n",
      "Requirement already satisfied: cymem<2.1.0,>=2.0.2 in /Users/sandrobarreshamers/opt/anaconda3/envs/fake_new/lib/python3.8/site-packages (from spacy<2.4.0,>=2.3.0->en_core_web_md==2.3.1) (2.0.7)\n",
      "Requirement already satisfied: thinc<7.5.0,>=7.4.1 in /Users/sandrobarreshamers/opt/anaconda3/envs/fake_new/lib/python3.8/site-packages (from spacy<2.4.0,>=2.3.0->en_core_web_md==2.3.1) (7.4.6)\n"
     ]
    },
    {
     "name": "stdout",
     "output_type": "stream",
     "text": [
      "Requirement already satisfied: charset-normalizer<3,>=2 in /Users/sandrobarreshamers/opt/anaconda3/envs/fake_new/lib/python3.8/site-packages (from requests<3.0.0,>=2.13.0->spacy<2.4.0,>=2.3.0->en_core_web_md==2.3.1) (2.0.4)\n",
      "Requirement already satisfied: urllib3<1.27,>=1.21.1 in /Users/sandrobarreshamers/opt/anaconda3/envs/fake_new/lib/python3.8/site-packages (from requests<3.0.0,>=2.13.0->spacy<2.4.0,>=2.3.0->en_core_web_md==2.3.1) (1.26.14)\n",
      "Requirement already satisfied: certifi>=2017.4.17 in /Users/sandrobarreshamers/opt/anaconda3/envs/fake_new/lib/python3.8/site-packages (from requests<3.0.0,>=2.13.0->spacy<2.4.0,>=2.3.0->en_core_web_md==2.3.1) (2022.12.7)\n",
      "Requirement already satisfied: idna<4,>=2.5 in /Users/sandrobarreshamers/opt/anaconda3/envs/fake_new/lib/python3.8/site-packages (from requests<3.0.0,>=2.13.0->spacy<2.4.0,>=2.3.0->en_core_web_md==2.3.1) (3.4)\n",
      "\u001b[38;5;2m✔ Download and installation successful\u001b[0m\n",
      "You can now load the model via spacy.load('en_core_web_md')\n",
      "Requirement already satisfied: spacy-readability in /Users/sandrobarreshamers/opt/anaconda3/envs/fake_new/lib/python3.8/site-packages (1.4.1)\n",
      "Requirement already satisfied: spacy<3.0,>=2.0 in /Users/sandrobarreshamers/opt/anaconda3/envs/fake_new/lib/python3.8/site-packages (from spacy-readability) (2.3.9)\n",
      "Requirement already satisfied: syllapy<1,>=0 in /Users/sandrobarreshamers/opt/anaconda3/envs/fake_new/lib/python3.8/site-packages (from spacy-readability) (0.7.2)\n",
      "Requirement already satisfied: preshed<3.1.0,>=3.0.2 in /Users/sandrobarreshamers/opt/anaconda3/envs/fake_new/lib/python3.8/site-packages (from spacy<3.0,>=2.0->spacy-readability) (3.0.8)\n",
      "Requirement already satisfied: cymem<2.1.0,>=2.0.2 in /Users/sandrobarreshamers/opt/anaconda3/envs/fake_new/lib/python3.8/site-packages (from spacy<3.0,>=2.0->spacy-readability) (2.0.7)\n",
      "Requirement already satisfied: tqdm<5.0.0,>=4.38.0 in /Users/sandrobarreshamers/opt/anaconda3/envs/fake_new/lib/python3.8/site-packages (from spacy<3.0,>=2.0->spacy-readability) (4.64.1)\n",
      "Requirement already satisfied: catalogue<1.1.0,>=0.0.7 in /Users/sandrobarreshamers/opt/anaconda3/envs/fake_new/lib/python3.8/site-packages (from spacy<3.0,>=2.0->spacy-readability) (1.0.2)\n",
      "Requirement already satisfied: wasabi<1.1.0,>=0.4.0 in /Users/sandrobarreshamers/opt/anaconda3/envs/fake_new/lib/python3.8/site-packages (from spacy<3.0,>=2.0->spacy-readability) (0.10.1)\n",
      "Requirement already satisfied: plac<1.2.0,>=0.9.6 in /Users/sandrobarreshamers/opt/anaconda3/envs/fake_new/lib/python3.8/site-packages (from spacy<3.0,>=2.0->spacy-readability) (0.9.6)\n",
      "Requirement already satisfied: requests<3.0.0,>=2.13.0 in /Users/sandrobarreshamers/opt/anaconda3/envs/fake_new/lib/python3.8/site-packages (from spacy<3.0,>=2.0->spacy-readability) (2.28.1)\n",
      "Requirement already satisfied: murmurhash<1.1.0,>=0.28.0 in /Users/sandrobarreshamers/opt/anaconda3/envs/fake_new/lib/python3.8/site-packages (from spacy<3.0,>=2.0->spacy-readability) (1.0.9)\n",
      "Requirement already satisfied: blis<0.8.0,>=0.4.0 in /Users/sandrobarreshamers/opt/anaconda3/envs/fake_new/lib/python3.8/site-packages (from spacy<3.0,>=2.0->spacy-readability) (0.7.9)\n",
      "Requirement already satisfied: setuptools in /Users/sandrobarreshamers/opt/anaconda3/envs/fake_new/lib/python3.8/site-packages (from spacy<3.0,>=2.0->spacy-readability) (67.4.0)\n",
      "Requirement already satisfied: srsly<1.1.0,>=1.0.2 in /Users/sandrobarreshamers/opt/anaconda3/envs/fake_new/lib/python3.8/site-packages (from spacy<3.0,>=2.0->spacy-readability) (1.0.6)\n",
      "Requirement already satisfied: thinc<7.5.0,>=7.4.1 in /Users/sandrobarreshamers/opt/anaconda3/envs/fake_new/lib/python3.8/site-packages (from spacy<3.0,>=2.0->spacy-readability) (7.4.6)\n",
      "Requirement already satisfied: numpy>=1.15.0 in /Users/sandrobarreshamers/opt/anaconda3/envs/fake_new/lib/python3.8/site-packages (from spacy<3.0,>=2.0->spacy-readability) (1.21.5)\n",
      "Requirement already satisfied: idna<4,>=2.5 in /Users/sandrobarreshamers/opt/anaconda3/envs/fake_new/lib/python3.8/site-packages (from requests<3.0.0,>=2.13.0->spacy<3.0,>=2.0->spacy-readability) (3.4)\n",
      "Requirement already satisfied: urllib3<1.27,>=1.21.1 in /Users/sandrobarreshamers/opt/anaconda3/envs/fake_new/lib/python3.8/site-packages (from requests<3.0.0,>=2.13.0->spacy<3.0,>=2.0->spacy-readability) (1.26.14)\n",
      "Requirement already satisfied: charset-normalizer<3,>=2 in /Users/sandrobarreshamers/opt/anaconda3/envs/fake_new/lib/python3.8/site-packages (from requests<3.0.0,>=2.13.0->spacy<3.0,>=2.0->spacy-readability) (2.0.4)\n",
      "Requirement already satisfied: certifi>=2017.4.17 in /Users/sandrobarreshamers/opt/anaconda3/envs/fake_new/lib/python3.8/site-packages (from requests<3.0.0,>=2.13.0->spacy<3.0,>=2.0->spacy-readability) (2022.12.7)\n",
      "Requirement already satisfied: tweepy in /Users/sandrobarreshamers/opt/anaconda3/envs/fake_new/lib/python3.8/site-packages (4.12.1)\n",
      "Requirement already satisfied: requests-oauthlib<2,>=1.2.0 in /Users/sandrobarreshamers/opt/anaconda3/envs/fake_new/lib/python3.8/site-packages (from tweepy) (1.3.1)\n",
      "Requirement already satisfied: requests<3,>=2.27.0 in /Users/sandrobarreshamers/opt/anaconda3/envs/fake_new/lib/python3.8/site-packages (from tweepy) (2.28.1)\n",
      "Requirement already satisfied: oauthlib<4,>=3.2.0 in /Users/sandrobarreshamers/opt/anaconda3/envs/fake_new/lib/python3.8/site-packages (from tweepy) (3.2.2)\n",
      "Requirement already satisfied: idna<4,>=2.5 in /Users/sandrobarreshamers/opt/anaconda3/envs/fake_new/lib/python3.8/site-packages (from requests<3,>=2.27.0->tweepy) (3.4)\n",
      "Requirement already satisfied: certifi>=2017.4.17 in /Users/sandrobarreshamers/opt/anaconda3/envs/fake_new/lib/python3.8/site-packages (from requests<3,>=2.27.0->tweepy) (2022.12.7)\n",
      "Requirement already satisfied: urllib3<1.27,>=1.21.1 in /Users/sandrobarreshamers/opt/anaconda3/envs/fake_new/lib/python3.8/site-packages (from requests<3,>=2.27.0->tweepy) (1.26.14)\n",
      "Requirement already satisfied: charset-normalizer<3,>=2 in /Users/sandrobarreshamers/opt/anaconda3/envs/fake_new/lib/python3.8/site-packages (from requests<3,>=2.27.0->tweepy) (2.0.4)\n",
      "Requirement already satisfied: requests in /Users/sandrobarreshamers/opt/anaconda3/envs/fake_new/lib/python3.8/site-packages (2.28.1)\n",
      "Requirement already satisfied: charset-normalizer<3,>=2 in /Users/sandrobarreshamers/opt/anaconda3/envs/fake_new/lib/python3.8/site-packages (from requests) (2.0.4)\n",
      "Requirement already satisfied: certifi>=2017.4.17 in /Users/sandrobarreshamers/opt/anaconda3/envs/fake_new/lib/python3.8/site-packages (from requests) (2022.12.7)\n",
      "Requirement already satisfied: urllib3<1.27,>=1.21.1 in /Users/sandrobarreshamers/opt/anaconda3/envs/fake_new/lib/python3.8/site-packages (from requests) (1.26.14)\n",
      "Requirement already satisfied: idna<4,>=2.5 in /Users/sandrobarreshamers/opt/anaconda3/envs/fake_new/lib/python3.8/site-packages (from requests) (3.4)\n",
      "Requirement already satisfied: nltk in /Users/sandrobarreshamers/opt/anaconda3/envs/fake_new/lib/python3.8/site-packages (3.7)\n",
      "Requirement already satisfied: joblib in /Users/sandrobarreshamers/opt/anaconda3/envs/fake_new/lib/python3.8/site-packages (from nltk) (1.1.1)\n",
      "Requirement already satisfied: tqdm in /Users/sandrobarreshamers/opt/anaconda3/envs/fake_new/lib/python3.8/site-packages (from nltk) (4.64.1)\n",
      "Requirement already satisfied: regex>=2021.8.3 in /Users/sandrobarreshamers/opt/anaconda3/envs/fake_new/lib/python3.8/site-packages (from nltk) (2022.7.9)\n",
      "Requirement already satisfied: click in /Users/sandrobarreshamers/opt/anaconda3/envs/fake_new/lib/python3.8/site-packages (from nltk) (8.0.4)\n",
      "Requirement already satisfied: vaderSentiment in /Users/sandrobarreshamers/opt/anaconda3/envs/fake_new/lib/python3.8/site-packages (3.3.2)\n",
      "Requirement already satisfied: requests in /Users/sandrobarreshamers/opt/anaconda3/envs/fake_new/lib/python3.8/site-packages (from vaderSentiment) (2.28.1)\n",
      "Requirement already satisfied: idna<4,>=2.5 in /Users/sandrobarreshamers/opt/anaconda3/envs/fake_new/lib/python3.8/site-packages (from requests->vaderSentiment) (3.4)\n",
      "Requirement already satisfied: certifi>=2017.4.17 in /Users/sandrobarreshamers/opt/anaconda3/envs/fake_new/lib/python3.8/site-packages (from requests->vaderSentiment) (2022.12.7)\n",
      "Requirement already satisfied: urllib3<1.27,>=1.21.1 in /Users/sandrobarreshamers/opt/anaconda3/envs/fake_new/lib/python3.8/site-packages (from requests->vaderSentiment) (1.26.14)\n",
      "Requirement already satisfied: charset-normalizer<3,>=2 in /Users/sandrobarreshamers/opt/anaconda3/envs/fake_new/lib/python3.8/site-packages (from requests->vaderSentiment) (2.0.4)\n"
     ]
    }
   ],
   "source": [
    "!pip install spacy\n",
    "!python -m spacy download en_core_web_sm\n",
    "!python -m spacy download en_core_web_md\n",
    "!pip install spacy-readability\n",
    "!pip install tweepy\n",
    "!pip install requests\n",
    "!pip install nltk\n",
    "!pip install vaderSentiment"
   ]
  },
  {
   "cell_type": "code",
   "execution_count": 2,
   "id": "a69155b1",
   "metadata": {},
   "outputs": [
    {
     "name": "stdout",
     "output_type": "stream",
     "text": [
      "\u001b[2K\u001b[38;5;2m✔ Loaded compatibility table\u001b[0m\n",
      "\u001b[1m\n",
      "====================== Installed models (spaCy v2.3.9) ======================\u001b[0m\n",
      "\u001b[38;5;4mℹ spaCy installation:\n",
      "/Users/sandrobarreshamers/opt/anaconda3/envs/fake_new/lib/python3.8/site-packages/spacy\u001b[0m\n",
      "\n",
      "TYPE      NAME             MODEL            VERSION                            \n",
      "package   en-core-web-lg   en_core_web_lg   \u001b[38;5;1m3.5.0\u001b[0m   --> 2.3.1     \n",
      "package   en-core-web-md   en_core_web_md   \u001b[38;5;2m2.3.1\u001b[0m   \u001b[38;5;2m✔\u001b[0m\n",
      "package   en-core-web-sm   en_core_web_sm   \u001b[38;5;2m2.3.1\u001b[0m   \u001b[38;5;2m✔\u001b[0m\n",
      "\n",
      "\u001b[1m\n",
      "============================== Install updates ==============================\u001b[0m\n",
      "Use the following commands to update the model packages:\n",
      "python -m spacy download en_core_web_lg\n",
      "\n"
     ]
    }
   ],
   "source": [
    "!python -m spacy validate"
   ]
  },
  {
   "cell_type": "code",
   "execution_count": 3,
   "id": "8f79c02d",
   "metadata": {},
   "outputs": [],
   "source": [
    "# Import libraries \n",
    "\n",
    "#basic libraries\n",
    "import os\n",
    "import pandas as pd \n",
    "import numpy\n",
    "\n",
    "#Libraries used to compete QA's\n",
    "import sys\n",
    "import gzip\n",
    "\n",
    "#Spacy libraries\n",
    "import spacy\n",
    "from spacy.lang.en import English\n",
    "from spacy.matcher import Matcher, PhraseMatcher\n",
    "from spacy.tokens import Doc, Span\n",
    "from spacy.language import Language\n",
    "from spacy_readability import Readability\n",
    "\n",
    "#NLTK libraries for sentiment analysis VADER\n",
    "import nltk\n",
    "from vaderSentiment.vaderSentiment import SentimentIntensityAnalyzer\n",
    "\n",
    "\n",
    "#Twitter API libraries\n",
    "import requests\n",
    "import json\n",
    "import time\n",
    "import random\n",
    "import tweepy\n",
    "\n",
    "#Visiualization and ML libraries\n",
    "import sklearn\n",
    "import matplotlib\n",
    "\n"
   ]
  },
  {
   "cell_type": "markdown",
   "id": "7320cdd7",
   "metadata": {},
   "source": [
    "## Importing the Tweet ID's retrieved from the Covaxxy dataset 👽"
   ]
  },
  {
   "cell_type": "code",
   "execution_count": 4,
   "id": "703b7e25",
   "metadata": {},
   "outputs": [
    {
     "name": "stdout",
     "output_type": "stream",
     "text": [
      "Files in '/Users/sandrobarreshamers/Thesis_IS_fake_news': ['.DS_Store', '.ipynb_checkpoints', 'Data', 'Fake_news_classifier.ipynb', 'covid19_tweets.csv']\n"
     ]
    }
   ],
   "source": [
    "# Get the current working directory (cwd)\n",
    "cwd = os.getcwd()  \n",
    "# Get all the files in that directory\n",
    "files = os.listdir(cwd)  \n",
    "print(\"Files in %r: %s\" % (cwd, files))"
   ]
  },
  {
   "cell_type": "code",
   "execution_count": 5,
   "id": "80efdb83",
   "metadata": {},
   "outputs": [
    {
     "data": {
      "text/html": [
       "<div>\n",
       "<style scoped>\n",
       "    .dataframe tbody tr th:only-of-type {\n",
       "        vertical-align: middle;\n",
       "    }\n",
       "\n",
       "    .dataframe tbody tr th {\n",
       "        vertical-align: top;\n",
       "    }\n",
       "\n",
       "    .dataframe thead th {\n",
       "        text-align: right;\n",
       "    }\n",
       "</style>\n",
       "<table border=\"1\" class=\"dataframe\">\n",
       "  <thead>\n",
       "    <tr style=\"text-align: right;\">\n",
       "      <th></th>\n",
       "      <th>1345891906824318988</th>\n",
       "    </tr>\n",
       "  </thead>\n",
       "  <tbody>\n",
       "    <tr>\n",
       "      <th>0</th>\n",
       "      <td>1345891907013115905</td>\n",
       "    </tr>\n",
       "    <tr>\n",
       "      <th>1</th>\n",
       "      <td>1345891907403194373</td>\n",
       "    </tr>\n",
       "    <tr>\n",
       "      <th>2</th>\n",
       "      <td>1345891907935891458</td>\n",
       "    </tr>\n",
       "    <tr>\n",
       "      <th>3</th>\n",
       "      <td>1345891909265469442</td>\n",
       "    </tr>\n",
       "    <tr>\n",
       "      <th>4</th>\n",
       "      <td>1345891910364377088</td>\n",
       "    </tr>\n",
       "  </tbody>\n",
       "</table>\n",
       "</div>"
      ],
      "text/plain": [
       "   1345891906824318988\n",
       "0  1345891907013115905\n",
       "1  1345891907403194373\n",
       "2  1345891907935891458\n",
       "3  1345891909265469442\n",
       "4  1345891910364377088"
      ]
     },
     "execution_count": 5,
     "metadata": {},
     "output_type": "execute_result"
    }
   ],
   "source": [
    "#import keywords dataset\n",
    "df_keywords = pd.read_csv('../Thesis_IS_fake_news/Data/data_zenedo_2021-01-04_2021_02-02/keywords.txt',sep='\\t')\n",
    "\n",
    "#import the dataset of 2021-01-04\n",
    "df_1 = pd.read_csv('../Thesis_IS_fake_news/Data/data_zenedo_2021-01-04_2021_02-02/tweet_ids--2021-01-04.txt',sep='\\t')\n",
    "df_1.head()"
   ]
  },
  {
   "cell_type": "code",
   "execution_count": 6,
   "id": "4c7a3b58",
   "metadata": {},
   "outputs": [
    {
     "data": {
      "text/html": [
       "<div>\n",
       "<style scoped>\n",
       "    .dataframe tbody tr th:only-of-type {\n",
       "        vertical-align: middle;\n",
       "    }\n",
       "\n",
       "    .dataframe tbody tr th {\n",
       "        vertical-align: top;\n",
       "    }\n",
       "\n",
       "    .dataframe thead th {\n",
       "        text-align: right;\n",
       "    }\n",
       "</style>\n",
       "<table border=\"1\" class=\"dataframe\">\n",
       "  <thead>\n",
       "    <tr style=\"text-align: right;\">\n",
       "      <th></th>\n",
       "      <th>user_name</th>\n",
       "      <th>user_location</th>\n",
       "      <th>user_description</th>\n",
       "      <th>user_created</th>\n",
       "      <th>user_followers</th>\n",
       "      <th>user_friends</th>\n",
       "      <th>user_favourites</th>\n",
       "      <th>user_verified</th>\n",
       "      <th>date</th>\n",
       "      <th>text</th>\n",
       "      <th>hashtags</th>\n",
       "      <th>source</th>\n",
       "      <th>is_retweet</th>\n",
       "    </tr>\n",
       "  </thead>\n",
       "  <tbody>\n",
       "    <tr>\n",
       "      <th>0</th>\n",
       "      <td>ᏉᎥ☻լꂅϮ</td>\n",
       "      <td>astroworld</td>\n",
       "      <td>wednesday addams as a disney princess keepin i...</td>\n",
       "      <td>2017-05-26 05:46:42</td>\n",
       "      <td>624</td>\n",
       "      <td>950</td>\n",
       "      <td>18775</td>\n",
       "      <td>False</td>\n",
       "      <td>2020-07-25 12:27:21</td>\n",
       "      <td>If I smelled the scent of hand sanitizers toda...</td>\n",
       "      <td>NaN</td>\n",
       "      <td>Twitter for iPhone</td>\n",
       "      <td>False</td>\n",
       "    </tr>\n",
       "    <tr>\n",
       "      <th>1</th>\n",
       "      <td>Tom Basile 🇺🇸</td>\n",
       "      <td>New York, NY</td>\n",
       "      <td>Husband, Father, Columnist &amp; Commentator. Auth...</td>\n",
       "      <td>2009-04-16 20:06:23</td>\n",
       "      <td>2253</td>\n",
       "      <td>1677</td>\n",
       "      <td>24</td>\n",
       "      <td>True</td>\n",
       "      <td>2020-07-25 12:27:17</td>\n",
       "      <td>Hey @Yankees @YankeesPR and @MLB - wouldn't it...</td>\n",
       "      <td>NaN</td>\n",
       "      <td>Twitter for Android</td>\n",
       "      <td>False</td>\n",
       "    </tr>\n",
       "    <tr>\n",
       "      <th>2</th>\n",
       "      <td>Time4fisticuffs</td>\n",
       "      <td>Pewee Valley, KY</td>\n",
       "      <td>#Christian #Catholic #Conservative #Reagan #Re...</td>\n",
       "      <td>2009-02-28 18:57:41</td>\n",
       "      <td>9275</td>\n",
       "      <td>9525</td>\n",
       "      <td>7254</td>\n",
       "      <td>False</td>\n",
       "      <td>2020-07-25 12:27:14</td>\n",
       "      <td>@diane3443 @wdunlap @realDonaldTrump Trump nev...</td>\n",
       "      <td>['COVID19']</td>\n",
       "      <td>Twitter for Android</td>\n",
       "      <td>False</td>\n",
       "    </tr>\n",
       "    <tr>\n",
       "      <th>3</th>\n",
       "      <td>ethel mertz</td>\n",
       "      <td>Stuck in the Middle</td>\n",
       "      <td>#Browns #Indians #ClevelandProud #[]_[] #Cavs ...</td>\n",
       "      <td>2019-03-07 01:45:06</td>\n",
       "      <td>197</td>\n",
       "      <td>987</td>\n",
       "      <td>1488</td>\n",
       "      <td>False</td>\n",
       "      <td>2020-07-25 12:27:10</td>\n",
       "      <td>@brookbanktv The one gift #COVID19 has give me...</td>\n",
       "      <td>['COVID19']</td>\n",
       "      <td>Twitter for iPhone</td>\n",
       "      <td>False</td>\n",
       "    </tr>\n",
       "    <tr>\n",
       "      <th>4</th>\n",
       "      <td>DIPR-J&amp;K</td>\n",
       "      <td>Jammu and Kashmir</td>\n",
       "      <td>🖊️Official Twitter handle of Department of Inf...</td>\n",
       "      <td>2017-02-12 06:45:15</td>\n",
       "      <td>101009</td>\n",
       "      <td>168</td>\n",
       "      <td>101</td>\n",
       "      <td>False</td>\n",
       "      <td>2020-07-25 12:27:08</td>\n",
       "      <td>25 July : Media Bulletin on Novel #CoronaVirus...</td>\n",
       "      <td>['CoronaVirusUpdates', 'COVID19']</td>\n",
       "      <td>Twitter for Android</td>\n",
       "      <td>False</td>\n",
       "    </tr>\n",
       "  </tbody>\n",
       "</table>\n",
       "</div>"
      ],
      "text/plain": [
       "         user_name         user_location  \\\n",
       "0           ᏉᎥ☻լꂅϮ            astroworld   \n",
       "1    Tom Basile 🇺🇸          New York, NY   \n",
       "2  Time4fisticuffs      Pewee Valley, KY   \n",
       "3      ethel mertz  Stuck in the Middle    \n",
       "4         DIPR-J&K     Jammu and Kashmir   \n",
       "\n",
       "                                    user_description         user_created  \\\n",
       "0  wednesday addams as a disney princess keepin i...  2017-05-26 05:46:42   \n",
       "1  Husband, Father, Columnist & Commentator. Auth...  2009-04-16 20:06:23   \n",
       "2  #Christian #Catholic #Conservative #Reagan #Re...  2009-02-28 18:57:41   \n",
       "3  #Browns #Indians #ClevelandProud #[]_[] #Cavs ...  2019-03-07 01:45:06   \n",
       "4  🖊️Official Twitter handle of Department of Inf...  2017-02-12 06:45:15   \n",
       "\n",
       "   user_followers  user_friends  user_favourites  user_verified  \\\n",
       "0             624           950            18775          False   \n",
       "1            2253          1677               24           True   \n",
       "2            9275          9525             7254          False   \n",
       "3             197           987             1488          False   \n",
       "4          101009           168              101          False   \n",
       "\n",
       "                  date                                               text  \\\n",
       "0  2020-07-25 12:27:21  If I smelled the scent of hand sanitizers toda...   \n",
       "1  2020-07-25 12:27:17  Hey @Yankees @YankeesPR and @MLB - wouldn't it...   \n",
       "2  2020-07-25 12:27:14  @diane3443 @wdunlap @realDonaldTrump Trump nev...   \n",
       "3  2020-07-25 12:27:10  @brookbanktv The one gift #COVID19 has give me...   \n",
       "4  2020-07-25 12:27:08  25 July : Media Bulletin on Novel #CoronaVirus...   \n",
       "\n",
       "                            hashtags               source  is_retweet  \n",
       "0                                NaN   Twitter for iPhone       False  \n",
       "1                                NaN  Twitter for Android       False  \n",
       "2                        ['COVID19']  Twitter for Android       False  \n",
       "3                        ['COVID19']   Twitter for iPhone       False  \n",
       "4  ['CoronaVirusUpdates', 'COVID19']  Twitter for Android       False  "
      ]
     },
     "execution_count": 6,
     "metadata": {},
     "output_type": "execute_result"
    }
   ],
   "source": [
    "#https://www.kaggle.com/datasets/gpreda/covid19-tweets?resource=download\n",
    "df_covid = pd.read_csv('../Thesis_IS_fake_news/covid19_tweets.csv')\n",
    "df_covid.head()\n"
   ]
  },
  {
   "cell_type": "markdown",
   "id": "4c185c3c",
   "metadata": {},
   "source": [
    "## Importing Spacy and instanciating the Quality attributes 🚀🚀\n",
    "\n",
    "This section instanciates all the methods, functions and more that are responsible for computing the Quality attibutes: Readability, Information Complexity and Sentiment."
   ]
  },
  {
   "cell_type": "markdown",
   "id": "38fc348c",
   "metadata": {},
   "source": [
    "### Readability 📜"
   ]
  },
  {
   "cell_type": "code",
   "execution_count": 7,
   "id": "cc4374ba",
   "metadata": {},
   "outputs": [],
   "source": [
    "# Load the medium English model\n",
    "nlp = spacy.load('en_core_web_md')\n",
    "\n",
    "# define readability function\n",
    "def readability_computation(doc):\n",
    "    #instanciate readability attribute\n",
    "    read = Readability()\n",
    "    \n",
    "    #compute different readability scores\n",
    "    flesch_kincaid_reading_ease = doc._.flesch_kincaid_reading_ease\n",
    "\n",
    "    #print(\"The flesch_kincaid_reading_ease for this document is {} \".format(flesch_kincaid_reading_ease))\n",
    " \n",
    "    # Return the doc\n",
    "    return doc\n",
    "\n",
    "\n",
    "# Add the component first in the pipeline and print the pipe names\n",
    "nlp.add_pipe(readability_computation, last=True)\n",
    "\n"
   ]
  },
  {
   "cell_type": "markdown",
   "id": "b1c11740",
   "metadata": {},
   "source": [
    "### Infromation Complexity🔣"
   ]
  },
  {
   "cell_type": "code",
   "execution_count": 8,
   "id": "05909690",
   "metadata": {},
   "outputs": [],
   "source": [
    "# Since compressed size is no standard attribute, I need to Define a custom attribute on the Doc \n",
    "# which becomes available via Doc._.\n",
    "Doc.set_extension('compressed_size', default=None,force=True)\n",
    "\n",
    "# define readability function\n",
    "def compress_doc(doc):\n",
    "    # your compression code here\n",
    "    # Serialize the Doc object\n",
    "    serialized_doc = doc.to_bytes()\n",
    "\n",
    "    # Compress the serialized data using gzip\n",
    "    compressed_data = gzip.compress(serialized_doc)\n",
    "\n",
    "    # Compute the size of the compressed data\n",
    "    compressed_size = sys.getsizeof(compressed_data)\n",
    "\n",
    "    # Set the value of the `compressed_size` attribute\n",
    "    doc._.compressed_size = compressed_size\n",
    "    #print(\"The information complexity for this document is {} bits\".format(compressed_size))\n",
    "    \n",
    "    return doc\n",
    "\n",
    "nlp.add_pipe(compress_doc, last=True)"
   ]
  },
  {
   "cell_type": "markdown",
   "id": "9af2e32b",
   "metadata": {},
   "source": [
    "### Sentiment of tex🤬"
   ]
  },
  {
   "cell_type": "code",
   "execution_count": 35,
   "id": "8b240141",
   "metadata": {},
   "outputs": [
    {
     "name": "stderr",
     "output_type": "stream",
     "text": [
      "[nltk_data] Downloading package vader_lexicon to\n",
      "[nltk_data]     /Users/sandrobarreshamers/nltk_data...\n",
      "[nltk_data]   Package vader_lexicon is already up-to-date!\n"
     ]
    },
    {
     "data": {
      "text/plain": [
       "{'neg': 0.0, 'neu': 0.545, 'pos': 0.455, 'compound': 0.8259}"
      ]
     },
     "execution_count": 35,
     "metadata": {},
     "output_type": "execute_result"
    }
   ],
   "source": [
    "nltk.download('vader_lexicon')\n",
    "\n",
    "def VADER_score(text):\n",
    "    #instanciate the analayzer\n",
    "    analyzer = SentimentIntensityAnalyzer()\n",
    "    \n",
    "    # Process the sentence with Spacy\n",
    "    doc = nlp(text)\n",
    "    \n",
    "    # Use VADER to analyze the sentiment of the sentence\n",
    "    vader_scores = analyzer.polarity_scores(text)\n",
    "    \n",
    "    return vader_scores\n",
    "    \n",
    "\n",
    "VADER_score('I really FUCKING love the music of Aphex Twin!!!!')\n"
   ]
  },
  {
   "cell_type": "code",
   "execution_count": 10,
   "id": "ae5ca637",
   "metadata": {},
   "outputs": [
    {
     "name": "stdout",
     "output_type": "stream",
     "text": [
      "['tagger', 'parser', 'ner', 'readability_computation', 'compress_doc']\n"
     ]
    }
   ],
   "source": [
    "#print pipe line items          \n",
    "print(nlp.pipe_names)"
   ]
  },
  {
   "cell_type": "code",
   "execution_count": 11,
   "id": "36f127f8",
   "metadata": {},
   "outputs": [
    {
     "name": "stdout",
     "output_type": "stream",
     "text": [
      "Completely random 280 charachter UTF string: \n",
      "\n",
      "7T<\u000b",
      "1\n",
      "K<K>oO}`C;^Ag^4hj$?-\f",
      "%BmJ{2cyr%&=\f",
      "rHh\\<:8}zN\f",
      "jufe\\k*.!nFsvYDN< AN(w,>OcM&! 8L{\n",
      "\n",
      "zh,eLcW94.e,$%{D7_4r^KRb,EV\t\t =z+d|U8exFi9~O@=R$ukJk:P\n",
      "C.2\n",
      "1x1AF5lLSH{Q<'J\u000b",
      "D)zz#h3lN\"s[w*C._xr*bsPXB<Cr/._`?4P0)!98sHejU'g ,CU~['ntctu7kEUnE<\f",
      "911=\t {Km:=;2NRGrN{3X^p\r",
      "Hq\t_\r",
      "Qt,i} ;.u{1ieaolI=.xP`,\n",
      "\n",
      "\n",
      "No charachter: input: \n",
      "\n",
      "maximum amount of charahcters random utf chrachters \n"
     ]
    }
   ],
   "source": [
    "import random\n",
    "import string\n",
    "\n",
    "random_280_string = ''.join(random.choices(string.printable, k=280))\n",
    "\n",
    "print(\"Completely random 280 charachter UTF string: \")\n",
    "print(\"\")\n",
    "print(random_280_string)\n",
    "print(\"\")\n",
    "print(\"\")\n",
    "print(\"No charachter: input: \")\n",
    "doc_zero = nlp('')\n",
    "\n",
    "print(\"\")\n",
    "print(\"maximum amount of charahcters random utf chrachters \")\n",
    "doc_test = nlp(random_280_string)\n"
   ]
  },
  {
   "cell_type": "code",
   "execution_count": 12,
   "id": "92a44c74",
   "metadata": {
    "scrolled": true
   },
   "outputs": [
    {
     "name": "stdout",
     "output_type": "stream",
     "text": [
      "cdc: realiable news\n",
      "\n",
      "\n",
      "fake news\n"
     ]
    }
   ],
   "source": [
    "#Small test on computing the different scores\n",
    "print('cdc: realiable news')\n",
    "doc_cdc = nlp('This month marks two years since the first #COVID19 vaccine was administered in the U.S. Although too many lives have been lost to COVID-19, vaccination has helped save millions of lives. ')\n",
    "\n",
    "print(\"\")\n",
    "print(\"\")\n",
    "#tweet_id: 1344731663490666496 source: https://github.com/sakibsh/ANTiVax/blob/main/Labeled/VaxMisinfoData.csv\n",
    "print('fake news')\n",
    "doc_fake_news = nlp(\"The Pros of 2020 1. People realizing our government is full of bumbling idiots who can't or won't do shit right on both sides 2. Chiefs won the Super Biwl 3. People not taking an untested vaccine 4. God is always in time and is good\")\n",
    "\n"
   ]
  },
  {
   "cell_type": "markdown",
   "id": "6fe8970d",
   "metadata": {},
   "source": [
    "## Pipe drive dev🏛\n",
    "\n",
    "to add basic info\n"
   ]
  },
  {
   "cell_type": "code",
   "execution_count": 24,
   "id": "752176ad",
   "metadata": {},
   "outputs": [
    {
     "name": "stdout",
     "output_type": "stream",
     "text": [
      "         user_name     user_location  \\\n",
      "0           ᏉᎥ☻լꂅϮ        astroworld   \n",
      "1    Tom Basile 🇺🇸      New York, NY   \n",
      "2  Time4fisticuffs  Pewee Valley, KY   \n",
      "\n",
      "                                    user_description         user_created  \\\n",
      "0  wednesday addams as a disney princess keepin i...  2017-05-26 05:46:42   \n",
      "1  Husband, Father, Columnist & Commentator. Auth...  2009-04-16 20:06:23   \n",
      "2  #Christian #Catholic #Conservative #Reagan #Re...  2009-02-28 18:57:41   \n",
      "\n",
      "   user_followers  user_friends  user_favourites  user_verified  \\\n",
      "0             624           950            18775          False   \n",
      "1            2253          1677               24           True   \n",
      "2            9275          9525             7254          False   \n",
      "\n",
      "                  date                                               text  \\\n",
      "0  2020-07-25 12:27:21  If I smelled the scent of hand sanitizers toda...   \n",
      "1  2020-07-25 12:27:17  Hey @Yankees @YankeesPR and @MLB - wouldn't it...   \n",
      "2  2020-07-25 12:27:14  @diane3443 @wdunlap @realDonaldTrump Trump nev...   \n",
      "\n",
      "      hashtags               source  is_retweet  \n",
      "0          NaN   Twitter for iPhone       False  \n",
      "1          NaN  Twitter for Android       False  \n",
      "2  ['COVID19']  Twitter for Android       False  \n"
     ]
    }
   ],
   "source": [
    "# making a small dataset otherwise python is loading for decades\n",
    "df_covid_small = df_covid.head(3).rename(columns={'old_col_name': 'new_col_name'})\n",
    "\n",
    "print(df_covid_small)"
   ]
  },
  {
   "cell_type": "code",
   "execution_count": 30,
   "id": "2c1ca66f",
   "metadata": {},
   "outputs": [
    {
     "name": "stdout",
     "output_type": "stream",
     "text": [
      "         user_name     user_location  \\\n",
      "0           ᏉᎥ☻լꂅϮ        astroworld   \n",
      "1    Tom Basile 🇺🇸      New York, NY   \n",
      "2  Time4fisticuffs  Pewee Valley, KY   \n",
      "\n",
      "                                    user_description         user_created  \\\n",
      "0  wednesday addams as a disney princess keepin i...  2017-05-26 05:46:42   \n",
      "1  Husband, Father, Columnist & Commentator. Auth...  2009-04-16 20:06:23   \n",
      "2  #Christian #Catholic #Conservative #Reagan #Re...  2009-02-28 18:57:41   \n",
      "\n",
      "   user_followers  user_friends  user_favourites  user_verified  \\\n",
      "0             624           950            18775          False   \n",
      "1            2253          1677               24           True   \n",
      "2            9275          9525             7254          False   \n",
      "\n",
      "                  date                                               text  \\\n",
      "0  2020-07-25 12:27:21  If I smelled the scent of hand sanitizers toda...   \n",
      "1  2020-07-25 12:27:17  Hey @Yankees @YankeesPR and @MLB - wouldn't it...   \n",
      "2  2020-07-25 12:27:14  @diane3443 @wdunlap @realDonaldTrump Trump nev...   \n",
      "\n",
      "   ... Readability_Tweet Info_complexity_Tweet  vader_scores  \\\n",
      "0  ...               NaN                   NaN           NaN   \n",
      "1  ...               NaN                   NaN           NaN   \n",
      "2  ...               NaN                   NaN           NaN   \n",
      "\n",
      "                                      processed_text  \\\n",
      "0  {'flesch_kincaid_reading_ease': 77.45815217391...   \n",
      "1  {'flesch_kincaid_reading_ease': 103.3790909090...   \n",
      "2  {'flesch_kincaid_reading_ease': 94.78197368421...   \n",
      "\n",
      "  flesch_kincaid_reading_ease compressed_size vader_neg  vader_neu  vader_pos  \\\n",
      "0                   77.458152         10304.0     0.000      0.873      0.127   \n",
      "1                  103.379091         10373.0     0.057      0.850      0.093   \n",
      "2                   94.781974          9237.0     0.104      0.896      0.000   \n",
      "\n",
      "   vader_compound  \n",
      "0          0.4939  \n",
      "1          0.2263  \n",
      "2         -0.2732  \n",
      "\n",
      "[3 rows x 23 columns]\n"
     ]
    }
   ],
   "source": [
    "# This fucntion calls all the pipe line elements and computes the different scores\n",
    "def process_text(text):\n",
    "    # Process the text with the NLP pipeline\n",
    "    doc = nlp(text)\n",
    "    \n",
    "    # Compute readability\n",
    "    doc = readability_computation(doc)\n",
    "    flesch_kincaid_reading_ease = doc._.flesch_kincaid_reading_ease\n",
    "    \n",
    "    # Compress the document\n",
    "    doc = compress_doc(doc)\n",
    "    compressed_size = doc._.compressed_size\n",
    "    \n",
    "    # Compute VADER scores\n",
    "    vader_scores = VADER_score(text)\n",
    "    \n",
    "    #save different VADER scores sperately\n",
    "    vader_neg = vader_scores['neg']\n",
    "    vader_neu = vader_scores['neu']\n",
    "    vader_pos = vader_scores['pos']\n",
    "    vader_compound = vader_scores['compound']\n",
    "    \n",
    "    return flesch_kincaid_reading_ease, compressed_size, vader_neg, vader_neu, vader_pos, vader_compound\n",
    "\n",
    "\n",
    "# add process text function to the text column and save values in seperate columns\n",
    "df_covid_small[['flesch_kincaid_reading_ease', 'compressed_size', 'vader_neg', 'vader_neu', 'vader_pos', 'vader_compound']] = df_covid_small['text'].apply(process_text).apply(pd.Series)\n",
    "\n",
    "print(df_covid_small)"
   ]
  },
  {
   "cell_type": "markdown",
   "id": "39c9d278",
   "metadata": {},
   "source": [
    "### Creating features"
   ]
  },
  {
   "cell_type": "code",
   "execution_count": 33,
   "id": "ea95fb54",
   "metadata": {},
   "outputs": [
    {
     "name": "stdout",
     "output_type": "stream",
     "text": [
      "[[ 7.74581522e+01  1.03040000e+04  0.00000000e+00  8.73000000e-01\n",
      "   1.27000000e-01  4.93900000e-01]\n",
      " [ 1.03379091e+02  1.03730000e+04  5.70000000e-02  8.50000000e-01\n",
      "   9.30000000e-02  2.26300000e-01]\n",
      " [ 9.47819737e+01  9.23700000e+03  1.04000000e-01  8.96000000e-01\n",
      "   0.00000000e+00 -2.73200000e-01]]\n"
     ]
    }
   ],
   "source": [
    "# Select Qa's to use them as labels for the ML models\n",
    "features_df = df_covid_small[['flesch_kincaid_reading_ease', 'compressed_size', 'vader_neg', 'vader_neu', 'vader_pos', 'vader_compound' ]]\n",
    "\n",
    "# convert the dataframe to a numpy array so that the ML model can read its values\n",
    "features_array = features_df.values\n",
    "\n",
    "print(features_array)\n"
   ]
  },
  {
   "cell_type": "code",
   "execution_count": null,
   "id": "a78051c7",
   "metadata": {},
   "outputs": [],
   "source": []
  },
  {
   "cell_type": "code",
   "execution_count": null,
   "id": "26379bfb",
   "metadata": {},
   "outputs": [],
   "source": []
  },
  {
   "cell_type": "code",
   "execution_count": null,
   "id": "ad2f2a7f",
   "metadata": {},
   "outputs": [],
   "source": []
  },
  {
   "cell_type": "code",
   "execution_count": null,
   "id": "8689baaa",
   "metadata": {},
   "outputs": [],
   "source": []
  },
  {
   "cell_type": "code",
   "execution_count": null,
   "id": "910c1a4f",
   "metadata": {},
   "outputs": [],
   "source": []
  },
  {
   "cell_type": "code",
   "execution_count": null,
   "id": "0d77930d",
   "metadata": {},
   "outputs": [],
   "source": []
  }
 ],
 "metadata": {
  "kernelspec": {
   "display_name": "Python 3 (ipykernel)",
   "language": "python",
   "name": "python3"
  },
  "language_info": {
   "codemirror_mode": {
    "name": "ipython",
    "version": 3
   },
   "file_extension": ".py",
   "mimetype": "text/x-python",
   "name": "python",
   "nbconvert_exporter": "python",
   "pygments_lexer": "ipython3",
   "version": "3.8.13"
  }
 },
 "nbformat": 4,
 "nbformat_minor": 5
}
